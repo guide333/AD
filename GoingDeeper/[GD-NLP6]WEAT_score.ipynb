{
 "cells": [
  {
   "cell_type": "markdown",
   "id": "hairy-animation",
   "metadata": {},
   "source": [
    "# 6. WEAT(Word Embedding Association Test) Score\n",
    "## 노드 정리\n",
    "Word Embedding Association Test (WEAT): 는 임베딩 모델의 편향을 측정하는 방식 중 하나로, 2016년에 Aylin Caliskan이 제안했다.\n",
    "\n",
    "- 논문 원본 : [Semantics derived automatically from language corpora necessarily contain human biases](https://arxiv.org/pdf/1608.07187.pdf)\n",
    "\n",
    "WEAT는 Male과 Female, Science와 Art라는 개념을 가장 잘 대표하는 단어들을 여러 개 골라 단어 셋(set)을 만들고, 단어 셋에 속한 모든 단어들끼리의 편향성을 전부 계산한 후 평균 수치화해 편향성이 존재함을 밝혔다. \n",
    "\n",
    "- target:  Science와 Art를 대표하는 단어 셋 \n",
    "- attribute: Male과 Female을 대표하는 단어 셋\n",
    "\n",
    "\n",
    "- Science를 대표하는 target 단어 셋 X와 Art를 대표하는 target 단어 셋 Y -> X-Y 셋을 통한 개념축 하나     \n",
    "- Male을 대표하는 attribute 단어 셋 A와 Female을 대표하는 attribute 단어 셋 B -> A-B 셋을 통한 개념축 하나   \n",
    "\n",
    "편향성이 없다면, X에 속한 단어들은 A에 속한 단어들과의 거리나 B에 속한 단어들과의 거리가 별 차이가 없어야 한다. 반대의 경우라면 뚜렷하게 차이가 난다. Y의 경우도 마찬가지이다.\n",
    "\n",
    "WEAT score는 절댓값이 클수록 두 개념축 사이의 편향성이 크게 나타난다. \n",
    "\n",
    "### WEAT score \n",
    "\n",
    "![](https://images.velog.io/images/guide333/post/74f5e099-c679-4307-9be2-c234b5fd4f02/Screenshot%20from%202021-04-13%2013-22-55.png)\n",
    "\n",
    "- WEAT score의  분석 \n",
    "1. $s(w, A, B)$     \n",
    "개별 단어 $w$가 개념축 A-B에 대해 가지는 편향성. 이를 위해 target에 있는 단어 $w$와 두 attribute 셋 A, B에 속한 단어들과의 유사도의 평균(mean)값이 얼마나 차이나는지 측정한다. 편향성 값은 -2에서 2 사이의 값이며 절대값이 클수록 $w$는 A-B 개념축에 대해 편향성을 가진다는 뜻이다. 편향성의 값이 양수가 나오면 단어 $w$가 A와 가까운 단어라는 것을 말한다. \n",
    "\n",
    "![](https://images.velog.io/images/guide333/post/5953ae24-77a2-4025-bbfc-d9080cdf2444/Screenshot%20from%202021-04-13%2013-23-12.png)\n",
    "\n",
    "2. 분자    \n",
    "target X, Y에 속하는 각 단어 x, y들이 개념축 A-B에 대해 가지는 편향성을 각각 평균을 낸 값의 차이. X에 속하는 단어와 Y에 속하는 단어가 A-B  개념축에 대해 가지는 편향성의 정도가 뚜렷이 차이날수록 WEAT score 식의 분자값의 절댓값은 커진다. \n",
    "\n",
    "3. 최종 WEAT score         \n",
    "분자의 값을 X, Y에 속하는 모든 단어들이 가지는 편향성의 값의 표준편차(std)로 normalize한 값\n",
    "\n",
    "\n",
    "\n",
    "## 순서\n",
    "1. 형태소 분석기를 이용하여 품사가 명사인 경우 해당 단어를 추출하기\n",
    "2. 추출된 결과로 embedding model 만들기\n",
    "3. target, attribute 단어 셋 만들기\n",
    "4. WEAT score 계산과 시각화"
   ]
  },
  {
   "cell_type": "markdown",
   "id": "valuable-creature",
   "metadata": {},
   "source": [
    "## 6-8. 프로젝트 : 모든 장르 간 편향성 측정해 보기\n",
    "지금까지 우리는 영화 시놉시스 코퍼스를 가지고 영화 구분과 영화 장르 간에 내재된 편향성을 측정하는 작업을 진행해 보았습니다. 어느 정도는 우리의 상식과 일치하는 편향성이 측정되었을 것입니다.\n",
    "\n",
    "이번에는 __모든 장르__ 에 대해 영화 구분과의 편향성 정도를 측정해 보겠습니다. 대부분의 과정은 이전 스텝에서 이미 진행한 내용을 참고해서 동일하게 진행 가능할 것입니다.\n",
    "\n",
    "#### 직접 만드는 Word Embedding에 WEAT 적용하는 과정\n",
    "1. 형태소 분석기를 이용하여 품사가 명사인 경우, 해당 단어를 추출하기\n",
    "2. 추출된 결과로 embedding model 만들기\n",
    "3. TF/IDF로 해당 데이터를 가장 잘 표현하는 단어 셋 만들기\n",
    "4. embedding model과 단어 셋으로 WEAT score 구해보기"
   ]
  },
  {
   "cell_type": "markdown",
   "id": "harmful-detroit",
   "metadata": {},
   "source": [
    "### STEP 1. 형태소 분석기를 이용하여 품사가 명사인 경우 해당 단어를 추출하기\n",
    "\n",
    "synopsis.txt(대략 17MB): 2001년부터 2019년 8월까지 제작된 영화들의 시놉시스 정보(개봉된 영화 중 일부만 포함, 더 많은 영화 정보는 KOBIS에서 확인 가능)\n",
    "\n",
    "- 데이터 다운로드 및 준비\n",
    "\n",
    "```python\n",
    "$ wget https://aiffelstaticprd.blob.core.windows.net/media/documents/synopsis.zip\n",
    "$ mv synopsis.zip ~/aiffel/weat\n",
    "$ cd ~/aiffel/weat && unzip synopsis.zip\n",
    "```"
   ]
  },
  {
   "cell_type": "code",
   "execution_count": 1,
   "id": "flexible-woman",
   "metadata": {
    "ExecuteTime": {
     "end_time": "2021-04-26T15:40:25.353990Z",
     "start_time": "2021-04-26T15:40:25.309839Z"
    }
   },
   "outputs": [
    {
     "name": "stdout",
     "output_type": "stream",
     "text": [
      "사운드 엔지니어 상우(유지태 분)는 치매에 걸린 할머니(백성희 분)와\n",
      "/  젊은 시절 상처한 한 아버지(박인환 분), 고모(신신애 분)와 함께 살고 있다.\n",
      "/  어느 겨울 그는 지방 방송국 라디오 PD 은수(이영애 분)를 만난다.\n",
      "/  자연의 소리를 채집해 틀어주는 라디오 프로그램을 준비하는 은수는 상우와 녹음 여행을 떠난다.\n",
      "/  자연스레 가까워지는 두 사람은 어느 날, 은수의 아파트에서 밤을 보낸다.\n",
      "/  너무 쉽게 사랑에 빠진 두 사람... 상우는 주체할 수 없을 정도로 그녀에게 빨려든다.\n",
      "/  그러나 겨울에 만난 두 사람의 관계는 봄을 지나 여름을 맞이하면서 삐걱거린다.\n",
      "/  이혼 경험이 있는 은수는 상우에게 결혼할 생각이 없다며 부담스러운 표정을 내비친다.\n",
      "/  \"어떻게 사랑이 변하니?...\"라고 묻는 상우에게 은수는 그저 \"헤어져\" 라고 단호하게 말한다.\n",
      "/  영원히 변할 것 같지 않던 사랑이 변하고, 그 사실을 받아들이지 못하는 상우는 어찌 할 바를 모른다.\n",
      "/ "
     ]
    }
   ],
   "source": [
    "import os\n",
    "\n",
    "with open(os.getenv('HOME')+'/aiffel/weat/synopsis.txt', 'r') as file:\n",
    "    for i in range(10):\n",
    "        print(file.readline(), end='/ ') # 한 줄씩 구분해 읽기"
   ]
  },
  {
   "cell_type": "markdown",
   "id": "equivalent-clearing",
   "metadata": {},
   "source": [
    "- synopsis.txt 파일을 읽고, konlpy 패키지를 이용해 품사가 명사인 경우만 ```tokenized```라는 변수명으로 저장한다. "
   ]
  },
  {
   "cell_type": "code",
   "execution_count": 2,
   "id": "tested-spirit",
   "metadata": {
    "ExecuteTime": {
     "end_time": "2021-04-26T15:46:48.796735Z",
     "start_time": "2021-04-26T15:40:26.575814Z"
    }
   },
   "outputs": [],
   "source": [
    "# 약 15분정도 걸립니다.\n",
    "from konlpy.tag import Okt\n",
    "\n",
    "from konlpy.tag import Okt\n",
    "okt = Okt()\n",
    "tokenized = []\n",
    "with open(os.getenv('HOME')+'/aiffel/weat/synopsis.txt', 'r') as file:\n",
    "    while True:\n",
    "        line = file.readline()\n",
    "        if not line: break\n",
    "        words = okt.pos(line, stem=True, norm=True)\n",
    "        res = []\n",
    "        for w in words:   # \"Adjective\", \"Verb\" 등을 포함할 수도 있습니다.\n",
    "            if w[1] in [\"Noun\"]:      \n",
    "                res.append(w[0])    # 명사일 때만 tokenized 에 저장하게 됩니다. \n",
    "        tokenized.append(res)"
   ]
  },
  {
   "cell_type": "markdown",
   "id": "gentle-forward",
   "metadata": {},
   "source": [
    "- okt.pos(line, stem=True, norm=True)    \n",
    "텍스트에서 품사 정보를 부착해 형태소를 반환한다. ```norm=True```인 경우, 정규화를 시키는 것 같다. (예: 되나욬 -> ('되', 'Verb'), ('나요', 'Eomi'))  ```stem=True```인 경우, 동사의 원형으로 변환시켜 반환한다. (예: 되나요 -> ('되다', 'Verb'))\n",
    "\n",
    "- 명사만 저장된 ```tokenized```를 확인해 본다. "
   ]
  },
  {
   "cell_type": "code",
   "execution_count": 3,
   "id": "frank-tracker",
   "metadata": {
    "ExecuteTime": {
     "end_time": "2021-04-26T15:52:13.271010Z",
     "start_time": "2021-04-26T15:52:13.265465Z"
    },
    "scrolled": false
   },
   "outputs": [
    {
     "name": "stdout",
     "output_type": "stream",
     "text": [
      "71156\n",
      "[['사운드', '엔지니어', '상우', '유지태', '분', '치매', '할머니', '백성희', '분'], ['시절', '상처', '아버지', '박인환', '분', '고모', '신신애', '분', '살']]\n"
     ]
    }
   ],
   "source": [
    "print(len(tokenized))\n",
    "print(tokenized[:2]) # 세 문장 확인"
   ]
  },
  {
   "cell_type": "markdown",
   "id": "civil-colors",
   "metadata": {},
   "source": [
    "2번째 문장에서 '살'이 명사로 구분되지만 '살'은 '살고'에서 나왔다. 형태소 분석기가 제대로 분석하지 못한 것 같다. "
   ]
  },
  {
   "cell_type": "markdown",
   "id": "contemporary-nigeria",
   "metadata": {},
   "source": [
    "## STEP 2. 추출된 결과로 embedding model 만들기"
   ]
  },
  {
   "cell_type": "code",
   "execution_count": 4,
   "id": "painful-cause",
   "metadata": {
    "ExecuteTime": {
     "end_time": "2021-04-26T15:52:19.271724Z",
     "start_time": "2021-04-26T15:52:13.273665Z"
    },
    "scrolled": true
   },
   "outputs": [
    {
     "name": "stderr",
     "output_type": "stream",
     "text": [
      "/home/aiffel-dj44/anaconda3/envs/aiffel/lib/python3.7/site-packages/gensim/similarities/__init__.py:15: UserWarning: The gensim.similarities.levenshtein submodule is disabled, because the optional Levenshtein package <https://pypi.org/project/python-Levenshtein/> is unavailable. Install Levenhstein (e.g. `pip install python-Levenshtein`) to suppress this warning.\n",
      "  warnings.warn(msg)\n"
     ]
    },
    {
     "data": {
      "text/plain": [
       "[('작품', 0.8957862854003906),\n",
       " ('다큐멘터리', 0.8627713918685913),\n",
       " ('드라마', 0.8098849058151245),\n",
       " ('영화로', 0.7990648746490479),\n",
       " ('주제', 0.7890639305114746),\n",
       " ('형식', 0.7773700952529907),\n",
       " ('시대극', 0.7751033902168274),\n",
       " ('코미디', 0.7744334936141968),\n",
       " ('감동', 0.7731185555458069),\n",
       " ('소설', 0.7683258056640625)]"
      ]
     },
     "execution_count": 4,
     "metadata": {},
     "output_type": "execute_result"
    }
   ],
   "source": [
    "from gensim.models import Word2Vec\n",
    "import warnings\n",
    "warnings.filterwarnings(action='ignore')\n",
    "\n",
    "# tokenized에 담긴 데이터를 가지고 나만의 Word2Vec을 생성합니다. (Gensim 4.0 기준)\n",
    "model = Word2Vec(tokenized, vector_size=100, window=5, min_count=3, sg=0)  \n",
    "model.wv.most_similar(positive=['영화'])"
   ]
  },
  {
   "cell_type": "code",
   "execution_count": 25,
   "id": "funny-sphere",
   "metadata": {
    "ExecuteTime": {
     "end_time": "2021-04-26T16:07:53.564800Z",
     "start_time": "2021-04-26T16:07:53.559895Z"
    }
   },
   "outputs": [
    {
     "data": {
      "text/plain": [
       "[('행복', 0.7105796933174133),\n",
       " ('진심', 0.6935389041900635),\n",
       " ('우정', 0.6842540502548218),\n",
       " ('스팬리', 0.6826479434967041),\n",
       " ('만남', 0.6808212399482727),\n",
       " ('첫사랑', 0.6756961941719055),\n",
       " ('운명', 0.673983633518219),\n",
       " ('아르튬', 0.6725843548774719),\n",
       " ('애정', 0.667340099811554),\n",
       " ('은솔', 0.6633955240249634)]"
      ]
     },
     "execution_count": 25,
     "metadata": {},
     "output_type": "execute_result"
    }
   ],
   "source": [
    "model.wv.most_similar(positive=['사랑'])"
   ]
  },
  {
   "cell_type": "code",
   "execution_count": 26,
   "id": "trained-denver",
   "metadata": {
    "ExecuteTime": {
     "end_time": "2021-04-26T16:07:53.569475Z",
     "start_time": "2021-04-26T16:07:53.565875Z"
    }
   },
   "outputs": [
    {
     "data": {
      "text/plain": [
       "[('시나리오', 0.9166994094848633),\n",
       " ('영화감독', 0.8774702548980713),\n",
       " ('공연', 0.8742851614952087),\n",
       " ('배우', 0.8687353730201721),\n",
       " ('데뷔', 0.867987334728241),\n",
       " ('캐스팅', 0.8665729761123657),\n",
       " ('영감', 0.8596596121788025),\n",
       " ('각색', 0.8573081493377686),\n",
       " ('시대극', 0.8491171598434448),\n",
       " ('출연', 0.8469317555427551)]"
      ]
     },
     "execution_count": 26,
     "metadata": {},
     "output_type": "execute_result"
    }
   ],
   "source": [
    "model.wv.most_similar(positive=['연극'])"
   ]
  },
  {
   "cell_type": "markdown",
   "id": "straight-confidentiality",
   "metadata": {},
   "source": [
    "## STEP 3. target, attribute 단어 셋 만들기\n",
    "이전 스텝에서는 TF-IDF를 사용해서 단어 셋을 만들었습니다. 이 방법으로도 어느 정도는 대표 단어를 잘 선정할 수 있습니다. 그러나 TF-IDF가 높은 단어를 골랐음에도 불구하고 중복되는 단어가 발생하는 문제가 있었습니다.\n",
    "개념축을 표현하는 단어가 제대로 선정되지 않은 것은 WEAT 계산 결과에 악영향을 미칩니다.\n",
    "\n",
    "혹시 TF-IDF를 적용했을 때의 문제점이 무엇인지 지적 가능하다면 그 문제점을 지적하고 스스로 방법을 개선하여 대표 단어 셋을 구축해 보기 바랍니다. TF-IDF 방식을 쓰더라도 중복된 단어를 잘 제거하면 여전히 유용한 방식이 될 수 있습니다.\n",
    "\n",
    "1. TF-IDF를 적용했을 때의 문제점\n",
    "\n",
    "2. 개선된 방법으로 대표 단어 셋 구축\n",
    "\n",
    "### TF-IDF로 해당 데이터를 가장 잘 표현하는 단어 셋 만들기\n",
    "- targets_X, targets_Y, attribute_A, attribute_B\n",
    "두 축을 어떤 기준으로 잡고, 해당 축의 어떤 항목을 사용할지 정해야 한다. 여기서는 두 축을 영화 장르, 영화 구분 정보를 이용한다. (영화 구분 정보란 일반영화, 예술영화, 독립영화로 구분된 정보이다. KOBIS에서 제공한 정보를 기준으로 분류하였다. )\n",
    "\n",
    "\n",
    "- 영화 구분(2개, target dataset)\n",
    "  - synopsis_art.txt : 예술영화\n",
    "  - synopsis_gen.txt : 일반영화(상업영화)\n",
    "  - 그 외 독립영화 등\n",
    "\n",
    "\n",
    "- 장르 구분(attribute dataset)\n",
    "  - synopsis_SF.txt: SF\n",
    "  - synopsis_가족.txt: 가족\n",
    "  - synopsis_공연.txt: 공연\n",
    "  - synopsis_공포(호러).txt: 공포(호러)\n",
    "  - synopsis_기타.txt: 기타\n",
    "  - synopsis_다큐멘터리.txt: 다큐멘터리\n",
    "  - synopsis_드라마.txt: 드라마\n",
    "  - synopsis_멜로로맨스.txt: 멜로로맨스\n",
    "  - synopsis_뮤지컬.txt: 뮤지컬\n",
    "  - synopsis_미스터리.txt: 미스터리\n",
    "  - synopsis_범죄.txt: 범죄\n",
    "  - synopsis_사극.txt: 사극\n",
    "  - synopsis_서부극(웨스턴).txt: 서부극(웨스턴)\n",
    "  - synopsis_성인물(에로).txt: 성인물(에로)\n",
    "  - synopsis_스릴러.txt: 스릴러\n",
    "  - synopsis_애니메이션.txt: 애니메이션\n",
    "  - synopsis_액션.txt: 액션\n",
    "  - synopsis_어드벤처.txt: 어드벤처\n",
    "  - synopsis_전쟁.txt: 전쟁\n",
    "  - synopsis_코미디.txt: 코미디\n",
    "  - synopsis_판타지.txt: 판타지 \n",
    "  \n",
    "### target, attribute 단어셋 만들기\n",
    "#### target 단어셋 "
   ]
  },
  {
   "cell_type": "code",
   "execution_count": 5,
   "id": "empty-sacramento",
   "metadata": {
    "ExecuteTime": {
     "end_time": "2021-04-26T15:52:46.336477Z",
     "start_time": "2021-04-26T15:52:46.004649Z"
    }
   },
   "outputs": [],
   "source": [
    "from sklearn.feature_extraction.text import TfidfVectorizer\n",
    "import numpy as np\n",
    "from konlpy.tag import Okt\n",
    "\n",
    "art_txt = 'synopsis_art.txt'\n",
    "gen_txt = 'synopsis_gen.txt'\n",
    "\n",
    "def read_token(file_name):\n",
    "    okt = Okt()\n",
    "    result = []\n",
    "    with open(os.getenv('HOME')+'/aiffel/weat/'+file_name, 'r') as fread: \n",
    "        print(file_name, '파일을 읽고 있습니다.')\n",
    "        while True:\n",
    "            line = fread.readline() \n",
    "            if not line: break \n",
    "            tokenlist = okt.pos(line, stem=True, norm=True) \n",
    "            for word in tokenlist:\n",
    "                if word[1] in [\"Noun\"]:\n",
    "                    result.append((word[0])) \n",
    "    return ' '.join(result)"
   ]
  },
  {
   "cell_type": "code",
   "execution_count": 6,
   "id": "fossil-profit",
   "metadata": {
    "ExecuteTime": {
     "end_time": "2021-04-26T15:59:49.774339Z",
     "start_time": "2021-04-26T15:52:56.689437Z"
    },
    "scrolled": true
   },
   "outputs": [
    {
     "name": "stdout",
     "output_type": "stream",
     "text": [
      "synopsis_art.txt 파일을 읽고 있습니다.\n",
      "synopsis_gen.txt 파일을 읽고 있습니다.\n"
     ]
    }
   ],
   "source": [
    "art = read_token(art_txt)\n",
    "gen = read_token(gen_txt)"
   ]
  },
  {
   "cell_type": "code",
   "execution_count": 7,
   "id": "happy-respect",
   "metadata": {
    "ExecuteTime": {
     "end_time": "2021-04-26T15:59:49.778304Z",
     "start_time": "2021-04-26T15:59:49.775767Z"
    }
   },
   "outputs": [
    {
     "name": "stdout",
     "output_type": "stream",
     "text": [
      "620208\n",
      "사운드 엔지니어 상우 유지태 분 치매 할머니 백성희 분 시절 상처 아버지\n"
     ]
    }
   ],
   "source": [
    "print(len(art))\n",
    "print(art[:40])"
   ]
  },
  {
   "cell_type": "markdown",
   "id": "middle-decimal",
   "metadata": {},
   "source": [
    "#### TF-IDF 만들기\n",
    "WEAT 계산을 위해서는 총 4개의 단어 셋 X, Y, A, B가 필요하다. 예술영화, 일반영화라는 영화 구분별로 시놉시스를 모아 데이터를 구성했기 때문에 예술영화를 잘 대표하는 단어는 예술영화 시놉시스에는 자주 나타나지만 다른 구분의 영화(일반영화) 시놉시스에는 자주 나타나지 않는 것을 골라야 한다.\n",
    "\n",
    "이런 것과 비슷한 개념의 단어 분석 방식 중 하나인 TF-IDF를 사용하여 단어 셋을 구성한다. "
   ]
  },
  {
   "cell_type": "code",
   "execution_count": 8,
   "id": "atmospheric-trash",
   "metadata": {
    "ExecuteTime": {
     "end_time": "2021-04-26T15:59:50.415711Z",
     "start_time": "2021-04-26T15:59:49.779618Z"
    },
    "scrolled": true
   },
   "outputs": [
    {
     "name": "stdout",
     "output_type": "stream",
     "text": [
      "(2, 41082)\n"
     ]
    }
   ],
   "source": [
    "# TF-IDF \n",
    "vectorizer = TfidfVectorizer()\n",
    "X = vectorizer.fit_transform([art, gen])\n",
    "\n",
    "print(X.shape)"
   ]
  },
  {
   "cell_type": "markdown",
   "id": "selective-colors",
   "metadata": {},
   "source": [
    "#### 단어셋 만들기"
   ]
  },
  {
   "cell_type": "code",
   "execution_count": 9,
   "id": "artistic-functionality",
   "metadata": {
    "ExecuteTime": {
     "end_time": "2021-04-26T15:59:56.507437Z",
     "start_time": "2021-04-26T15:59:50.417097Z"
    },
    "scrolled": true
   },
   "outputs": [
    {
     "name": "stdout",
     "output_type": "stream",
     "text": [
      "예술영화를 대표하는 단어들:\n",
      "그녀, 자신, 시작, 위해, 사랑, 사람, 영화, 친구, 남자, 가족, 이야기, 마을, 사건, 마음, 세상, 아버지, 아이, 엄마, 모든, 여자, 대한, 서로, 과연, 다시, 시간, 아들, 소녀, 아내, 다른, 사이, 영화제, 세계, 사실, 하나, 점점, 남편, 감독, 여행, 인생, 발견, 모두, 순간, 우리, 가장, 마지막, 생활, 아빠, 모습, 통해, 죽음, 기억, 비밀, 학교, 음악, 한편, 소년, 생각, 도시, 명의, 사고, 결혼, 전쟁, 때문, 위기, 이제, 최고, 이자, 과거, 일상, 경찰, 상황, 간다, 미국, 결심, 운명, 현실, 관계, 지금, 단편, 여인, 하루, 이름, 이후, 준비, 인간, 감정, 만난, 국제, 처음, 충격, 살인, 누구, 동안, 존재, 그린, 어머니, 연인, 계속, 동생, 작품, \n",
      "\n",
      "일반영화를 대표하는 단어들:\n",
      "자신, 그녀, 영화제, 위해, 사람, 시작, 국제, 영화, 친구, 사랑, 남자, 이야기, 대한, 서울, 여자, 사건, 남편, 아이, 가족, 아버지, 다른, 마을, 시간, 엄마, 아들, 모든, 단편, 마음, 사실, 다시, 세계, 모습, 작품, 통해, 생각, 서로, 세상, 발견, 감독, 아내, 관계, 소녀, 사이, 하나, 우리, 애니메이션, 때문, 여성, 죽음, 과연, 점점, 인간, 생활, 한편, 결혼, 상황, 모두, 기억, 명의, 소년, 여행, 가장, 간다, 순간, 이제, 도시, 비밀, 학교, 과거, 가지, 이자, 경찰, 마지막, 미국, 동안, 전쟁, 주인공, 대해, 존재, 현실, 연출, 사고, 살인, 일상, 어머니, 계속, 사회, 인생, 다큐멘터리, 부문, 섹스, 최고, 바로, 동생, 의도, 하루, 위기, 계획, 정체, 한국, "
     ]
    }
   ],
   "source": [
    "m1 = X[0].tocoo()   # art를 TF-IDF로 표현한 spart matrix를 가져옵니다. \n",
    "m2 = X[1].tocoo()   # gen을 TF-IDF로 표현한 spart matrix를 가져옵니다. \n",
    "\n",
    "w1 = [[i, j] for i, j in zip(m1.col, m1.data)]\n",
    "w2 = [[i, j] for i, j in zip(m2.col, m2.data)]\n",
    "\n",
    "w1.sort(key=lambda x: x[1], reverse=True)   #art를 구성하는 단어들을 TF-IDF가 높은 순으로 정렬합니다. \n",
    "w2.sort(key=lambda x: x[1], reverse=True)   #gen을 구성하는 단어들을 TF-IDF가 높은 순으로 정렬합니다. \n",
    "\n",
    "print('예술영화를 대표하는 단어들:')\n",
    "for i in range(100):\n",
    "    print(vectorizer.get_feature_names()[w1[i][0]], end=', ')\n",
    "\n",
    "print('\\n')\n",
    "    \n",
    "print('일반영화를 대표하는 단어들:')\n",
    "for i in range(100):\n",
    "    print(vectorizer.get_feature_names()[w2[i][0]], end=', ')"
   ]
  },
  {
   "cell_type": "markdown",
   "id": "narrative-africa",
   "metadata": {},
   "source": [
    "- 두 단어 셋에 중복되는 단어가 많기 때문에 중복되지 않는 단어들로만 단어셋을 만든다. "
   ]
  },
  {
   "cell_type": "code",
   "execution_count": 10,
   "id": "boxed-showcase",
   "metadata": {
    "ExecuteTime": {
     "end_time": "2021-04-26T16:00:02.191160Z",
     "start_time": "2021-04-26T15:59:56.508726Z"
    }
   },
   "outputs": [],
   "source": [
    "n = 15\n",
    "w1_, w2_ = [], []\n",
    "for i in range(100):\n",
    "    w1_.append(vectorizer.get_feature_names()[w1[i][0]])\n",
    "    w2_.append(vectorizer.get_feature_names()[w2[i][0]])\n",
    "\n",
    "# w1에만 있고 w2에는 없는, 예술영화를 잘 대표하는 단어를 15개 추출한다.\n",
    "target_art, target_gen = [], []\n",
    "for i in range(100):\n",
    "    if (w1_[i] not in w2_) and (w1_[i] in model.wv): target_art.append(w1_[i])\n",
    "    if len(target_art) == n: break \n",
    "\n",
    "# w2에만 있고 w1에는 없는, 일반영화를 잘 대표하는 단어를 15개 추출한다.\n",
    "for i in range(100):\n",
    "    if (w2_[i] not in w1_) and (w2_[i] in model.wv): target_gen.append(w2_[i])\n",
    "    if len(target_gen) == n: break"
   ]
  },
  {
   "cell_type": "code",
   "execution_count": 11,
   "id": "subtle-martial",
   "metadata": {
    "ExecuteTime": {
     "end_time": "2021-04-26T16:00:02.198316Z",
     "start_time": "2021-04-26T16:00:02.193933Z"
    }
   },
   "outputs": [
    {
     "name": "stdout",
     "output_type": "stream",
     "text": [
      "['아빠', '음악', '결심', '운명', '지금', '여인', '이름', '이후', '준비', '감정', '만난', '처음', '충격', '누구', '그린']\n"
     ]
    }
   ],
   "source": [
    "print(target_art)"
   ]
  },
  {
   "cell_type": "code",
   "execution_count": 12,
   "id": "wired-exclusive",
   "metadata": {
    "ExecuteTime": {
     "end_time": "2021-04-26T16:00:02.209436Z",
     "start_time": "2021-04-26T16:00:02.200283Z"
    }
   },
   "outputs": [
    {
     "name": "stdout",
     "output_type": "stream",
     "text": [
      "['서울', '애니메이션', '여성', '가지', '주인공', '대해', '연출', '사회', '다큐멘터리', '부문', '섹스', '바로', '의도', '계획', '정체']\n"
     ]
    }
   ],
   "source": [
    "print(target_gen)"
   ]
  },
  {
   "cell_type": "markdown",
   "id": "uniform-wisdom",
   "metadata": {},
   "source": [
    "#### attribute 단어셋 만들기\n",
    "\n",
    "- 모든 장르에 대해 영화 구분과의 편향성 정도를 측정해야 하므로 ```genre_txt```와  ```genre_name```에 모든 장르를 넣어준다. "
   ]
  },
  {
   "cell_type": "code",
   "execution_count": 13,
   "id": "gothic-preference",
   "metadata": {
    "ExecuteTime": {
     "end_time": "2021-04-26T16:00:02.215210Z",
     "start_time": "2021-04-26T16:00:02.212318Z"
    }
   },
   "outputs": [],
   "source": [
    "genre_txt = ['synopsis_SF.txt', 'synopsis_family.txt', 'synopsis_show.txt', 'synopsis_horror.txt', 'synopsis_etc.txt', \n",
    "             'synopsis_documentary.txt', 'synopsis_drama.txt', 'synopsis_romance.txt', 'synopsis_musical.txt', \n",
    "             'synopsis_mystery.txt', 'synopsis_crime.txt', 'synopsis_historical.txt', 'synopsis_western.txt', \n",
    "             'synopsis_adult.txt', 'synopsis_thriller.txt', 'synopsis_animation.txt', 'synopsis_action.txt', \n",
    "             'synopsis_adventure.txt', 'synopsis_war.txt', 'synopsis_comedy.txt', 'synopsis_fantasy.txt']\n",
    "genre_name = ['SF', '가족', '공연', '공포(호러)', '기타', '다큐멘터리', '드라마', '멜로로맨스', '뮤지컬', '미스터리', '범죄', '사극', '서부극(웨스턴)',\n",
    "         '성인물(에로)', '스릴러', '애니메이션', '액션', '어드벤처', '전쟁', '코미디', '판타지']"
   ]
  },
  {
   "cell_type": "code",
   "execution_count": 14,
   "id": "latter-syndication",
   "metadata": {
    "ExecuteTime": {
     "end_time": "2021-04-26T16:00:02.219646Z",
     "start_time": "2021-04-26T16:00:02.217118Z"
    }
   },
   "outputs": [
    {
     "name": "stdout",
     "output_type": "stream",
     "text": [
      "21 21\n"
     ]
    }
   ],
   "source": [
    "print(len(genre_txt), len(genre_name))"
   ]
  },
  {
   "cell_type": "code",
   "execution_count": 15,
   "id": "european-funeral",
   "metadata": {
    "ExecuteTime": {
     "end_time": "2021-04-26T16:07:23.682234Z",
     "start_time": "2021-04-26T16:00:02.221100Z"
    },
    "scrolled": false
   },
   "outputs": [
    {
     "name": "stdout",
     "output_type": "stream",
     "text": [
      "synopsis_SF.txt 파일을 읽고 있습니다.\n",
      "synopsis_family.txt 파일을 읽고 있습니다.\n",
      "synopsis_show.txt 파일을 읽고 있습니다.\n",
      "synopsis_horror.txt 파일을 읽고 있습니다.\n",
      "synopsis_etc.txt 파일을 읽고 있습니다.\n",
      "synopsis_documentary.txt 파일을 읽고 있습니다.\n",
      "synopsis_drama.txt 파일을 읽고 있습니다.\n",
      "synopsis_romance.txt 파일을 읽고 있습니다.\n",
      "synopsis_musical.txt 파일을 읽고 있습니다.\n",
      "synopsis_mystery.txt 파일을 읽고 있습니다.\n",
      "synopsis_crime.txt 파일을 읽고 있습니다.\n",
      "synopsis_historical.txt 파일을 읽고 있습니다.\n",
      "synopsis_western.txt 파일을 읽고 있습니다.\n",
      "synopsis_adult.txt 파일을 읽고 있습니다.\n",
      "synopsis_thriller.txt 파일을 읽고 있습니다.\n",
      "synopsis_animation.txt 파일을 읽고 있습니다.\n",
      "synopsis_action.txt 파일을 읽고 있습니다.\n",
      "synopsis_adventure.txt 파일을 읽고 있습니다.\n",
      "synopsis_war.txt 파일을 읽고 있습니다.\n",
      "synopsis_comedy.txt 파일을 읽고 있습니다.\n",
      "synopsis_fantasy.txt 파일을 읽고 있습니다.\n"
     ]
    }
   ],
   "source": [
    "# 약 10분정도 걸립니다.\n",
    "genre = []\n",
    "for file_name in genre_txt:\n",
    "    genre.append(read_token(file_name))"
   ]
  },
  {
   "cell_type": "code",
   "execution_count": 16,
   "id": "editorial-floating",
   "metadata": {
    "ExecuteTime": {
     "end_time": "2021-04-26T16:07:24.333390Z",
     "start_time": "2021-04-26T16:07:23.683327Z"
    }
   },
   "outputs": [
    {
     "name": "stdout",
     "output_type": "stream",
     "text": [
      "(21, 42191)\n"
     ]
    }
   ],
   "source": [
    "# TF-IDF\n",
    "vectorizer = TfidfVectorizer()\n",
    "X = vectorizer.fit_transform(genre)\n",
    "\n",
    "print(X.shape)"
   ]
  },
  {
   "cell_type": "code",
   "execution_count": 17,
   "id": "reduced-manor",
   "metadata": {
    "ExecuteTime": {
     "end_time": "2021-04-26T16:07:51.474940Z",
     "start_time": "2021-04-26T16:07:24.334484Z"
    },
    "scrolled": true
   },
   "outputs": [
    {
     "name": "stdout",
     "output_type": "stream",
     "text": [
      "SF: 위해, 자신, 지구, 시작, 사람, 인류, 인간, 미래, 우주, 그녀, 로봇, 세계, 모든, 박사, 우주선, \n",
      "\n",
      "\n",
      "가족: 엄마, 아빠, 가족, 영화제, 자신, 위해, 친구, 아주르, 아버지, 시작, 그녀, 아들, 마을, 국제, 낙타, \n",
      "\n",
      "\n",
      "공연: 오페라, 사랑, 토스카, 실황, 올레, 자신, 카바, 그녀, 공연, 오텔로, 리골레토, 백작, 프레, 베르디, 위해, \n",
      "\n",
      "\n",
      "공포(호러): 시작, 위해, 사람, 자신, 친구, 그녀, 사건, 공포, 발견, 죽음, 마을, 가족, 악령, 남자, 좀비, \n",
      "\n",
      "\n",
      "기타: 영화제, 국제, 서울, 단편, 영화, 자신, 사람, 이야기, 그녀, 남자, 위해, 시작, 사랑, 뉴미디어, 페스티벌, \n",
      "\n",
      "\n",
      "다큐멘터리: 영화제, 영화, 다큐, 국제, 다큐멘터리, 사람, 이야기, 대한, 자신, 감독, 위해, 서울, 우리, 시작, 세계, \n",
      "\n",
      "\n",
      "드라마: 자신, 영화제, 그녀, 사람, 사랑, 영화, 위해, 시작, 국제, 남자, 친구, 이야기, 엄마, 여자, 아버지, \n",
      "\n",
      "\n",
      "멜로로맨스: 그녀, 사랑, 자신, 시작, 남편, 남자, 여자, 사람, 친구, 섹스, 위해, 마음, 결혼, 서로, 아내, \n",
      "\n",
      "\n",
      "뮤지컬: 뮤지컬, 사랑, 에스메랄다, 그녀, 음악, 충무로, 모차르트, 영화, 토스카, 자신, 니웨, 카바, 영화제, 바흐, 페뷔스, \n",
      "\n",
      "\n",
      "미스터리: 사건, 그녀, 시작, 자신, 위해, 사람, 발견, 사고, 진실, 죽음, 기억, 살인, 친구, 아내, 남자, \n",
      "\n",
      "\n",
      "범죄: 사건, 위해, 자신, 경찰, 시작, 그녀, 범죄, 조직, 살인, 사람, 마약, 형사, 남자, 모든, 살해, \n",
      "\n",
      "\n",
      "사극: 조선, 위해, 시작, 신기전, 사랑, 자신, 아가멤논, 황제, 그녀, 루안, 최고, 운명, 사람, 하선, 전쟁, \n",
      "\n",
      "\n",
      "서부극(웨스턴): 서부, 보안관, 위해, 벌린, 카우보이, 그레이프바인, 헨리, 마을, 자신, 개릿, 아이, 시작, 무법자, 프린트, 마적, \n",
      "\n",
      "\n",
      "성인물(에로): 그녀, 남편, 마사지, 자신, 섹스, 관계, 영화, 정사, 남자, 위해, 시작, 여자, 유부녀, 마음, 사랑, \n",
      "\n",
      "\n",
      "스릴러: 자신, 그녀, 사건, 시작, 위해, 사람, 살인, 남자, 발견, 아내, 경찰, 친구, 모든, 사실, 살해, \n",
      "\n",
      "\n",
      "애니메이션: 애니메이션, 국제, 영화제, 친구, 인디애니페스트, 위해, 자신, 시작, 사람, 페스티벌, 서울, 이야기, 아이, 마을, 소녀, \n",
      "\n",
      "\n",
      "액션: 위해, 자신, 시작, 조직, 사건, 사람, 그녀, 경찰, 전쟁, 모든, 목숨, 사실, 친구, 가족, 요원, \n",
      "\n",
      "\n",
      "어드벤처: 위해, 자신, 시작, 친구, 마을, 아버지, 영화, 아이, 사람, 여행, 세계, 앤트, 세상, 가족, 모험, \n",
      "\n",
      "\n",
      "전쟁: 전쟁, 독일군, 전투, 위해, 작전, 시작, 부대, 윈터스, 독일, 연합군, 미군, 임무, 자신, 사람, 나치, \n",
      "\n",
      "\n",
      "코미디: 그녀, 자신, 시작, 위해, 사랑, 사람, 친구, 영화, 남자, 여자, 영화제, 가족, 과연, 마을, 사건, \n",
      "\n",
      "\n",
      "판타지: 자신, 그녀, 시작, 위해, 사람, 사랑, 요괴, 영화제, 이야기, 영화, 소녀, 남자, 인간, 세상, 마을, \n",
      "\n",
      "\n"
     ]
    }
   ],
   "source": [
    "m = [X[i].tocoo() for i in range(X.shape[0])]\n",
    "\n",
    "w = [[[i, j] for i, j in zip(mm.col, mm.data)] for mm in m]\n",
    "\n",
    "for i in range(len(w)):\n",
    "    w[i].sort(key=lambda x: x[1], reverse=True)\n",
    "    \n",
    "    \n",
    "attributes = []\n",
    "\n",
    "for i in range(len(w)):\n",
    "    print(genre_name[i], end=': ')\n",
    "    attr = []\n",
    "    j = 0\n",
    "    while (len(attr) < 15):\n",
    "        if vectorizer.get_feature_names()[w[i][j][0]] in model.wv:\n",
    "            attr.append(vectorizer.get_feature_names()[w[i][j][0]])\n",
    "            print(vectorizer.get_feature_names()[w[i][j][0]], end=', ')\n",
    "        j += 1\n",
    "    attributes.append(attr)\n",
    "    print('\\n')\n",
    "    print()"
   ]
  },
  {
   "cell_type": "markdown",
   "id": "assisted-glass",
   "metadata": {},
   "source": [
    "## STEP 4. WEAT score 계산과 시각화\n",
    "영화 구분, 영화 장르에 따른 편향성을 측정하여 WEAT score로 계산해 보고 이를 Heatmap 형태로 시각화해 봅시다. 편향성이 두드러지는 영화장르 attribute 구성에는 어떤 케이스가 있는지 시각적으로 두드러지게 구성되면 좋습니다."
   ]
  },
  {
   "cell_type": "markdown",
   "id": "subtle-style",
   "metadata": {},
   "source": [
    "### 1. WEAT score 함수 만들기"
   ]
  },
  {
   "cell_type": "code",
   "execution_count": 18,
   "id": "cordless-parcel",
   "metadata": {
    "ExecuteTime": {
     "end_time": "2021-04-26T16:07:51.478091Z",
     "start_time": "2021-04-26T16:07:51.476153Z"
    }
   },
   "outputs": [],
   "source": [
    "import numpy as np\n",
    "from numpy import dot\n",
    "from numpy.linalg import norm"
   ]
  },
  {
   "cell_type": "code",
   "execution_count": 19,
   "id": "cleared-democracy",
   "metadata": {
    "ExecuteTime": {
     "end_time": "2021-04-26T16:07:51.482154Z",
     "start_time": "2021-04-26T16:07:51.479124Z"
    }
   },
   "outputs": [],
   "source": [
    "def cos_sim(i, j):\n",
    "    return dot(i, j.T)/(norm(i)*norm(j))\n",
    "\n",
    "def s(w, A, B):\n",
    "    c_a = cos_sim(w, A)\n",
    "    c_b = cos_sim(w, B)\n",
    "    mean_A = np.mean(c_a, axis=-1)\n",
    "    mean_B = np.mean(c_b, axis=-1)\n",
    "    return mean_A - mean_B#, c_a, c_b"
   ]
  },
  {
   "cell_type": "code",
   "execution_count": 20,
   "id": "fuzzy-express",
   "metadata": {
    "ExecuteTime": {
     "end_time": "2021-04-26T16:07:51.486167Z",
     "start_time": "2021-04-26T16:07:51.483241Z"
    }
   },
   "outputs": [],
   "source": [
    "def weat_score(X, Y, A, B):\n",
    "    \n",
    "    s_X = s(X, A, B)\n",
    "    s_Y = s(Y, A, B)\n",
    "\n",
    "    mean_X = np.mean(s_X)\n",
    "    mean_Y = np.mean(s_Y)\n",
    "    \n",
    "    std_dev = np.std(np.concatenate([s_X, s_Y], axis=0))\n",
    "    \n",
    "    return  (mean_X-mean_Y)/std_dev"
   ]
  },
  {
   "cell_type": "markdown",
   "id": "respective-witness",
   "metadata": {},
   "source": [
    "### 2. 행렬로 만들기"
   ]
  },
  {
   "cell_type": "code",
   "execution_count": 21,
   "id": "valid-switch",
   "metadata": {
    "ExecuteTime": {
     "end_time": "2021-04-26T16:07:51.489278Z",
     "start_time": "2021-04-26T16:07:51.487125Z"
    }
   },
   "outputs": [],
   "source": [
    "matrix = [[0 for _ in range(len(genre_name))] for _ in range(len(genre_name))]"
   ]
  },
  {
   "cell_type": "code",
   "execution_count": 22,
   "id": "listed-philip",
   "metadata": {
    "ExecuteTime": {
     "end_time": "2021-04-26T16:07:51.542361Z",
     "start_time": "2021-04-26T16:07:51.490335Z"
    },
    "scrolled": true
   },
   "outputs": [],
   "source": [
    "A = np.array([model.wv[word] for word in target_art])\n",
    "B = np.array([model.wv[word] for word in target_gen])\n",
    "\n",
    "for i in range(len(genre_name)-1):\n",
    "    for j in range(i+1, len(genre_name)):\n",
    "        X = np.array([model.wv[word] for word in attributes[i]])\n",
    "        Y = np.array([model.wv[word] for word in attributes[j]])\n",
    "        matrix[i][j] = weat_score(X, Y, A, B)"
   ]
  },
  {
   "cell_type": "code",
   "execution_count": 23,
   "id": "according-heaven",
   "metadata": {
    "ExecuteTime": {
     "end_time": "2021-04-26T16:07:51.549211Z",
     "start_time": "2021-04-26T16:07:51.543568Z"
    },
    "scrolled": true
   },
   "outputs": [
    {
     "name": "stdout",
     "output_type": "stream",
     "text": [
      "SF 멜로로맨스 -1.3217993\n",
      "공포(호러) 다큐멘터리 1.1643122\n",
      "기타 멜로로맨스 -1.1695749\n",
      "다큐멘터리 멜로로맨스 -1.4793038\n",
      "다큐멘터리 미스터리 -1.2777611\n",
      "다큐멘터리 성인물(에로) -1.2310151\n",
      "다큐멘터리 스릴러 -1.1487503\n",
      "멜로로맨스 범죄 1.2212126\n",
      "멜로로맨스 서부극(웨스턴) 1.1239105\n",
      "멜로로맨스 애니메이션 1.1670784\n",
      "멜로로맨스 전쟁 1.3986526\n"
     ]
    }
   ],
   "source": [
    "for i in range(len(genre_name)-1):\n",
    "    for j in range(i+1, len(genre_name)):\n",
    "        if matrix[i][j] > 1.1 or matrix[i][j] < -1.1:\n",
    "            print(genre_name[i], genre_name[j],matrix[i][j])"
   ]
  },
  {
   "cell_type": "code",
   "execution_count": 27,
   "id": "joint-magazine",
   "metadata": {
    "ExecuteTime": {
     "end_time": "2021-04-26T16:19:07.409948Z",
     "start_time": "2021-04-26T16:19:07.170118Z"
    }
   },
   "outputs": [
    {
     "data": {
      "text/plain": [
       "<matplotlib.collections.PathCollection at 0x7fba1cf8ab10>"
      ]
     },
     "execution_count": 27,
     "metadata": {},
     "output_type": "execute_result"
    },
    {
     "data": {
      "image/png": "[encoded data removed]",
      "text/plain": [
       "<Figure size 432x288 with 1 Axes>"
      ]
     },
     "metadata": {},
     "output_type": "display_data"
    }
   ],
   "source": [
    "# PCA를 통해 5차원 벡터->2차원 벡터로 줄여 시각화\n",
    "\n",
    "from sklearn.decomposition import PCA\n",
    "\n",
    "pca = PCA(n_components=2)\n",
    "pc_A = pca.fit_transform(A)\n",
    "pc_B = pca.fit_transform(B)\n",
    "pc_X = pca.fit_transform(X)\n",
    "pc_Y = pca.fit_transform(Y)\n",
    "\n",
    "import matplotlib.pyplot as plt\n",
    "plt.rcParams['axes.unicode_minus'] = False\n",
    "\n",
    "fig, ax = plt.subplots()\n",
    "ax.scatter(pc_A[:,0], pc_A[:, 1], c='blue', label='A')\n",
    "ax.scatter(pc_B[:,0], pc_B[:, 1], c='red', label='B')\n",
    "ax.scatter(pc_X[:,0], pc_X[:, 1], c='skyblue', label='X')\n",
    "ax.scatter(pc_Y[:,0], pc_Y[:, 1], c='pink', label='Y')"
   ]
  },
  {
   "cell_type": "code",
   "execution_count": 24,
   "id": "terminal-elements",
   "metadata": {
    "ExecuteTime": {
     "end_time": "2021-04-26T16:07:53.557171Z",
     "start_time": "2021-04-26T16:07:51.550211Z"
    }
   },
   "outputs": [
    {
     "data": {
      "text/plain": [
       "<AxesSubplot:>"
      ]
     },
     "execution_count": 24,
     "metadata": {},
     "output_type": "execute_result"
    },
    {
     "data": {
      "image/png": "[encoded data removed]",
      "text/plain": [
       "<Figure size 720x720 with 2 Axes>"
      ]
     },
     "metadata": {
      "needs_background": "light"
     },
     "output_type": "display_data"
    }
   ],
   "source": [
    "import numpy as np\n",
    "import seaborn as sns \n",
    "import matplotlib.pyplot as plt\n",
    "\n",
    "np.random.seed(0)\n",
    "\n",
    "# 한글 지원 폰트\n",
    "\n",
    "plt.figure(figsize=(10, 10))\n",
    "sns.set(font=\"Noto Sans CJK JP\")\n",
    "\n",
    "ax = sns.heatmap(matrix, xticklabels=genre_name, yticklabels=genre_name, linewidths=.5, annot=True, cmap=\"YlGnBu\")\n",
    "ax"
   ]
  },
  {
   "cell_type": "markdown",
   "id": "familiar-chamber",
   "metadata": {},
   "source": [
    "### WEAT score 의미 해석\n",
    "\n",
    "WEAT score가 양수가 나오면 해당 단어가 Attribute A와 가깝다는 것이고 음수가 나오면 Attribute B와 가깝다는 뜻이다. 따라서 예술영화와 일반 영화, 그리고 각 영화의 WEAT score의 의미는 멜로로맨스, 공포(호러), 미스터리, 성인물(에로), 스릴러는 예술 영화와 가깝고, SF, 다큐멘터리, 기타는 일반 영화와 가깝다는 것이다.  \n",
    "\n",
    "또한 WEAT score는 절대값이 클수록 두 개념축 사이의 편향성이 크다. 따라서 시각화에 의하면 공포(호러)와 다큐멘터리(1.2), 멜로로맨스와 범죄(1.2), 멜로로맨스와 전쟁(1.4), 다큐멘터리와 미스터리(-1.3), 기타와 멜로로맨스(-1.2) 등이 편향성이 크고, 어드벤처와 코미디(0.12), 코디미와 판타지(0.16), 서부극(웨스턴)과 판타지(0.17), SF와 판타지(-0.11), 가족과 공포(호러)(-0.13) 등이 편향성이 낮다는 것을 알 수 있다. \n",
    "\n",
    "그러나 전체적으로 보았을 때 짙은 파란색(양수)과 노란색(음수)을 띄는 것이 많으므로 편향성이 이 자연어코퍼스 데이터에 반영되어 있고, 이 데이터로 만든 워드 임베딩 모델 역시 편향을 내재한다는 것을 알 수 있다. "
   ]
  },
  {
   "cell_type": "markdown",
   "id": "olive-player",
   "metadata": {},
   "source": [
    "## 루브릭\n",
    "\n",
    "|평가문항|\t상세기준|결과|\n",
    "|:------:|:--------:|:---:|\n",
    "|1. 주어진 영화 코퍼스를 바탕으로 워드임베딩 모델을 정상적으로 만들었다.|워드임베딩의 most_similar() 메소드 결과가 의미상 바르게 나왔다.|Y     |\n",
    "|2. 영화 구분, 장르별로 target, attribute에 대한 대표성있는 단어 셋을 생성하였다.|타당한 방법론을 통해 중복이 잘 제거되고 개념축을 의미적으로 잘 대표하는 단어 셋이 만들어졌다.|N |\n",
    "|3. WEAT score 계산 및 시각화를 정상적으로 진행하였다.|전체 영화 장르별로 예술/일반 영화에 대한 편향성 WEAT score가 상식에 부합하는 수치로 얻어졌으며 이를 잘 시각화하였다.| Y    |"
   ]
  },
  {
   "cell_type": "markdown",
   "id": "black-drama",
   "metadata": {},
   "source": [
    "## 후기\n",
    "### 이번 프로젝트에서 어려웠던 점\n",
    "- WEAT score의 개념이 혼동되어서 이해하는데 시간이 걸렸다. \n",
    "- TF-IDF로 만든 데이터셋의 단어가 중복되지 않게 하는 방법을 몰라 고민했으나 결국 해결하지 못했다. \n",
    "\n",
    "### 프로젝트를 진행하면서 알게된 점\n",
    "- WEAT score의 개념\n",
    "- 편향된 데이터를 입력하면 Word2Vec로 만든 임베딩 데이터도 편향된 결과를 낸다는 것을 알았다.   \n",
    "\n",
    "### 프로젝트를 진행하면서 아직 모호한 점\n",
    "- 데이터셋의 단어가 중복되지 않게 하는 방법을 모르겠다. \n",
    "\n",
    "### 자기 다짐\n",
    "이번 프로젝트는 노드의 내용을 이해하기만 하면 되었지만 데이터셋의 중복을 제거하는 방법이나 WEAT score의 의미를 파악하는 것이 어려웠다. \n",
    "\n",
    "이번 프로젝트를 통해 편향된 데이터의 수치를 구하는 방법을 알게 되어 좋았다. 직관적으로 편향된 데이터가 있다는 것을 알았지만 구체적인 수치가 없다면 얼마나 편향되어 있는 것인지 파악할 수 없기 때문이다. 그러나 생각보다 WEAT score에 대한 정보가 없어서 자세한 정보를 얻지는 못 했다. "
   ]
  }
 ],
 "metadata": {
  "kernelspec": {
   "display_name": "aiffel",
   "language": "python",
   "name": "aiffel"
  },
  "language_info": {
   "codemirror_mode": {
    "name": "ipython",
    "version": 3
   },
   "file_extension": ".py",
   "mimetype": "text/x-python",
   "name": "python",
   "nbconvert_exporter": "python",
   "pygments_lexer": "ipython3",
   "version": "3.7.10"
  }
 },
 "nbformat": 4,
 "nbformat_minor": 5
}
