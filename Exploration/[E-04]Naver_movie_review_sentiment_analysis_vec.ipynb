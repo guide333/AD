{
 "cells": [
  {
   "cell_type": "markdown",
   "metadata": {},
   "source": [
    "# 프로젝트 : 네이버 영화리뷰 감성분석 도전하기"
   ]
  },
  {
   "cell_type": "markdown",
   "metadata": {},
   "source": [
    "- 한국어 텍스트의 감정 분석\n",
    "활용한 데이터셋은 네이버 영화의 댓글을 모아 구성하였다.     \n",
    "[출처:Naver sentiment movie corpus](https://github.com/e9t/nsmc)\n",
    "\n",
    "- Naver sentiment movie corpus는 195,339개의 한국어로 작성된 영화 리뷰 텍스트로 구성되어 있으며, 긍정은 1, 부정은 0의 라벨이 달려 있다."
   ]
  },
  {
   "cell_type": "markdown",
   "metadata": {},
   "source": [
    "## 1. 데이터 준비와 확인\n",
    "필요한 패키지를 import하고 데이터를 불러온다. 데이터가 제대로 불려왔는지 확인하기 위해 train data의 첫 5행을 출력해 보았다. 이 데어터는 id, 리뷰 내용이 담긴 document, 리뷰가 부정(0)인지 긍정(1)인지 나타내는 label로 이루어져 있다. "
   ]
  },
  {
   "cell_type": "code",
   "execution_count": 1,
   "metadata": {
    "scrolled": false
   },
   "outputs": [
    {
     "name": "stdout",
     "output_type": "stream",
     "text": [
      "150000 50000\n"
     ]
    },
    {
     "data": {
      "text/html": [
       "<div>\n",
       "<style scoped>\n",
       "    .dataframe tbody tr th:only-of-type {\n",
       "        vertical-align: middle;\n",
       "    }\n",
       "\n",
       "    .dataframe tbody tr th {\n",
       "        vertical-align: top;\n",
       "    }\n",
       "\n",
       "    .dataframe thead th {\n",
       "        text-align: right;\n",
       "    }\n",
       "</style>\n",
       "<table border=\"1\" class=\"dataframe\">\n",
       "  <thead>\n",
       "    <tr style=\"text-align: right;\">\n",
       "      <th></th>\n",
       "      <th>id</th>\n",
       "      <th>document</th>\n",
       "      <th>label</th>\n",
       "    </tr>\n",
       "  </thead>\n",
       "  <tbody>\n",
       "    <tr>\n",
       "      <th>0</th>\n",
       "      <td>9976970</td>\n",
       "      <td>아 더빙.. 진짜 짜증나네요 목소리</td>\n",
       "      <td>0</td>\n",
       "    </tr>\n",
       "    <tr>\n",
       "      <th>1</th>\n",
       "      <td>3819312</td>\n",
       "      <td>흠...포스터보고 초딩영화줄....오버연기조차 가볍지 않구나</td>\n",
       "      <td>1</td>\n",
       "    </tr>\n",
       "    <tr>\n",
       "      <th>2</th>\n",
       "      <td>10265843</td>\n",
       "      <td>너무재밓었다그래서보는것을추천한다</td>\n",
       "      <td>0</td>\n",
       "    </tr>\n",
       "    <tr>\n",
       "      <th>3</th>\n",
       "      <td>9045019</td>\n",
       "      <td>교도소 이야기구먼 ..솔직히 재미는 없다..평점 조정</td>\n",
       "      <td>0</td>\n",
       "    </tr>\n",
       "    <tr>\n",
       "      <th>4</th>\n",
       "      <td>6483659</td>\n",
       "      <td>사이몬페그의 익살스런 연기가 돋보였던 영화!스파이더맨에서 늙어보이기만 했던 커스틴 ...</td>\n",
       "      <td>1</td>\n",
       "    </tr>\n",
       "  </tbody>\n",
       "</table>\n",
       "</div>"
      ],
      "text/plain": [
       "         id                                           document  label\n",
       "0   9976970                                아 더빙.. 진짜 짜증나네요 목소리      0\n",
       "1   3819312                  흠...포스터보고 초딩영화줄....오버연기조차 가볍지 않구나      1\n",
       "2  10265843                                  너무재밓었다그래서보는것을추천한다      0\n",
       "3   9045019                      교도소 이야기구먼 ..솔직히 재미는 없다..평점 조정      0\n",
       "4   6483659  사이몬페그의 익살스런 연기가 돋보였던 영화!스파이더맨에서 늙어보이기만 했던 커스틴 ...      1"
      ]
     },
     "execution_count": 1,
     "metadata": {},
     "output_type": "execute_result"
    }
   ],
   "source": [
    "# import 패키지\n",
    "import pandas as pd\n",
    "import urllib.request\n",
    "%matplotlib inline\n",
    "import matplotlib.pyplot as plt\n",
    "import re\n",
    "from konlpy.tag import Okt\n",
    "from tensorflow import keras\n",
    "from tensorflow.keras.preprocessing.text import Tokenizer\n",
    "import numpy as np\n",
    "from tensorflow.keras.preprocessing.sequence import pad_sequences\n",
    "from collections import Counter\n",
    "\n",
    "# 데이터를 읽기\n",
    "train_data = pd.read_table('~/aiffel/sentiment_classification/ratings_train.txt')\n",
    "test_data = pd.read_table('~/aiffel/sentiment_classification/ratings_test.txt')\n",
    "print(len(train_data), len(test_data))\n",
    "\n",
    "# train_data의 첫 5행 확인\n",
    "train_data.head()\n"
   ]
  },
  {
   "cell_type": "markdown",
   "metadata": {},
   "source": [
    "## 2. 데이터로더 구성\n",
    "nsmc 데이터셋은 가공되지 않은 텍스트 파일이므로 data_loader를 만들어야 한다. 이를 위해 1) 데이터의 중복 제거, 2) NaN 결측치 제거 3) 한국어 토크나이저로 토근화 4) 불용어(stopwords) 제거 5) 사전 word_to_index 구성 6) 텍스트 스트링을 사전 인덱스 스트링으로 변환 7) X_train, y_train, X_test, y_test, word_to_index 리턴 을 해야 한다. "
   ]
  },
  {
   "cell_type": "markdown",
   "metadata": {},
   "source": [
    "참고> 토큰화: 주어진 코퍼스에서 토큰(token)의 단위로 나누는 작업이다. "
   ]
  },
  {
   "cell_type": "code",
   "execution_count": 2,
   "metadata": {},
   "outputs": [],
   "source": [
    "# 데이터 로더 구성\n",
    "from konlpy.tag import Mecab\n",
    "tokenizer = Mecab()\n",
    "stopwords = ['의','가','이','은','들','는','좀','잘','걍','과','도','를','으로','자','에','와','한','하다']  # 불용어\n",
    "\n",
    "def load_data(train_data, test_data, num_words=10000):    # 호출시 단어사전에 등재할 단어의 개수\n",
    "    train_data.drop_duplicates(subset=['document'], inplace=True)   # 데이터의 중복 제거   \n",
    "    train_data = train_data.dropna(how = 'any')                     # NaN 결측치 제거\n",
    "    test_data.drop_duplicates(subset=['document'], inplace=True)\n",
    "    test_data = test_data.dropna(how = 'any') \n",
    "\n",
    "    X_train = []\n",
    "    for sentence in train_data['document']:\n",
    "        temp_X = tokenizer.morphs(sentence)                          # 한국어 토크나이저로 토큰화\n",
    "        temp_X = [word for word in temp_X if not word in stopwords]  # 불용어 제거\n",
    "        X_train.append(temp_X)\n",
    "\n",
    "    X_test = []\n",
    "    for sentence in test_data['document']:\n",
    "        temp_X = tokenizer.morphs(sentence)                          # 한국어 토크나이저로 토큰화\n",
    "        temp_X = [word for word in temp_X if not word in stopwords]  # 불용어 제거\n",
    "        X_test.append(temp_X)\n",
    "\n",
    "    words = np.concatenate(X_train).tolist()\n",
    "    counter = Counter(words)\n",
    "    counter = counter.most_common(10000-4)           # 특수문자 4개 제외한 단어 수 세기\n",
    "    vocab = ['<PAD>', '<BOS>', '<UNK>', '<UNUSED>'] + [key for key, _ in counter]\n",
    "    word_to_index = {word:index for index, word in enumerate(vocab)}              # 사전(word_to_index) 구성\n",
    "\n",
    "    def wordlist_to_indexlist(wordlist):\n",
    "        return [word_to_index[word] if word in word_to_index else word_to_index['<UNK>'] for word in wordlist]\n",
    "\n",
    "    X_train = list(map(wordlist_to_indexlist, X_train))\n",
    "    X_test = list(map(wordlist_to_indexlist, X_test))\n",
    "\n",
    "    return X_train, np.array(list(train_data['label'])), X_test, np.array(list(test_data['label'])), word_to_index\n",
    "\n",
    "X_train, y_train, X_test, y_test, word_to_index = load_data(train_data, test_data)"
   ]
  },
  {
   "cell_type": "code",
   "execution_count": 3,
   "metadata": {
    "scrolled": false
   },
   "outputs": [
    {
     "name": "stdout",
     "output_type": "stream",
     "text": [
      "훈련 샘플 개수: 146182, 테스트 개수: 49157\n"
     ]
    }
   ],
   "source": [
    "print(\"훈련 샘플 개수: {}, 테스트 개수: {}\".format(len(X_train), len(X_test)))"
   ]
  },
  {
   "cell_type": "code",
   "execution_count": 4,
   "metadata": {},
   "outputs": [],
   "source": [
    "index_to_word = {index:word for word, index in word_to_index.items()}"
   ]
  },
  {
   "cell_type": "markdown",
   "metadata": {},
   "source": [
    "주어진 데이터를 encode한 텍스트 데이터로 바꾸었다. "
   ]
  },
  {
   "cell_type": "code",
   "execution_count": 5,
   "metadata": {},
   "outputs": [],
   "source": [
    "# 문장 1개를 활용할 딕셔너리와 함께 주면, 단어 인덱스 리스트 벡터로 변환해 주는 함수 \n",
    "# 단, 모든 문장은 <BOS>로 시작\n",
    "def get_encoded_sentence(sentence, word_to_index):\n",
    "    return [word_to_index['<BOS>']]+[word_to_index[word] if word in word_to_index else word_to_index['<UNK>'] for word in sentence.split()]\n",
    "\n",
    "# 여러 개의 문장 리스트를 한 번에 단어 인덱스 리스트 벡터로 encode해 주는 함수 \n",
    "def get_encoded_sentences(sentences, word_to_index):\n",
    "    return [get_encoded_sentence(sentence, word_to_index) for sentence in sentences]"
   ]
  },
  {
   "cell_type": "markdown",
   "metadata": {},
   "source": [
    "데이터의 실제 예시를 확인해 보았다. "
   ]
  },
  {
   "cell_type": "code",
   "execution_count": 6,
   "metadata": {
    "scrolled": true
   },
   "outputs": [
    {
     "name": "stdout",
     "output_type": "stream",
     "text": [
      "[32, 74, 919, 4, 4, 39, 228, 20, 33, 748]\n",
      "1번째 리뷰의 라벨:  0\n",
      "1번째 리뷰 문장 길이:  10\n",
      "영화\n",
      "94\n"
     ]
    }
   ],
   "source": [
    "print(X_train[0])\n",
    "print('1번째 리뷰의 라벨: ', y_train[0])\n",
    "print('1번째 리뷰 문장 길이: ', len(X_train[0]))\n",
    "print(index_to_word[5])\n",
    "print(word_to_index['재미'])"
   ]
  },
  {
   "cell_type": "markdown",
   "metadata": {},
   "source": [
    "encode된 텍스트를 decode하였다. "
   ]
  },
  {
   "cell_type": "code",
   "execution_count": 7,
   "metadata": {},
   "outputs": [],
   "source": [
    "# 숫자 벡터로 encode된 문장을 원래대로 decode하는 함수 \n",
    "def get_decoded_sentence(encoded_sentence, index_to_word):\n",
    "    return ' '.join(index_to_word[index] if index in index_to_word else '<UNK>' for index in encoded_sentence[1:])  #[1:]를 통해 <BOS>를 제외\n",
    "\n",
    "# 여러개의 숫자 벡터로 encode된 문장을 한 번에 원래대로 decode하는 함수\n",
    "def get_decoded_sentences(encoded_sentences, index_to_word):\n",
    "    return [get_decoded_sentence(encoded_sentence, index_to_word) for encoded_sentence in encoded_sentences]"
   ]
  },
  {
   "cell_type": "markdown",
   "metadata": {},
   "source": [
    "decode한 문장의 라벨이 0이고, 실제 문장의 내용이 부정적이므로 encode된 텍스트가 정상적으로 decode되었음을 알 수 있다. "
   ]
  },
  {
   "cell_type": "code",
   "execution_count": 8,
   "metadata": {},
   "outputs": [
    {
     "name": "stdout",
     "output_type": "stream",
     "text": [
      "더 빙 . . 진짜 짜증 나 네요 목소리\n",
      "라벨:  0\n"
     ]
    }
   ],
   "source": [
    "print(get_decoded_sentence(X_train[0], index_to_word))\n",
    "print('라벨: ', y_train[0])"
   ]
  },
  {
   "cell_type": "markdown",
   "metadata": {},
   "source": [
    "## 3. 모델구성을 위한 데이터 분석 및 가공"
   ]
  },
  {
   "cell_type": "markdown",
   "metadata": {},
   "source": [
    "### 1) 데이터셋 내 문장 길이 분포 \n",
    "데이터의 실제 예시를 확인해 보았다. 다운로드 받은 corpus가 데이터로더 구성에 의해 숫자로 encode된 텍스트 데이터로 변화되었음을 알 수 있다. "
   ]
  },
  {
   "cell_type": "code",
   "execution_count": 9,
   "metadata": {
    "scrolled": true
   },
   "outputs": [
    {
     "name": "stdout",
     "output_type": "stream",
     "text": [
      "[32, 74, 919, 4, 4, 39, 228, 20, 33, 748]\n",
      "라벨:  0\n",
      "1번째 리뷰 문장 길이:  10\n",
      "2번째 리뷰 문장 길이:  17\n"
     ]
    }
   ],
   "source": [
    "# 데이터 확인\n",
    "print(X_train[0])  # 1번째 리뷰 데이터\n",
    "print('라벨: ', y_train[0])  # 1번째 리뷰 데이터의 라벨\n",
    "print('1번째 리뷰 문장 길이: ', len(X_train[0]))\n",
    "print('2번째 리뷰 문장 길이: ', len(X_train[1]))"
   ]
  },
  {
   "cell_type": "markdown",
   "metadata": {},
   "source": [
    "### 2) 적절한 최대 문장 길이 지정 \n",
    "문장 최대 길이 maxlen의 값 설정이 전체 모델 성능에 영향을 미치므로 적절한 값을 찾기 위해 데이터셋의 분포를 확인하였다. 아래의 경우, 가장 긴 리뷰의 길이는 41이고, 전체 데이터의 길이는 평균 15, 최대 길이는 113임을 알 수 있다. 따라서 다음 순서는 모델이 처리할 수 있도록 샘플의 길이를 동일하게 맞춰주는 것이다. 지금은 전체 샘플 중에서 길이가 41 이하인 샘플의 비율은 93.4%이다."
   ]
  },
  {
   "cell_type": "code",
   "execution_count": 10,
   "metadata": {
    "scrolled": false
   },
   "outputs": [
    {
     "name": "stdout",
     "output_type": "stream",
     "text": [
      "문장길이 평균 :  15.969355837799927\n",
      "문장길이 최대 :  116\n",
      "문장길이 표준편차 :  12.843536204665021\n",
      "pad_sequences maxlen :  41\n",
      "전체 문장의 0.9342988343341575%가 maxlen 설정값 이내에 포함됩니다. \n"
     ]
    }
   ],
   "source": [
    "total_data_text = list(X_train) + list(X_test)\n",
    "# 텍스트데이터 문장길이의 리스트를 생성한 후\n",
    "num_tokens = [len(tokens) for tokens in total_data_text]\n",
    "num_tokens = np.array(num_tokens)\n",
    "# 문장길이의 평균값, 최대값, 표준편차를 계산\n",
    "print('문장길이 평균 : ', np.mean(num_tokens))\n",
    "print('문장길이 최대 : ', np.max(num_tokens))\n",
    "print('문장길이 표준편차 : ', np.std(num_tokens))\n",
    "\n",
    "# 예를들어, 최대 길이를 (평균 + 2*표준편차)로 한다면,  \n",
    "max_tokens = np.mean(num_tokens) + 2 * np.std(num_tokens)\n",
    "maxlen = int(max_tokens)\n",
    "print('pad_sequences maxlen : ', maxlen)\n",
    "print('전체 문장의 {}%가 maxlen 설정값 이내에 포함됩니다. '.format(np.sum(num_tokens < max_tokens) / len(num_tokens)))"
   ]
  },
  {
   "cell_type": "markdown",
   "metadata": {},
   "source": [
    "### 3) keras.preprocessing.sequence.pad_sequences 을 활용한 패딩 추가\n",
    "padding은 서로 다른 길이의 샘플들의 길이를 맞춰주는 작업이다. padding 방식을 문장 뒷쪽(post)와 앞쪽(pre) 중 어느 쪽으로 하느냐에 따라 RNN을 이용한 딥러닝 적용시 성능 차이가 발생한다. 먼저 문장 뒤쪽으로 padding을 해 보았다. 모든 샘플의 길이를 뒤쪽에서부터  특정 길이(maxlen)만큼 정하였다."
   ]
  },
  {
   "cell_type": "code",
   "execution_count": 11,
   "metadata": {
    "scrolled": true
   },
   "outputs": [
    {
     "name": "stdout",
     "output_type": "stream",
     "text": [
      "(146182, 41)\n",
      "(49157, 41)\n"
     ]
    }
   ],
   "source": [
    "# padding 방식에 따른 RNN 비교\n",
    "# post\n",
    "X_train = keras.preprocessing.sequence.pad_sequences(X_train,\n",
    "                                                        value=word_to_index[\"<PAD>\"],\n",
    "                                                        padding='post', \n",
    "                                                        maxlen=maxlen)\n",
    "\n",
    "X_test = keras.preprocessing.sequence.pad_sequences(X_test,\n",
    "                                                       value=word_to_index[\"<PAD>\"],\n",
    "                                                       padding='post',\n",
    "                                                       maxlen=maxlen)\n",
    "print(X_train.shape)\n",
    "print(X_test.shape)"
   ]
  },
  {
   "cell_type": "code",
   "execution_count": 12,
   "metadata": {
    "scrolled": false
   },
   "outputs": [
    {
     "name": "stdout",
     "output_type": "stream",
     "text": [
      "문장길이 평균 :  41.0\n",
      "문장길이 최대 :  41\n",
      "문장길이 표준편차 :  0.0\n",
      "pad_sequences maxlen :  41\n",
      "전체 문장의 0.0%가 maxlen 설정값 이내에 포함됩니다. \n"
     ]
    }
   ],
   "source": [
    "total_data_text = list(X_train) + list(X_test)\n",
    "# 텍스트데이터 문장길이의 리스트를 생성한 후\n",
    "num_tokens = [len(tokens) for tokens in total_data_text]\n",
    "num_tokens = np.array(num_tokens)\n",
    "# 문장길이의 평균값, 최대값, 표준편차를 계산\n",
    "print('문장길이 평균 : ', np.mean(num_tokens))\n",
    "print('문장길이 최대 : ', np.max(num_tokens))\n",
    "print('문장길이 표준편차 : ', np.std(num_tokens))\n",
    "\n",
    "# 예를들어, 최대 길이를 (평균 + 2*표준편차)로 한다면,  \n",
    "max_tokens = np.mean(num_tokens) + 2 * np.std(num_tokens)\n",
    "maxlen = int(max_tokens)\n",
    "print('pad_sequences maxlen : ', maxlen)\n",
    "print('전체 문장의 {}%가 maxlen 설정값 이내에 포함됩니다. '.format(np.sum(num_tokens < max_tokens) / len(num_tokens)))"
   ]
  },
  {
   "cell_type": "markdown",
   "metadata": {},
   "source": [
    "## 4-1. 모델구성 및 validation set 구성\n",
    "첫번째로 RNN 모델을 설계해 보았다."
   ]
  },
  {
   "cell_type": "markdown",
   "metadata": {},
   "source": [
    "#### 1) Validation set 구성       \n",
    "모델 훈련 전에 훈련용 데이터셋 중 5천건을 분리하여 검증셋으로 사용하였다. 1만건을 검증셋으로 사용할 때보다 5천건을 하였을 때, 아주 조금 더 정확도가 높아져서 5천건으로 검증셋을 정하였다. "
   ]
  },
  {
   "cell_type": "code",
   "execution_count": 13,
   "metadata": {
    "scrolled": true
   },
   "outputs": [
    {
     "name": "stdout",
     "output_type": "stream",
     "text": [
      "(141182, 41)\n",
      "(141182,)\n"
     ]
    }
   ],
   "source": [
    "# validation set 5000건 분리\n",
    "X_val = X_train[:5000]   \n",
    "y_val = y_train[:5000]\n",
    "\n",
    "# validation set을 제외한 나머지 15000건\n",
    "partial_X_train = X_train[5000:]  \n",
    "partial_y_train = y_train[5000:]\n",
    "\n",
    "print(partial_X_train.shape)\n",
    "print(partial_y_train.shape)"
   ]
  },
  {
   "cell_type": "markdown",
   "metadata": {},
   "source": [
    "#### 2)  모델 설계\n",
    "LSTM 레이어를 사용한 RNN 모델을 사용하였다. LSTM state 벡터의 차원수는 8이고, 최종 출력은 긍정/부정으로 나타난다. LSTM state 벡터의 차원수를 16으로 증가시켜 보았으나 큰 차이를 보이지 않았다. "
   ]
  },
  {
   "cell_type": "code",
   "execution_count": 14,
   "metadata": {
    "scrolled": true
   },
   "outputs": [
    {
     "name": "stdout",
     "output_type": "stream",
     "text": [
      "Model: \"sequential\"\n",
      "_________________________________________________________________\n",
      "Layer (type)                 Output Shape              Param #   \n",
      "=================================================================\n",
      "embedding (Embedding)        (None, None, 100)         1000000   \n",
      "_________________________________________________________________\n",
      "lstm (LSTM)                  (None, 8)                 3488      \n",
      "_________________________________________________________________\n",
      "dense (Dense)                (None, 8)                 72        \n",
      "_________________________________________________________________\n",
      "dense_1 (Dense)              (None, 1)                 9         \n",
      "=================================================================\n",
      "Total params: 1,003,569\n",
      "Trainable params: 1,003,569\n",
      "Non-trainable params: 0\n",
      "_________________________________________________________________\n"
     ]
    }
   ],
   "source": [
    "vocab_size = 10000    # 어휘 사전의 크기(10,000개의 단어)\n",
    "word_vector_dim = 100  # 워드 벡터의 차원수 (변경가능한 하이퍼파라미터)\n",
    "\n",
    "# RNNmodel 설계 \n",
    "model = keras.Sequential()\n",
    "model.add(keras.layers.Embedding(vocab_size, word_vector_dim, input_shape=(None,)))\n",
    "model.add(keras.layers.LSTM(8))   # LSTM 레이어를 사용하였다. LSTM state 벡터의 차원수는 8\n",
    "model.add(keras.layers.Dense(8, activation='relu'))\n",
    "model.add(keras.layers.Dense(1, activation='sigmoid'))  # 최종 출력은 긍정/부정을 나타내는 1 dim\n",
    "\n",
    "model.summary()"
   ]
  },
  {
   "cell_type": "markdown",
   "metadata": {},
   "source": [
    "## 5-1. 모델 훈련 개시"
   ]
  },
  {
   "cell_type": "markdown",
   "metadata": {},
   "source": [
    "#### 1) 모델 학습\n",
    "좋은 결과를 얻도록 epoch를 변경하여 모델을 학습해 보았다."
   ]
  },
  {
   "cell_type": "code",
   "execution_count": 15,
   "metadata": {
    "scrolled": true
   },
   "outputs": [
    {
     "name": "stdout",
     "output_type": "stream",
     "text": [
      "Epoch 1/5\n",
      "276/276 [==============================] - 4s 13ms/step - loss: 0.4773 - accuracy: 0.7820 - val_loss: 0.3491 - val_accuracy: 0.8548\n",
      "Epoch 2/5\n",
      "276/276 [==============================] - 3s 12ms/step - loss: 0.3396 - accuracy: 0.8579 - val_loss: 0.3348 - val_accuracy: 0.8602\n",
      "Epoch 3/5\n",
      "276/276 [==============================] - 3s 12ms/step - loss: 0.3109 - accuracy: 0.8685 - val_loss: 0.3347 - val_accuracy: 0.8574\n",
      "Epoch 4/5\n",
      "276/276 [==============================] - 3s 12ms/step - loss: 0.2942 - accuracy: 0.8731 - val_loss: 0.3379 - val_accuracy: 0.8498\n",
      "Epoch 5/5\n",
      "276/276 [==============================] - 3s 12ms/step - loss: 0.2793 - accuracy: 0.8781 - val_loss: 0.3503 - val_accuracy: 0.8570\n"
     ]
    }
   ],
   "source": [
    "# 모델 학습\n",
    "model.compile(optimizer='adam',\n",
    "              loss='binary_crossentropy',\n",
    "              metrics=['accuracy'])\n",
    "              \n",
    "epochs=5  # 몇 epoch를 훈련하면 좋을지 결과를 보면서 바꾸어 봅시다. \n",
    "\n",
    "history = model.fit(partial_X_train,\n",
    "                    partial_y_train,\n",
    "                    epochs=epochs,\n",
    "                    batch_size=512,\n",
    "                    validation_data=(X_val, y_val),\n",
    "                    verbose=1)"
   ]
  },
  {
   "cell_type": "markdown",
   "metadata": {},
   "source": [
    "#### 2) 테스트 셋으로 평가"
   ]
  },
  {
   "cell_type": "code",
   "execution_count": 16,
   "metadata": {
    "scrolled": true
   },
   "outputs": [
    {
     "name": "stdout",
     "output_type": "stream",
     "text": [
      "1537/1537 - 2s - loss: 0.3685 - accuracy: 0.8474\n",
      "[0.36847400665283203, 0.8473869562149048]\n"
     ]
    }
   ],
   "source": [
    "# 평가\n",
    "results = model.evaluate(X_test,  y_test, verbose=2)\n",
    "\n",
    "print(results)"
   ]
  },
  {
   "cell_type": "markdown",
   "metadata": {},
   "source": [
    "## 6-1. Loss, Accuracy 그래프 시각화\n",
    "model.fit() 과정에서 train/validation loss, accuracy 등이 매 epoch마다 history 변수에 저장되어 있다. 이 데이터를 그래프로 그려 수행한 딥러닝 학습이 잘 되었는지, 오버피팅/언더피팅하지 않았는지 등을 파악한다. "
   ]
  },
  {
   "cell_type": "markdown",
   "metadata": {},
   "source": [
    "#### 1) Loss 그래프 시각화\n",
    "Loss 그래프 시각화를 통해 몇 epoch까지 트레이닝이 적절한지 최적점을 추정할 수 있다. validation loss의 그래프가 train loss와의 사이가 벌어지면 더 이상의 트레이닝은 무의미해진다.      \n",
    "그래프로 보았을 때 학습 로스와 검증 로스의 사이가 점점 벌어져서 epoch를 5로 정하였다. "
   ]
  },
  {
   "cell_type": "code",
   "execution_count": 17,
   "metadata": {},
   "outputs": [
    {
     "data": {
      "image/png": "[encoded data removed]",
      "text/plain": [
       "<Figure size 432x288 with 1 Axes>"
      ]
     },
     "metadata": {
      "needs_background": "light"
     },
     "output_type": "display_data"
    }
   ],
   "source": [
    "# epoch에 따른 training and validation loss 그래프 그리기\n",
    "\n",
    "import matplotlib.pyplot as plt\n",
    "\n",
    "history_dict = history.history\n",
    "acc = history_dict['accuracy']\n",
    "val_acc = history_dict['val_accuracy']\n",
    "loss = history_dict['loss']\n",
    "val_loss = history_dict['val_loss']\n",
    "\n",
    "epochs = range(1, len(acc) + 1)\n",
    "\n",
    "# \"bo\"는 \"파란색 점\"입니다\n",
    "plt.plot(epochs, loss, 'bo', label='Training loss')\n",
    "# b는 \"파란 실선\"입니다\n",
    "plt.plot(epochs, val_loss, 'b', label='Validation loss')\n",
    "plt.title('Training and validation loss')\n",
    "plt.xlabel('Epochs')\n",
    "plt.ylabel('Loss')\n",
    "plt.legend()\n",
    "\n",
    "plt.show()"
   ]
  },
  {
   "cell_type": "markdown",
   "metadata": {},
   "source": [
    "#### 2) Accuracy 그래프 시각화\n",
    "Accuray 그래프를 통해서도 몇 epoch까지의 트레이닝이 적절한지 추정할 수 있다. Loss 그래프와 마찬가지로 두 그래프가 점점 벌어지는 것을 알 수 있다."
   ]
  },
  {
   "cell_type": "code",
   "execution_count": 18,
   "metadata": {
    "scrolled": true
   },
   "outputs": [
    {
     "data": {
      "image/png": "[encoded data removed]",
      "text/plain": [
       "<Figure size 432x288 with 1 Axes>"
      ]
     },
     "metadata": {
      "needs_background": "light"
     },
     "output_type": "display_data"
    }
   ],
   "source": [
    "plt.clf()   # 그림을 초기화\n",
    "\n",
    "plt.plot(epochs, acc, 'bo', label='Training acc')\n",
    "plt.plot(epochs, val_acc, 'b', label='Validation acc')\n",
    "plt.title('Training and validation accuracy')\n",
    "plt.xlabel('Epochs')\n",
    "plt.ylabel('Accuracy')\n",
    "plt.legend()\n",
    "\n",
    "plt.show()"
   ]
  },
  {
   "cell_type": "markdown",
   "metadata": {},
   "source": [
    "## 7-1. 학습된 Embedding 레이어 분석\n",
    "워드 임베딩(word embedding)은 라벨링 비용이 많이 드는 머신러닝 기반 감성분석의 비용을 절감하면서 정확도를 향상시키는 자연어처리 기법으로, 단어의 특성을 저차원 벡터값으로 표현한다. RNN 모델의 첫 번째 레이어가 Embedding 레이어였고, 이 레이어는 갖고 있는 사전의 단어 개수 X 워드벡터 사이즈만큼의 크기를 가진 학습 파라미터였다. 만약 위에서 시도한 감성분류 모델인 RNN 모델이 학습이 잘 되었다면 embedding 레이어에 학습된 워드 벡터들도 의미 공간 상에 유의미한 형태로 학습되었을 것이다. 그러므로 학습된 embedding 레이어를 분석해 보았다. "
   ]
  },
  {
   "cell_type": "code",
   "execution_count": 19,
   "metadata": {},
   "outputs": [
    {
     "name": "stdout",
     "output_type": "stream",
     "text": [
      "(10000, 100)\n"
     ]
    }
   ],
   "source": [
    "embedding_layer = model.layers[0]\n",
    "weights = embedding_layer.get_weights()[0]\n",
    "print(weights.shape)    # shape: (vocab_size, embedding_dim)"
   ]
  },
  {
   "cell_type": "markdown",
   "metadata": {},
   "source": [
    "학습한 Embedding 파라미터를 파일에 써서 저장하고, 워드 벡터의 차원수를 어휘 사전 크기(10,000)에서 특수문자 4개를 뺀 사이즈로 타이틀을 썼다. 단어 개수 만큼의 워드 벡터를 파일에 기록하였다."
   ]
  },
  {
   "cell_type": "code",
   "execution_count": 20,
   "metadata": {},
   "outputs": [],
   "source": [
    "import os\n",
    "\n",
    "# 학습한 Embedding 파라미터를 파일에 써서 저장 \n",
    "word2vec_file_path = os.getenv('HOME')+'/aiffel/sentiment_classification/word2vec.txt'\n",
    "f = open(word2vec_file_path, 'w')\n",
    "f.write('{} {}\\n'.format(vocab_size-4, word_vector_dim))  # 몇개의 벡터를 얼마 사이즈로 기재할지 타이틀 쓰기\n",
    "\n",
    "# 단어 개수만큼의 워드 벡터를 파일에 기록\n",
    "vectors = model.get_weights()[0]\n",
    "for i in range(4,vocab_size):\n",
    "    f.write('{} {}\\n'.format(index_to_word[i], ' '.join(map(str, list(vectors[i, :])))))\n",
    "f.close()"
   ]
  },
  {
   "cell_type": "markdown",
   "metadata": {},
   "source": [
    "gensim에서 제공하는 패키지를 사용하여 Embedding 파라미터를 word vector로 활용하였다. "
   ]
  },
  {
   "cell_type": "code",
   "execution_count": 21,
   "metadata": {
    "scrolled": false
   },
   "outputs": [
    {
     "data": {
      "text/plain": [
       "array([-0.02672638, -0.03167142, -0.2080766 , -0.11701433,  0.09696403,\n",
       "       -0.05638734,  0.0729093 , -0.01383703,  0.00842475,  0.00929171,\n",
       "        0.02329517, -0.00100162, -0.02012034, -0.01756208,  0.03281879,\n",
       "       -0.03173911,  0.04711556,  0.00846714, -0.04159535,  0.05846025,\n",
       "       -0.04085942,  0.05218532, -0.01775444, -0.05111843, -0.00251929,\n",
       "        0.03821387,  0.01881933, -0.03710107,  0.01702517, -0.0151973 ,\n",
       "        0.02208129, -0.06620885, -0.00131984, -0.00229398,  0.00434833,\n",
       "       -0.00250394,  0.01460265,  0.07510555,  0.02889573, -0.04915622,\n",
       "       -0.0050952 ,  0.04495397,  0.01670543, -0.04162934, -0.00299976,\n",
       "        0.01513339, -0.00692585, -0.03391766,  0.01495557, -0.02506282,\n",
       "        0.02068501,  0.01472061, -0.06479575, -0.00349406, -0.02002282,\n",
       "       -0.04350447,  0.04912685, -0.03063585, -0.03656757,  0.03472672,\n",
       "        0.01688985,  0.07045873, -0.02477636,  0.050855  ,  0.02329415,\n",
       "       -0.01185596,  0.003334  , -0.04391083, -0.05446913,  0.05217858,\n",
       "       -0.02483553,  0.09857593, -0.02944694,  0.00583173, -0.04032911,\n",
       "        0.00621413,  0.00064955,  0.03744176, -0.0248087 , -0.02315049,\n",
       "       -0.00564156,  0.05441603, -0.04596283,  0.00158719, -0.0477607 ,\n",
       "       -0.02059977, -0.02873331,  0.01135791,  0.1025292 , -0.01796634,\n",
       "        0.00103316, -0.08866604,  0.06710347, -0.00100568, -0.01613054,\n",
       "        0.02082517, -0.01169804, -0.04863728,  0.02852975,  0.05344275],\n",
       "      dtype=float32)"
      ]
     },
     "execution_count": 21,
     "metadata": {},
     "output_type": "execute_result"
    }
   ],
   "source": [
    "from gensim.models.keyedvectors import Word2VecKeyedVectors\n",
    "\n",
    "word_vectors = Word2VecKeyedVectors.load_word2vec_format(word2vec_file_path, binary=False)\n",
    "vector = word_vectors['영화']\n",
    "vector"
   ]
  },
  {
   "cell_type": "markdown",
   "metadata": {},
   "source": [
    "단어 하나를 주고 그 단어와 가장 유사한 단어의 유사도를 확인하여 워드 벡터가 의미벡터 공간 상에 유의미하게 학습되었는지 확인하였다. "
   ]
  },
  {
   "cell_type": "code",
   "execution_count": 22,
   "metadata": {
    "scrolled": false
   },
   "outputs": [
    {
     "data": {
      "text/plain": [
       "[('캐', 0.8604620099067688),\n",
       " ('완전', 0.8406689167022705),\n",
       " ('넘', 0.8261874914169312),\n",
       " ('초', 0.8193526268005371),\n",
       " ('이렇게', 0.8190044164657593),\n",
       " ('기대', 0.818013608455658),\n",
       " ('긴장감', 0.8076725006103516),\n",
       " ('이건', 0.8004950284957886),\n",
       " ('매우', 0.8004699349403381),\n",
       " ('졸라', 0.7988394498825073)]"
      ]
     },
     "execution_count": 22,
     "metadata": {},
     "output_type": "execute_result"
    }
   ],
   "source": [
    "# 워드 벡터가 의미벡터 공간 상에 유의미하게 학습되었는지 확인\n",
    "# 단어와 그 단어와 유사한 단어와의 유사도 확인\n",
    "word_vectors.similar_by_word(\"재미\")"
   ]
  },
  {
   "cell_type": "markdown",
   "metadata": {},
   "source": [
    "## 4-1-1. padding을 'pre'로\n",
    "이번에는 문장 앞쪽('pre')으로 padding하여 성능이 얼마나 차이가 나는지 확인해 보았다. "
   ]
  },
  {
   "cell_type": "code",
   "execution_count": 23,
   "metadata": {},
   "outputs": [
    {
     "name": "stdout",
     "output_type": "stream",
     "text": [
      "(146182, 41)\n",
      "(49157, 41)\n"
     ]
    }
   ],
   "source": [
    "# padding 방식에 따른 RNN 비교\n",
    "# pre\n",
    "X_train = keras.preprocessing.sequence.pad_sequences(X_train,\n",
    "                                                        value=word_to_index[\"<PAD>\"],\n",
    "                                                        padding='pre', \n",
    "                                                        maxlen=maxlen)\n",
    "\n",
    "X_test = keras.preprocessing.sequence.pad_sequences(X_test,\n",
    "                                                       value=word_to_index[\"<PAD>\"],\n",
    "                                                       padding='pre',\n",
    "                                                       maxlen=maxlen)\n",
    "print(X_train.shape)\n",
    "print(X_test.shape)"
   ]
  },
  {
   "cell_type": "code",
   "execution_count": 24,
   "metadata": {
    "scrolled": false
   },
   "outputs": [
    {
     "name": "stdout",
     "output_type": "stream",
     "text": [
      "문장길이 평균 :  41.0\n",
      "문장길이 최대 :  41\n",
      "문장길이 표준편차 :  0.0\n",
      "pad_sequences maxlen :  41\n",
      "전체 문장의 0.0%가 maxlen 설정값 이내에 포함됩니다. \n"
     ]
    }
   ],
   "source": [
    "total_data_text = list(X_train) + list(X_test)\n",
    "# 텍스트데이터 문장길이의 리스트를 생성한 후\n",
    "num_tokens = [len(tokens) for tokens in total_data_text]\n",
    "num_tokens = np.array(num_tokens)\n",
    "# 문장길이의 평균값, 최대값, 표준편차를 계산\n",
    "print('문장길이 평균 : ', np.mean(num_tokens))\n",
    "print('문장길이 최대 : ', np.max(num_tokens))\n",
    "print('문장길이 표준편차 : ', np.std(num_tokens))\n",
    "\n",
    "# 예를들어, 최대 길이를 (평균 + 2*표준편차)로 한다면,  \n",
    "max_tokens = np.mean(num_tokens) + 2 * np.std(num_tokens)\n",
    "maxlen = int(max_tokens)\n",
    "print('pad_sequences maxlen : ', maxlen)\n",
    "print('전체 문장의 {}%가 maxlen 설정값 이내에 포함됩니다. '.format(np.sum(num_tokens < max_tokens) / len(num_tokens)))"
   ]
  },
  {
   "cell_type": "markdown",
   "metadata": {},
   "source": [
    "## 4-1-1. 모델구성 및 validation set 구성"
   ]
  },
  {
   "cell_type": "markdown",
   "metadata": {},
   "source": [
    "#### 1) Validation set 구성       \n",
    "모델 훈련 전에 훈련용 데이터셋 중 5000건을 분리하여 검증셋으로 사용하였다. "
   ]
  },
  {
   "cell_type": "code",
   "execution_count": 25,
   "metadata": {
    "scrolled": true
   },
   "outputs": [
    {
     "name": "stdout",
     "output_type": "stream",
     "text": [
      "(141182, 41)\n",
      "(141182,)\n"
     ]
    }
   ],
   "source": [
    "# validation set 5000건 분리\n",
    "X_val = X_train[:5000]   \n",
    "y_val = y_train[:5000]\n",
    "\n",
    "# validation set을 제외한 나머지 15000건\n",
    "partial_X_train = X_train[5000:]  \n",
    "partial_y_train = y_train[5000:]\n",
    "\n",
    "print(partial_X_train.shape)\n",
    "print(partial_y_train.shape)"
   ]
  },
  {
   "cell_type": "markdown",
   "metadata": {},
   "source": [
    "#### 2)  모델 설계"
   ]
  },
  {
   "cell_type": "code",
   "execution_count": 26,
   "metadata": {},
   "outputs": [
    {
     "name": "stdout",
     "output_type": "stream",
     "text": [
      "Model: \"sequential_1\"\n",
      "_________________________________________________________________\n",
      "Layer (type)                 Output Shape              Param #   \n",
      "=================================================================\n",
      "embedding_1 (Embedding)      (None, None, 100)         1000000   \n",
      "_________________________________________________________________\n",
      "lstm_1 (LSTM)                (None, 8)                 3488      \n",
      "_________________________________________________________________\n",
      "dense_2 (Dense)              (None, 8)                 72        \n",
      "_________________________________________________________________\n",
      "dense_3 (Dense)              (None, 1)                 9         \n",
      "=================================================================\n",
      "Total params: 1,003,569\n",
      "Trainable params: 1,003,569\n",
      "Non-trainable params: 0\n",
      "_________________________________________________________________\n"
     ]
    }
   ],
   "source": [
    "vocab_size = 10000    # 어휘 사전의 크기입니다(10,000개의 단어)\n",
    "word_vector_dim = 100  # 워드 벡터의 차원수 (변경가능한 하이퍼파라미터)\n",
    "\n",
    "# RNNmodel 설계 \n",
    "model = keras.Sequential()\n",
    "model.add(keras.layers.Embedding(vocab_size, word_vector_dim, input_shape=(None,)))\n",
    "model.add(keras.layers.LSTM(8))   # LSTM 레이어를 사용하였더. LSTM state 벡터의 차원수는 8\n",
    "model.add(keras.layers.Dense(8, activation='relu'))\n",
    "model.add(keras.layers.Dense(1, activation='sigmoid'))  # 최종 출력은 긍정/부정을 나타내는 1 dim\n",
    "\n",
    "model.summary()"
   ]
  },
  {
   "cell_type": "markdown",
   "metadata": {},
   "source": [
    "## 5-1-1. 모델 훈련 개시"
   ]
  },
  {
   "cell_type": "markdown",
   "metadata": {},
   "source": [
    "#### 1) 모델 학습"
   ]
  },
  {
   "cell_type": "code",
   "execution_count": 27,
   "metadata": {
    "scrolled": true
   },
   "outputs": [
    {
     "name": "stdout",
     "output_type": "stream",
     "text": [
      "Epoch 1/6\n",
      "276/276 [==============================] - 4s 13ms/step - loss: 0.5636 - accuracy: 0.6700 - val_loss: 0.3570 - val_accuracy: 0.8506\n",
      "Epoch 2/6\n",
      "276/276 [==============================] - 3s 12ms/step - loss: 0.3440 - accuracy: 0.8543 - val_loss: 0.3282 - val_accuracy: 0.8578\n",
      "Epoch 3/6\n",
      "276/276 [==============================] - 3s 12ms/step - loss: 0.3087 - accuracy: 0.8700 - val_loss: 0.3286 - val_accuracy: 0.8602\n",
      "Epoch 4/6\n",
      "276/276 [==============================] - 3s 12ms/step - loss: 0.2907 - accuracy: 0.8777 - val_loss: 0.3409 - val_accuracy: 0.8594\n",
      "Epoch 5/6\n",
      "276/276 [==============================] - 3s 12ms/step - loss: 0.2742 - accuracy: 0.8854 - val_loss: 0.3391 - val_accuracy: 0.8532\n",
      "Epoch 6/6\n",
      "276/276 [==============================] - 3s 12ms/step - loss: 0.2588 - accuracy: 0.8936 - val_loss: 0.3496 - val_accuracy: 0.8538\n"
     ]
    }
   ],
   "source": [
    "# 모델 학습\n",
    "model.compile(optimizer='adam',\n",
    "              loss='binary_crossentropy',\n",
    "              metrics=['accuracy'])\n",
    "              \n",
    "epochs=6 # 몇 epoch를 훈련하면 좋을지 결과를 보면서 바꾸어 봅시다. \n",
    "\n",
    "history = model.fit(partial_X_train,\n",
    "                    partial_y_train,\n",
    "                    epochs=epochs,\n",
    "                    batch_size=512,\n",
    "                    validation_data=(X_val, y_val),\n",
    "                    verbose=1)"
   ]
  },
  {
   "cell_type": "markdown",
   "metadata": {},
   "source": [
    "#### 2) 테스트 셋으로 평가"
   ]
  },
  {
   "cell_type": "code",
   "execution_count": 28,
   "metadata": {
    "scrolled": true
   },
   "outputs": [
    {
     "name": "stdout",
     "output_type": "stream",
     "text": [
      "1537/1537 - 2s - loss: 0.3657 - accuracy: 0.8492\n",
      "[0.36574679613113403, 0.8492178320884705]\n"
     ]
    }
   ],
   "source": [
    "# 평가\n",
    "results = model.evaluate(X_test,  y_test, verbose=2)\n",
    "\n",
    "print(results)"
   ]
  },
  {
   "cell_type": "markdown",
   "metadata": {},
   "source": [
    "padding을 문장 뒤쪽(post)에서 했을 때는 loss가 36.85%, accuracy가 84.74%로 나왔고, 앞쪽(pre)에서 했을 때는 loss가 36.57%, accuracy가 84.94%로 나왔다. 아주 작은 차이지만 문장 앞쪽에서 padding을 했을 때 정확도가 조금 증가하는 것을 볼 수 있다. "
   ]
  },
  {
   "cell_type": "markdown",
   "metadata": {},
   "source": [
    "## 6-1-1. Loss, Accuracy 그래프 시각화"
   ]
  },
  {
   "cell_type": "markdown",
   "metadata": {},
   "source": [
    "#### 1) Loss 그래프 시각화"
   ]
  },
  {
   "cell_type": "code",
   "execution_count": 29,
   "metadata": {},
   "outputs": [
    {
     "data": {
      "image/png": "[encoded data removed]",
      "text/plain": [
       "<Figure size 432x288 with 1 Axes>"
      ]
     },
     "metadata": {
      "needs_background": "light"
     },
     "output_type": "display_data"
    }
   ],
   "source": [
    "# epoch에 따른 training and validation loss 그래프 그리기\n",
    "\n",
    "import matplotlib.pyplot as plt\n",
    "\n",
    "history_dict = history.history\n",
    "acc = history_dict['accuracy']\n",
    "val_acc = history_dict['val_accuracy']\n",
    "loss = history_dict['loss']\n",
    "val_loss = history_dict['val_loss']\n",
    "\n",
    "epochs = range(1, len(acc) + 1)\n",
    "\n",
    "# \"bo\"는 \"파란색 점\"입니다\n",
    "plt.plot(epochs, loss, 'bo', label='Training loss')\n",
    "# b는 \"파란 실선\"입니다\n",
    "plt.plot(epochs, val_loss, 'b', label='Validation loss')\n",
    "plt.title('Training and validation loss')\n",
    "plt.xlabel('Epochs')\n",
    "plt.ylabel('Loss')\n",
    "plt.legend()\n",
    "\n",
    "plt.show()"
   ]
  },
  {
   "cell_type": "markdown",
   "metadata": {},
   "source": [
    "#### 2) Accuracy 그래프 시각화"
   ]
  },
  {
   "cell_type": "code",
   "execution_count": 30,
   "metadata": {
    "scrolled": true
   },
   "outputs": [
    {
     "data": {
      "image/png": "[encoded data removed]",
      "text/plain": [
       "<Figure size 432x288 with 1 Axes>"
      ]
     },
     "metadata": {
      "needs_background": "light"
     },
     "output_type": "display_data"
    }
   ],
   "source": [
    "plt.clf()   # 그림을 초기화\n",
    "\n",
    "plt.plot(epochs, acc, 'bo', label='Training acc')\n",
    "plt.plot(epochs, val_acc, 'b', label='Validation acc')\n",
    "plt.title('Training and validation accuracy')\n",
    "plt.xlabel('Epochs')\n",
    "plt.ylabel('Accuracy')\n",
    "plt.legend()\n",
    "\n",
    "plt.show()"
   ]
  },
  {
   "cell_type": "markdown",
   "metadata": {},
   "source": [
    "## 7-1-1. 학습된 Embedding 레이어 분석"
   ]
  },
  {
   "cell_type": "code",
   "execution_count": 31,
   "metadata": {},
   "outputs": [
    {
     "name": "stdout",
     "output_type": "stream",
     "text": [
      "(10000, 100)\n"
     ]
    }
   ],
   "source": [
    "embedding_layer = model.layers[0]\n",
    "weights = embedding_layer.get_weights()[0]\n",
    "print(weights.shape)    # shape: (vocab_size, embedding_dim)"
   ]
  },
  {
   "cell_type": "markdown",
   "metadata": {},
   "source": [
    "- 학습한 Embedding 파라미터 저장"
   ]
  },
  {
   "cell_type": "code",
   "execution_count": 32,
   "metadata": {},
   "outputs": [],
   "source": [
    "import os\n",
    "\n",
    "# 학습한 Embedding 파라미터를 파일에 써서 저장 \n",
    "word2vec_file_path = os.getenv('HOME')+'/aiffel/sentiment_classification/word2vec.txt'\n",
    "f = open(word2vec_file_path, 'w')\n",
    "f.write('{} {}\\n'.format(vocab_size-4, word_vector_dim))  # 몇개의 벡터를 얼마 사이즈로 기재할지 타이틀 쓰기\n",
    "\n",
    "# 단어 개수(에서 특수문자 4개는 제외하고)만큼의 워드 벡터를 파일에 기록\n",
    "vectors = model.get_weights()[0]\n",
    "for i in range(4,vocab_size):\n",
    "    f.write('{} {}\\n'.format(index_to_word[i], ' '.join(map(str, list(vectors[i, :])))))\n",
    "f.close()"
   ]
  },
  {
   "cell_type": "markdown",
   "metadata": {},
   "source": [
    "- Embedding 파라미터를 word vector로 활용"
   ]
  },
  {
   "cell_type": "code",
   "execution_count": 33,
   "metadata": {
    "scrolled": false
   },
   "outputs": [
    {
     "data": {
      "text/plain": [
       "array([-0.14422019,  0.03949201, -0.05648529, -0.02061285,  0.01116042,\n",
       "       -0.06671419,  0.00282237,  0.04049534,  0.04728917,  0.06528499,\n",
       "       -0.04553739,  0.00833018, -0.01646511, -0.02806476,  0.07192148,\n",
       "       -0.01572937,  0.04855216, -0.0368204 , -0.10324572,  0.06506828,\n",
       "        0.09732473, -0.04015163, -0.01420206, -0.02253484,  0.05948599,\n",
       "       -0.03833088, -0.0470791 ,  0.00257749, -0.00499138,  0.03807172,\n",
       "       -0.03237396,  0.04943783,  0.09755465,  0.12337416,  0.06793916,\n",
       "        0.00782282,  0.11047988, -0.02797821,  0.00723208, -0.01186652,\n",
       "       -0.05595469,  0.03204954,  0.01625542, -0.08808373,  0.00881109,\n",
       "       -0.01959412,  0.14862894, -0.03644729,  0.08637363,  0.05827332,\n",
       "        0.05817017,  0.02271741, -0.01776505,  0.05727351, -0.01834229,\n",
       "       -0.07104834, -0.06084378,  0.00044718,  0.04328982, -0.06407759,\n",
       "       -0.08130484, -0.06222598, -0.02320374, -0.02908036,  0.11985998,\n",
       "        0.02216414, -0.05092562,  0.09046831, -0.0407292 , -0.04900773,\n",
       "        0.00818895,  0.06564975, -0.01341716, -0.07617021, -0.03159055,\n",
       "       -0.00104045,  0.0461427 , -0.02471044, -0.02492274,  0.02718938,\n",
       "       -0.02512377,  0.01715934, -0.06785192,  0.00021822,  0.02874777,\n",
       "       -0.04454724,  0.04168219, -0.03238581,  0.01839443, -0.04540577,\n",
       "        0.00147771,  0.10512489, -0.03705211,  0.00881419, -0.04076641,\n",
       "       -0.02119095,  0.06457825,  0.00229898,  0.04785579, -0.03653245],\n",
       "      dtype=float32)"
      ]
     },
     "execution_count": 33,
     "metadata": {},
     "output_type": "execute_result"
    }
   ],
   "source": [
    "from gensim.models.keyedvectors import Word2VecKeyedVectors\n",
    "\n",
    "word_vectors = Word2VecKeyedVectors.load_word2vec_format(word2vec_file_path, binary=False)\n",
    "vector = word_vectors['영화']\n",
    "vector"
   ]
  },
  {
   "cell_type": "code",
   "execution_count": 34,
   "metadata": {
    "scrolled": false
   },
   "outputs": [
    {
     "data": {
      "text/plain": [
       "[('기대', 0.8025248646736145),\n",
       " ('완전', 0.7885040640830994),\n",
       " ('긴장감', 0.7829486131668091),\n",
       " ('이렇게', 0.7791324853897095),\n",
       " ('매력', 0.7408839464187622),\n",
       " ('반전', 0.7321121692657471),\n",
       " ('주장', 0.7182854413986206),\n",
       " ('가치', 0.7131662964820862),\n",
       " ('볼수록', 0.7041880488395691),\n",
       " ('아무튼', 0.7018340826034546)]"
      ]
     },
     "execution_count": 34,
     "metadata": {},
     "output_type": "execute_result"
    }
   ],
   "source": [
    "# 워드 벡터가 의미벡터 공간 상에 유의미하게 학습되었는지 확인\n",
    "# 단어와 그 단어와 유사한 단어와의 유사도 확인\n",
    "word_vectors.similar_by_word(\"재미\")"
   ]
  },
  {
   "cell_type": "markdown",
   "metadata": {},
   "source": [
    "## 4-2. 모델구성 및 validation set 구성\n",
    "두 번째로 1-D CNN을 이용하였다. \n",
    "1-D CNN은 문장 전체를 한꺼번에 한 방향으로 길이 7짜리 필터로 스캐닝하면서 7단어 이내에서 발견되는 특징을 추출하여 문장을 분류한다. RNN 계열보다 병렬처리가 효율적이므로 학습속도가 훨씬 빠르게 진행된다는 장점이 있다. \n",
    "따라서 1-D CNN을 사용하여 문장을 얼마나 잘 분류하고, 학습이 RNN보다 얼마나 빠른지 확인해 보았다. "
   ]
  },
  {
   "cell_type": "markdown",
   "metadata": {},
   "source": [
    "#### 1) Validation set 구성       \n",
    "모델 훈련 전에 훈련용 데이터셋 중 5000건을 분리하여 검증셋으로 사용하였다. "
   ]
  },
  {
   "cell_type": "code",
   "execution_count": 35,
   "metadata": {
    "scrolled": true
   },
   "outputs": [
    {
     "name": "stdout",
     "output_type": "stream",
     "text": [
      "(141182, 41)\n",
      "(141182,)\n"
     ]
    }
   ],
   "source": [
    "# validation set 5000건 분리\n",
    "X_val = X_train[:5000]   \n",
    "y_val = y_train[:5000]\n",
    "\n",
    "# validation set을 제외한 나머지 15000건\n",
    "partial_X_train = X_train[5000:]  \n",
    "partial_y_train = y_train[5000:]\n",
    "\n",
    "print(partial_X_train.shape)\n",
    "print(partial_y_train.shape)"
   ]
  },
  {
   "cell_type": "markdown",
   "metadata": {},
   "source": [
    "#### 2) 1-D CNN 모델 설계"
   ]
  },
  {
   "cell_type": "code",
   "execution_count": 36,
   "metadata": {
    "scrolled": true
   },
   "outputs": [
    {
     "name": "stdout",
     "output_type": "stream",
     "text": [
      "Model: \"sequential_2\"\n",
      "_________________________________________________________________\n",
      "Layer (type)                 Output Shape              Param #   \n",
      "=================================================================\n",
      "embedding_2 (Embedding)      (None, None, 100)         1000000   \n",
      "_________________________________________________________________\n",
      "conv1d (Conv1D)              (None, None, 16)          11216     \n",
      "_________________________________________________________________\n",
      "max_pooling1d (MaxPooling1D) (None, None, 16)          0         \n",
      "_________________________________________________________________\n",
      "conv1d_1 (Conv1D)            (None, None, 16)          1808      \n",
      "_________________________________________________________________\n",
      "global_max_pooling1d (Global (None, 16)                0         \n",
      "_________________________________________________________________\n",
      "dense_4 (Dense)              (None, 8)                 136       \n",
      "_________________________________________________________________\n",
      "dense_5 (Dense)              (None, 1)                 9         \n",
      "=================================================================\n",
      "Total params: 1,013,169\n",
      "Trainable params: 1,013,169\n",
      "Non-trainable params: 0\n",
      "_________________________________________________________________\n"
     ]
    }
   ],
   "source": [
    "vocab_size = 10000    # 어휘 사전의 크기입니다(10,000개의 단어)\n",
    "word_vector_dim = 100  # 워드 벡터의 차원수 (변경가능한 하이퍼파라미터)\n",
    "\n",
    "# 1-D CNN 모델 설계\n",
    "model = keras.Sequential()\n",
    "model.add(keras.layers.Embedding(vocab_size, word_vector_dim, input_shape=(None,)))\n",
    "model.add(keras.layers.Conv1D(16, 7, activation='relu'))\n",
    "model.add(keras.layers.MaxPooling1D(5))\n",
    "model.add(keras.layers.Conv1D(16, 7, activation='relu'))\n",
    "model.add(keras.layers.GlobalMaxPooling1D())\n",
    "model.add(keras.layers.Dense(8, activation='relu'))\n",
    "model.add(keras.layers.Dense(1, activation='sigmoid'))  # 최종 출력은 긍정/부정을 나타내는 1dim 입니다.\n",
    "\n",
    "model.summary()"
   ]
  },
  {
   "cell_type": "markdown",
   "metadata": {},
   "source": [
    "## 5-2. 모델 훈련 개시"
   ]
  },
  {
   "cell_type": "markdown",
   "metadata": {},
   "source": [
    "#### 1) 모델 학습"
   ]
  },
  {
   "cell_type": "code",
   "execution_count": 37,
   "metadata": {
    "scrolled": false
   },
   "outputs": [
    {
     "name": "stdout",
     "output_type": "stream",
     "text": [
      "Epoch 1/3\n",
      "276/276 [==============================] - 10s 36ms/step - loss: 0.4448 - accuracy: 0.7898 - val_loss: 0.3367 - val_accuracy: 0.8578\n",
      "Epoch 2/3\n",
      "276/276 [==============================] - 3s 12ms/step - loss: 0.3078 - accuracy: 0.8708 - val_loss: 0.3300 - val_accuracy: 0.8578\n",
      "Epoch 3/3\n",
      "276/276 [==============================] - 3s 12ms/step - loss: 0.2577 - accuracy: 0.8963 - val_loss: 0.3420 - val_accuracy: 0.8532\n"
     ]
    }
   ],
   "source": [
    "# 모델 학습\n",
    "model.compile(optimizer='adam',\n",
    "              loss='binary_crossentropy',\n",
    "              metrics=['accuracy'])\n",
    "              \n",
    "epochs=3  # 몇 epoch를 훈련하면 좋을지 결과를 보면서 바꾸어 보자. \n",
    "\n",
    "history = model.fit(partial_X_train,\n",
    "                    partial_y_train,\n",
    "                    epochs=epochs,\n",
    "                    batch_size=512,\n",
    "                    validation_data=(X_val, y_val),\n",
    "                    verbose=1)"
   ]
  },
  {
   "cell_type": "markdown",
   "metadata": {},
   "source": [
    "#### 2) 테스트 셋으로 평가"
   ]
  },
  {
   "cell_type": "code",
   "execution_count": 38,
   "metadata": {
    "scrolled": true
   },
   "outputs": [
    {
     "name": "stdout",
     "output_type": "stream",
     "text": [
      "1537/1537 - 4s - loss: 0.3461 - accuracy: 0.8526\n",
      "[0.3461321294307709, 0.8525540828704834]\n"
     ]
    }
   ],
   "source": [
    "# 평가\n",
    "results = model.evaluate(X_test,  y_test, verbose=2)\n",
    "\n",
    "print(results)"
   ]
  },
  {
   "cell_type": "markdown",
   "metadata": {},
   "source": [
    "패딩을 앞쪽에서 하고, 같은 epoch(5)를 사용했을 때, 대부분 학습 속도는 1-D CNN이 더 빠르지만 정확도는 RNN이 더 높게 나왔다(1-D CNN이 1초, RNN이 2~3초가 나왔다). 그러나 마지막으로 다시 한 번 돌려보았더니 1-D CNN의 속도가 RNN보다 느리고 성능은 RNN보다 좋게 나와서 당황했다. 왜 이렇게 나왔는지 이유를 잘 모르겠다. "
   ]
  },
  {
   "cell_type": "markdown",
   "metadata": {},
   "source": [
    "## 6-2. Loss, Accuracy 그래프 시각화"
   ]
  },
  {
   "cell_type": "markdown",
   "metadata": {},
   "source": [
    "#### 1) Loss 그래프 시각화\n",
    "아래의 그래프에서 보면 training과 validation loss가 학습 3번 이후 크게 벌어지나 학습을 3번 시키면 두 그래프가 처음부터 벌어지는 결과가 나와서 학습 횟수를 5번으로 정하였다."
   ]
  },
  {
   "cell_type": "code",
   "execution_count": 39,
   "metadata": {},
   "outputs": [
    {
     "data": {
      "image/png": "[encoded data removed]",
      "text/plain": [
       "<Figure size 432x288 with 1 Axes>"
      ]
     },
     "metadata": {
      "needs_background": "light"
     },
     "output_type": "display_data"
    }
   ],
   "source": [
    "# epoch에 따른 training and validation loss 그래프 그리기\n",
    "\n",
    "import matplotlib.pyplot as plt\n",
    "\n",
    "history_dict = history.history\n",
    "acc = history_dict['accuracy']\n",
    "val_acc = history_dict['val_accuracy']\n",
    "loss = history_dict['loss']\n",
    "val_loss = history_dict['val_loss']\n",
    "\n",
    "epochs = range(1, len(acc) + 1)\n",
    "\n",
    "# \"bo\"는 \"파란색 점\"입니다\n",
    "plt.plot(epochs, loss, 'bo', label='Training loss')\n",
    "# b는 \"파란 실선\"입니다\n",
    "plt.plot(epochs, val_loss, 'b', label='Validation loss')\n",
    "plt.title('Training and validation loss')\n",
    "plt.xlabel('Epochs')\n",
    "plt.ylabel('Loss')\n",
    "plt.legend()\n",
    "\n",
    "plt.show()"
   ]
  },
  {
   "cell_type": "markdown",
   "metadata": {},
   "source": [
    "#### 2) Accuracy 그래프 시각화"
   ]
  },
  {
   "cell_type": "code",
   "execution_count": 40,
   "metadata": {
    "scrolled": false
   },
   "outputs": [
    {
     "data": {
      "image/png": "[encoded data removed]",
      "text/plain": [
       "<Figure size 432x288 with 1 Axes>"
      ]
     },
     "metadata": {
      "needs_background": "light"
     },
     "output_type": "display_data"
    }
   ],
   "source": [
    "plt.clf()   # 그림을 초기화\n",
    "\n",
    "plt.plot(epochs, acc, 'bo', label='Training acc')\n",
    "plt.plot(epochs, val_acc, 'b', label='Validation acc')\n",
    "plt.title('Training and validation accuracy')\n",
    "plt.xlabel('Epochs')\n",
    "plt.ylabel('Accuracy')\n",
    "plt.legend()\n",
    "\n",
    "plt.show()"
   ]
  },
  {
   "cell_type": "markdown",
   "metadata": {},
   "source": [
    "## 7-2. 학습된 Embedding 레이어 분석"
   ]
  },
  {
   "cell_type": "code",
   "execution_count": 41,
   "metadata": {},
   "outputs": [
    {
     "name": "stdout",
     "output_type": "stream",
     "text": [
      "(10000, 100)\n"
     ]
    }
   ],
   "source": [
    "embedding_layer = model.layers[0]\n",
    "weights = embedding_layer.get_weights()[0]\n",
    "print(weights.shape)    # shape: (vocab_size, embedding_dim)"
   ]
  },
  {
   "cell_type": "markdown",
   "metadata": {},
   "source": [
    "- 학습한 Embedding 파라미터 저장"
   ]
  },
  {
   "cell_type": "code",
   "execution_count": 42,
   "metadata": {},
   "outputs": [],
   "source": [
    "import os\n",
    "\n",
    "# 학습한 Embedding 파라미터를 파일에 써서 저장 \n",
    "word2vec_file_path = os.getenv('HOME')+'/aiffel/sentiment_classification/word2vec.txt'\n",
    "f = open(word2vec_file_path, 'w')\n",
    "f.write('{} {}\\n'.format(vocab_size-4, word_vector_dim))  # 몇개의 벡터를 얼마 사이즈로 기재할지 타이틀 쓰기\n",
    "\n",
    "# 단어 개수(에서 특수문자 4개는 제외하고)만큼의 워드 벡터를 파일에 기록\n",
    "vectors = model.get_weights()[0]\n",
    "for i in range(4,vocab_size):\n",
    "    f.write('{} {}\\n'.format(index_to_word[i], ' '.join(map(str, list(vectors[i, :])))))\n",
    "f.close()"
   ]
  },
  {
   "cell_type": "markdown",
   "metadata": {},
   "source": [
    "- Embedding 파라미터를 word vector로 활용"
   ]
  },
  {
   "cell_type": "code",
   "execution_count": 43,
   "metadata": {
    "scrolled": false
   },
   "outputs": [
    {
     "data": {
      "text/plain": [
       "array([-0.05257164,  0.00962681,  0.05088608, -0.04647012, -0.03269146,\n",
       "       -0.04289315,  0.06862747, -0.02052895,  0.07098629,  0.01505431,\n",
       "       -0.09330776,  0.01441629,  0.07751474,  0.06020313,  0.01154705,\n",
       "        0.00384257,  0.00793244, -0.02486027,  0.01548035, -0.01863885,\n",
       "       -0.05046687, -0.00459868,  0.02078035, -0.02795326,  0.03453894,\n",
       "       -0.00877364, -0.03349088,  0.00708036,  0.05976178, -0.08076786,\n",
       "       -0.07140872,  0.03906745,  0.04246771, -0.07576357, -0.0003602 ,\n",
       "       -0.0541661 ,  0.06831852, -0.04152757, -0.04271421,  0.00074254,\n",
       "        0.00306814, -0.02913146,  0.10373814, -0.01696125, -0.03203768,\n",
       "       -0.01818311,  0.0160855 ,  0.04340917,  0.00492813, -0.11572613,\n",
       "       -0.04904407, -0.00744356,  0.01419735,  0.0079537 ,  0.02121387,\n",
       "        0.00747462, -0.05118033,  0.02039484,  0.00611439, -0.03257111,\n",
       "       -0.04046752,  0.04170091, -0.01611656, -0.04564838, -0.07215141,\n",
       "        0.0101387 , -0.00059401, -0.0177455 ,  0.01601594,  0.02331991,\n",
       "        0.03947796,  0.0090626 ,  0.09793673,  0.02191282, -0.06612073,\n",
       "       -0.04152781,  0.08634661, -0.02418888,  0.0279362 , -0.02442711,\n",
       "       -0.00802274, -0.03225413, -0.0443013 ,  0.05255602, -0.00922785,\n",
       "        0.03628708, -0.06768943, -0.02265985, -0.02989103,  0.00075133,\n",
       "        0.01566545, -0.03594483, -0.04653614,  0.02766313,  0.0557623 ,\n",
       "       -0.03192574, -0.02347181, -0.08615829,  0.06837104,  0.00238059],\n",
       "      dtype=float32)"
      ]
     },
     "execution_count": 43,
     "metadata": {},
     "output_type": "execute_result"
    }
   ],
   "source": [
    "from gensim.models.keyedvectors import Word2VecKeyedVectors\n",
    "\n",
    "word_vectors = Word2VecKeyedVectors.load_word2vec_format(word2vec_file_path, binary=False)\n",
    "vector = word_vectors['영화']\n",
    "vector"
   ]
  },
  {
   "cell_type": "code",
   "execution_count": 44,
   "metadata": {
    "scrolled": false
   },
   "outputs": [
    {
     "data": {
      "text/plain": [
       "[('감동', 0.5339151620864868),\n",
       " ('존재감', 0.530790388584137),\n",
       " ('졸라', 0.5270810127258301),\n",
       " ('가장', 0.5208884477615356),\n",
       " ('가치', 0.4913490116596222),\n",
       " ('너무', 0.4894264042377472),\n",
       " ('제미', 0.4886665940284729),\n",
       " ('완전', 0.48593464493751526),\n",
       " ('진짜', 0.4797467589378357),\n",
       " ('긴장감', 0.4734327495098114)]"
      ]
     },
     "execution_count": 44,
     "metadata": {},
     "output_type": "execute_result"
    }
   ],
   "source": [
    "# 워드 벡터가 의미벡터 공간 상에 유의미하게 학습되었는지 확인\n",
    "# 단어와 그 단어와 유사한 단어와의 유사도 확인\n",
    "word_vectors.similar_by_word(\"재미\")"
   ]
  },
  {
   "cell_type": "markdown",
   "metadata": {},
   "source": [
    "## 4-3. 모델구성 및 validation set 구성\n",
    "세 번째로 GlobalMaxPooling1D() 레이어 하나만 사용했다. 이 방식은 전체 문장 중에서 단 하나의 가장 중요한 단어만 피처로 추출하여 그것으로 문장의 긍정/부정을 평가하는 방식이라고 생각할 수 있는데, 의외로 성능이 잘 나올 수도 있다."
   ]
  },
  {
   "cell_type": "markdown",
   "metadata": {},
   "source": [
    "#### 1) Validation set 구성       \n",
    "모델 훈련 전에 훈련용 데이터셋 중 5000건을 분리하여 검증셋으로 사용하였다. "
   ]
  },
  {
   "cell_type": "code",
   "execution_count": 45,
   "metadata": {
    "scrolled": true
   },
   "outputs": [
    {
     "name": "stdout",
     "output_type": "stream",
     "text": [
      "(141182, 41)\n",
      "(141182,)\n"
     ]
    }
   ],
   "source": [
    "# validation set 5000건 분리\n",
    "X_val = X_train[:5000]   \n",
    "y_val = y_train[:5000]\n",
    "\n",
    "# validation set을 제외한 나머지 15000건\n",
    "partial_X_train = X_train[5000:]  \n",
    "partial_y_train = y_train[5000:]\n",
    "\n",
    "print(partial_X_train.shape)\n",
    "print(partial_y_train.shape)"
   ]
  },
  {
   "cell_type": "markdown",
   "metadata": {},
   "source": [
    "#### 2) 모델 설계"
   ]
  },
  {
   "cell_type": "code",
   "execution_count": 46,
   "metadata": {
    "scrolled": true
   },
   "outputs": [
    {
     "name": "stdout",
     "output_type": "stream",
     "text": [
      "Model: \"sequential_3\"\n",
      "_________________________________________________________________\n",
      "Layer (type)                 Output Shape              Param #   \n",
      "=================================================================\n",
      "embedding_3 (Embedding)      (None, None, 100)         1000000   \n",
      "_________________________________________________________________\n",
      "conv1d_2 (Conv1D)            (None, None, 16)          11216     \n",
      "_________________________________________________________________\n",
      "global_max_pooling1d_1 (Glob (None, 16)                0         \n",
      "_________________________________________________________________\n",
      "dense_6 (Dense)              (None, 8)                 136       \n",
      "_________________________________________________________________\n",
      "dense_7 (Dense)              (None, 1)                 9         \n",
      "=================================================================\n",
      "Total params: 1,011,361\n",
      "Trainable params: 1,011,361\n",
      "Non-trainable params: 0\n",
      "_________________________________________________________________\n"
     ]
    }
   ],
   "source": [
    "vocab_size = 10000    # 어휘 사전의 크기(10,000개의 단어)\n",
    "word_vector_dim = 100 # 워드 벡터의 차원수 (변경가능한 하이퍼파라미터)\n",
    "\n",
    "model = keras.Sequential()\n",
    "model.add(keras.layers.Embedding(vocab_size, word_vector_dim, input_shape=(None,)))\n",
    "model.add(keras.layers.Conv1D(16, 7, activation='relu'))\n",
    "model.add(keras.layers.GlobalMaxPooling1D())\n",
    "model.add(keras.layers.Dense(8, activation='relu'))\n",
    "model.add(keras.layers.Dense(1, activation='sigmoid'))  # 최종 출력은 긍정/부정을 나타내는 1dim 입니다.\n",
    "\n",
    "model.summary()"
   ]
  },
  {
   "cell_type": "markdown",
   "metadata": {},
   "source": [
    "## 5-3. 모델 훈련 개시"
   ]
  },
  {
   "cell_type": "markdown",
   "metadata": {},
   "source": [
    "#### 1) 모델 학습"
   ]
  },
  {
   "cell_type": "code",
   "execution_count": 47,
   "metadata": {
    "scrolled": false
   },
   "outputs": [
    {
     "name": "stdout",
     "output_type": "stream",
     "text": [
      "Epoch 1/3\n",
      "276/276 [==============================] - 3s 12ms/step - loss: 0.4344 - accuracy: 0.8052 - val_loss: 0.3343 - val_accuracy: 0.8560\n",
      "Epoch 2/3\n",
      "276/276 [==============================] - 3s 12ms/step - loss: 0.3067 - accuracy: 0.8711 - val_loss: 0.3258 - val_accuracy: 0.8636\n",
      "Epoch 3/3\n",
      "276/276 [==============================] - 3s 11ms/step - loss: 0.2636 - accuracy: 0.8927 - val_loss: 0.3270 - val_accuracy: 0.8616\n"
     ]
    }
   ],
   "source": [
    "# 모델 학습\n",
    "model.compile(optimizer='adam',\n",
    "              loss='binary_crossentropy',\n",
    "              metrics=['accuracy'])\n",
    "              \n",
    "epochs=3  # 몇 epoch를 훈련하면 좋을지 결과를 보면서 바꾸어 봅시다. \n",
    "\n",
    "history = model.fit(partial_X_train,\n",
    "                    partial_y_train,\n",
    "                    epochs=epochs,\n",
    "                    batch_size=512,\n",
    "                    validation_data=(X_val, y_val),\n",
    "                    verbose=1)"
   ]
  },
  {
   "cell_type": "markdown",
   "metadata": {},
   "source": [
    "#### 2) 테스트 셋으로 평가"
   ]
  },
  {
   "cell_type": "code",
   "execution_count": 48,
   "metadata": {
    "scrolled": true
   },
   "outputs": [
    {
     "name": "stdout",
     "output_type": "stream",
     "text": [
      "1537/1537 - 2s - loss: 0.3357 - accuracy: 0.8592\n",
      "[0.3356950879096985, 0.8591858744621277]\n"
     ]
    }
   ],
   "source": [
    "# 평가\n",
    "results = model.evaluate(X_test,  y_test, verbose=2)\n",
    "\n",
    "print(results)"
   ]
  },
  {
   "cell_type": "markdown",
   "metadata": {},
   "source": [
    "## 6-3. Loss, Accuracy 그래프 시각화"
   ]
  },
  {
   "cell_type": "markdown",
   "metadata": {},
   "source": [
    "#### 1) Loss 그래프 시각화"
   ]
  },
  {
   "cell_type": "code",
   "execution_count": 49,
   "metadata": {},
   "outputs": [
    {
     "data": {
      "image/png": "[encoded data removed]",
      "text/plain": [
       "<Figure size 432x288 with 1 Axes>"
      ]
     },
     "metadata": {
      "needs_background": "light"
     },
     "output_type": "display_data"
    }
   ],
   "source": [
    "# epoch에 따른 training and validation loss 그래프 그리기\n",
    "\n",
    "import matplotlib.pyplot as plt\n",
    "\n",
    "history_dict = history.history\n",
    "acc = history_dict['accuracy']\n",
    "val_acc = history_dict['val_accuracy']\n",
    "loss = history_dict['loss']\n",
    "val_loss = history_dict['val_loss']\n",
    "\n",
    "epochs = range(1, len(acc) + 1)\n",
    "\n",
    "# \"bo\"는 \"파란색 점\"입니다\n",
    "plt.plot(epochs, loss, 'bo', label='Training loss')\n",
    "# b는 \"파란 실선\"입니다\n",
    "plt.plot(epochs, val_loss, 'b', label='Validation loss')\n",
    "plt.title('Training and validation loss')\n",
    "plt.xlabel('Epochs')\n",
    "plt.ylabel('Loss')\n",
    "plt.legend()\n",
    "\n",
    "plt.show()"
   ]
  },
  {
   "cell_type": "markdown",
   "metadata": {},
   "source": [
    "#### 2) Accuracy 그래프 시각화"
   ]
  },
  {
   "cell_type": "code",
   "execution_count": 50,
   "metadata": {
    "scrolled": true
   },
   "outputs": [
    {
     "data": {
      "image/png": "[encoded data removed]",
      "text/plain": [
       "<Figure size 432x288 with 1 Axes>"
      ]
     },
     "metadata": {
      "needs_background": "light"
     },
     "output_type": "display_data"
    }
   ],
   "source": [
    "plt.clf()   # 그림을 초기화\n",
    "\n",
    "plt.plot(epochs, acc, 'bo', label='Training acc')\n",
    "plt.plot(epochs, val_acc, 'b', label='Validation acc')\n",
    "plt.title('Training and validation accuracy')\n",
    "plt.xlabel('Epochs')\n",
    "plt.ylabel('Accuracy')\n",
    "plt.legend()\n",
    "\n",
    "plt.show()"
   ]
  },
  {
   "cell_type": "markdown",
   "metadata": {},
   "source": [
    "## 7-3. 학습된 Embedding 레이어 분석"
   ]
  },
  {
   "cell_type": "code",
   "execution_count": 51,
   "metadata": {},
   "outputs": [
    {
     "name": "stdout",
     "output_type": "stream",
     "text": [
      "(10000, 100)\n"
     ]
    }
   ],
   "source": [
    "embedding_layer = model.layers[0]\n",
    "weights = embedding_layer.get_weights()[0]\n",
    "print(weights.shape)    # shape: (vocab_size, embedding_dim)"
   ]
  },
  {
   "cell_type": "code",
   "execution_count": 52,
   "metadata": {},
   "outputs": [],
   "source": [
    "import os\n",
    "\n",
    "# 학습한 Embedding 파라미터를 파일에 써서 저장 \n",
    "word2vec_file_path = os.getenv('HOME')+'/aiffel/sentiment_classification/word2vec.txt'\n",
    "f = open(word2vec_file_path, 'w')\n",
    "f.write('{} {}\\n'.format(vocab_size-4, word_vector_dim))  # 몇개의 벡터를 얼마 사이즈로 기재할지 타이틀 쓰기\n",
    "\n",
    "# 단어 개수(에서 특수문자 4개는 제외하고)만큼의 워드 벡터를 파일에 기록\n",
    "vectors = model.get_weights()[0]\n",
    "for i in range(4,vocab_size):\n",
    "    f.write('{} {}\\n'.format(index_to_word[i], ' '.join(map(str, list(vectors[i, :])))))\n",
    "f.close()"
   ]
  },
  {
   "cell_type": "markdown",
   "metadata": {},
   "source": [
    "- Embedding 파라미터 확인"
   ]
  },
  {
   "cell_type": "code",
   "execution_count": 88,
   "metadata": {
    "scrolled": false
   },
   "outputs": [
    {
     "data": {
      "text/plain": [
       "array([-2.95980964e-02,  8.46659988e-02, -2.82300487e-02,  1.30987121e-02,\n",
       "        2.47807596e-02,  1.51663553e-03,  5.73088415e-02,  2.51229871e-02,\n",
       "        5.16057648e-02, -2.50410382e-02,  4.67068069e-02,  8.41103029e-03,\n",
       "        6.53791353e-02,  4.85230051e-02, -5.91950901e-02,  3.42520438e-02,\n",
       "        3.03955469e-02,  2.36160681e-03, -9.67650861e-02, -1.41409589e-02,\n",
       "       -2.58315504e-02, -4.37065177e-02, -5.85651211e-02,  5.04226051e-02,\n",
       "       -5.47259785e-02, -2.05070954e-02,  2.47060861e-02,  6.19252585e-02,\n",
       "       -8.25140532e-03,  9.82583873e-03, -3.58943753e-02,  5.12865856e-02,\n",
       "       -7.46612577e-03, -5.14088795e-02, -2.04262473e-02,  1.79606173e-02,\n",
       "        1.32485628e-04,  3.88880521e-02,  3.62907760e-02, -3.26158069e-02,\n",
       "        5.93718700e-02,  2.34005935e-02, -3.97598632e-02, -4.99780327e-02,\n",
       "       -4.46972102e-02,  5.22049777e-02,  8.35817493e-03, -3.77447195e-02,\n",
       "       -1.45040378e-02,  4.17929702e-02, -4.37087752e-02,  1.88443884e-02,\n",
       "        1.08012538e-02,  1.24130314e-02,  8.47638845e-02, -3.07653416e-02,\n",
       "        1.90834105e-02, -3.49457040e-02, -1.83837991e-02,  9.81571618e-03,\n",
       "       -3.42981592e-02, -6.32125810e-02,  1.14496071e-02,  1.38513627e-04,\n",
       "        2.13453490e-02,  4.02854942e-02,  5.43629639e-02, -5.43767288e-02,\n",
       "        6.06014486e-03,  5.84739121e-03,  1.26024671e-02,  4.30880114e-04,\n",
       "        4.44925856e-03,  6.12796145e-03, -6.73300177e-02, -5.73573783e-02,\n",
       "       -3.06486841e-02, -3.16849239e-02, -2.93100495e-02, -4.06551585e-02,\n",
       "       -1.10185869e-01,  1.06718801e-02, -9.34076775e-03,  4.28310931e-02,\n",
       "       -7.08399564e-02,  6.64263731e-03,  1.03232944e-02, -1.57255717e-02,\n",
       "       -4.83933799e-02, -7.59788891e-05,  1.68196838e-02, -1.85665172e-02,\n",
       "        5.93827404e-02, -5.13099991e-02, -8.56420305e-03, -9.71808136e-02,\n",
       "       -1.00108825e-01,  6.98586330e-02,  9.20645986e-03,  4.18347865e-02],\n",
       "      dtype=float32)"
      ]
     },
     "execution_count": 88,
     "metadata": {},
     "output_type": "execute_result"
    }
   ],
   "source": [
    "from gensim.models.keyedvectors import Word2VecKeyedVectors\n",
    "\n",
    "word_vectors = Word2VecKeyedVectors.load_word2vec_format(word2vec_file_path, binary=False)\n",
    "vector = word_vectors['영화']\n",
    "vector"
   ]
  },
  {
   "cell_type": "markdown",
   "metadata": {},
   "source": [
    "- Embedding 파라미터를 word vector로 활용"
   ]
  },
  {
   "cell_type": "code",
   "execution_count": 54,
   "metadata": {
    "scrolled": false
   },
   "outputs": [
    {
     "data": {
      "text/plain": [
       "[('취향', 0.6770460605621338),\n",
       " ('제미', 0.6570246815681458),\n",
       " ('이리', 0.6540573835372925),\n",
       " ('임팩트', 0.652675211429596),\n",
       " ('미', 0.6351391673088074),\n",
       " ('짱짱', 0.6347969174385071),\n",
       " ('매우', 0.5963135361671448),\n",
       " ('후속작', 0.5937454104423523),\n",
       " ('마징가', 0.5845733880996704),\n",
       " ('드문', 0.5801931619644165)]"
      ]
     },
     "execution_count": 54,
     "metadata": {},
     "output_type": "execute_result"
    }
   ],
   "source": [
    "# 워드 벡터가 의미벡터 공간 상에 유의미하게 학습되었는지 확인\n",
    "# 단어와 그 단어와 유사한 단어와의 유사도 확인\n",
    "word_vectors.similar_by_word(\"재미\")"
   ]
  },
  {
   "cell_type": "markdown",
   "metadata": {},
   "source": [
    "## 8. 한국어 Word2Vec 임베딩 활용하여 성능개선\n",
    "사전학습된 워드 임베딩 모델인 한국어 Word2Vec([여기](https://github.com/Kyubyong/wordvectors))을 활용하여 모델의 성능을 개선해 보았다. "
   ]
  },
  {
   "cell_type": "markdown",
   "metadata": {},
   "source": [
    "### 1)  사전 훈련된 한국어 Word2Vec 모델 로드\n",
    "여러 가지 사전 훈련된 한국어 모델을 사용하였다. ko.bin 파일의 경우, LMS에 나온 코드를 사용하니 에러 메시지가 나왔다. 위키닥스를 참고하여 한국어 Word2Vec 모델을 ```model = gensim.models.Word2Vec.load('ko.bin 파일의 경로')```를 써서 로드하였다. [참고: wikidocs](https://wikidocs.net/50739)\n",
    "그러나 ko.vec파일은 위의 코드를 쓰면 에러 메시지가 나와서 영어 Word2Vec 임베딩과 같은 코드를 사용하였다. \n",
    "ko.bin과 ko.vec을 비교해 보았을 때, ko.vec파일이 성능이 조금 더 좋아서 ko.vec파일을 사용했다. "
   ]
  },
  {
   "cell_type": "code",
   "execution_count": 55,
   "metadata": {
    "scrolled": true
   },
   "outputs": [
    {
     "data": {
      "text/plain": [
       "array([ 1.8125e-01, -2.5123e-01,  1.7876e-01, -1.3278e-02, -3.9651e-01,\n",
       "       -5.1186e-01,  6.3876e-01, -1.4718e-01,  2.6356e-02,  1.3623e-01,\n",
       "        3.3384e-01, -1.2785e-02,  3.6469e-01, -8.6068e-02,  4.0517e-02,\n",
       "        3.6734e-01,  3.1056e-01,  3.3490e-01, -3.1863e-01, -5.5490e-02,\n",
       "       -4.7026e-01,  1.3183e-01,  1.8501e-01, -3.3728e-01,  1.2701e-01,\n",
       "        9.4333e-02, -2.0064e-01,  3.7874e-01,  4.2810e-01,  1.2058e-01,\n",
       "        1.6202e-01,  3.1488e-01,  2.7374e-01, -1.0546e-01,  1.7608e-01,\n",
       "       -1.1968e-01, -4.1559e-02, -3.8206e-01, -2.4690e-01, -1.0811e-01,\n",
       "        3.1043e-01,  1.8582e-01,  6.1235e-02,  1.6734e-01, -1.0168e-01,\n",
       "       -2.0457e-01,  2.3861e-01,  3.2822e-01,  2.3092e-01, -4.1230e-02,\n",
       "        1.8685e-01, -9.5627e-02,  2.1094e-01,  1.8469e-01,  5.7604e-01,\n",
       "        2.7050e-01,  2.6731e-01, -1.2759e-02,  2.0977e-01, -8.1527e-02,\n",
       "        2.1588e-01, -2.9591e-01, -2.4410e-01, -2.9915e-01,  9.2866e-02,\n",
       "        1.8276e-01, -1.5060e-01,  6.4768e-02, -1.0031e-01, -4.2908e-01,\n",
       "       -4.0094e-01, -4.4156e-01, -1.7807e-01, -5.0662e-02, -8.3501e-02,\n",
       "       -2.0966e-01, -1.9714e-01,  7.5536e-02,  1.0917e-01,  3.6837e-03,\n",
       "       -3.3225e-01,  1.8278e-02,  1.8013e-01, -1.2103e-02,  2.6357e-01,\n",
       "        1.4024e-01, -2.0421e-01,  3.7298e-01, -1.1435e-01,  3.8033e-01,\n",
       "        4.7095e-01,  1.0766e-01,  3.2135e-01,  1.0767e-01,  1.0314e-01,\n",
       "        1.5886e-01, -1.1342e-01,  1.3160e-01,  2.9100e-01, -2.4341e-01,\n",
       "       -1.6673e-01,  2.1201e-02, -2.1293e-01,  7.6842e-02, -1.1151e-01,\n",
       "       -3.8201e-01, -2.5657e-01, -8.6859e-02, -3.0021e-01, -3.8797e-01,\n",
       "       -5.2617e-01, -2.0875e-01,  2.7336e-01,  3.5077e-02,  2.0943e-02,\n",
       "        3.8569e-01,  1.0817e-01, -3.6463e-02, -4.9377e-02,  3.5336e-01,\n",
       "        4.6263e-01, -3.1077e-01, -3.1641e-01,  2.6171e-02,  6.1088e-02,\n",
       "       -3.0857e-02, -4.3347e-01,  1.3324e-01, -3.0014e-02,  4.3518e-02,\n",
       "        1.4237e-01,  7.6613e-04, -1.2679e-02,  2.6481e-01,  4.4914e-02,\n",
       "        2.4478e-01, -5.8814e-03,  2.4500e-01,  1.7523e-01, -1.7324e-01,\n",
       "       -3.5752e-01, -2.9637e-01, -1.7152e-02,  9.0484e-03,  1.8895e-02,\n",
       "        1.0163e-01, -2.9737e-01, -1.1812e-01,  3.5073e-01,  6.5359e-02,\n",
       "       -2.0675e-02,  7.9969e-02, -4.5644e-01, -3.3685e-01,  1.1158e-01,\n",
       "        3.2967e-01,  1.8461e-01,  6.7603e-01,  1.1848e-01,  4.8637e-02,\n",
       "       -1.7305e-01,  5.1958e-02, -1.4728e-01, -1.8720e-01,  1.4456e-01,\n",
       "       -1.0082e-01, -1.7303e-01, -3.3707e-01,  3.1867e-01, -2.3076e-01,\n",
       "       -3.2252e-01, -1.6669e-01,  3.1243e-01,  1.8590e-01, -1.4246e-01,\n",
       "        2.0821e-01,  6.7592e-01,  3.6015e-02,  3.4651e-01, -1.2955e-01,\n",
       "       -7.0611e-02, -2.8949e-01, -3.2828e-01, -9.4213e-02,  5.2132e-04,\n",
       "        9.9122e-02,  3.2206e-01,  4.0890e-01,  5.6735e-01, -1.9652e-01,\n",
       "       -6.5777e-02, -1.4637e-01, -1.2247e-01,  1.2867e-01, -1.1664e-01,\n",
       "       -1.5061e-01,  7.0165e-02,  6.6565e-02,  1.8837e-01, -1.0076e-02],\n",
       "      dtype=float32)"
      ]
     },
     "execution_count": 55,
     "metadata": {},
     "output_type": "execute_result"
    }
   ],
   "source": [
    "import gensim \n",
    "from gensim.models import KeyedVectors\n",
    "word2vec_path = os.getenv('HOME')+'/aiffel/sentiment_classification/ko/ko.vec'\n",
    "word2vec = KeyedVectors.load_word2vec_format(word2vec_path, binary=False, limit=1000000)\n",
    "vector = word2vec['영화']\n",
    "vector   # 이 데이터에 대해 분석해야 한다."
   ]
  },
  {
   "cell_type": "markdown",
   "metadata": {},
   "source": [
    "벡터의 길이를 출력해보니 총 200개의 워드 벡터임을 알 수 있다. "
   ]
  },
  {
   "cell_type": "code",
   "execution_count": 56,
   "metadata": {},
   "outputs": [
    {
     "name": "stdout",
     "output_type": "stream",
     "text": [
      "200\n"
     ]
    }
   ],
   "source": [
    "print(len(vector))"
   ]
  },
  {
   "cell_type": "markdown",
   "metadata": {},
   "source": [
    "### 2) 모델의 유사도 확인\n",
    "'영화'와 유사한 단어를 찾아 보았더니 한국어 word2vec에서 제공하는 워드 임베딩 벡터끼리는 의미적 유사도가 높게 나왔다. 그러나 '재미'로 해보았을 때는 그다지 높게 나오지 않는 것을 발견했다(10개 중 6개만 유사함.)."
   ]
  },
  {
   "cell_type": "code",
   "execution_count": 86,
   "metadata": {
    "scrolled": true
   },
   "outputs": [
    {
     "data": {
      "text/plain": [
       "[('개봉', 0.7001899480819702),\n",
       " ('영화인', 0.6775298118591309),\n",
       " ('다큐멘터리', 0.673824667930603),\n",
       " ('영화화하', 0.6737728118896484),\n",
       " ('영화사', 0.6599559783935547),\n",
       " ('영화감독', 0.6589449644088745),\n",
       " ('드라마', 0.6550132036209106),\n",
       " ('각색', 0.6526349186897278),\n",
       " ('뮤지컬', 0.6512709856033325),\n",
       " ('영화계', 0.6483563184738159)]"
      ]
     },
     "execution_count": 86,
     "metadata": {},
     "output_type": "execute_result"
    }
   ],
   "source": [
    "# 의미적 유사도 확인\n",
    "word2vec.similar_by_word(\"영화\")"
   ]
  },
  {
   "cell_type": "markdown",
   "metadata": {},
   "source": [
    "### 3) 한국어 Word2Vec로 교체하여 모델 구성\n",
    "이전에 학습했던 모델의 임베딩 레이어를 word2vec으로 교체하여 다시 학습한다. 워드벡터의 차원수는 200이다. "
   ]
  },
  {
   "cell_type": "code",
   "execution_count": 58,
   "metadata": {
    "scrolled": false
   },
   "outputs": [],
   "source": [
    "vocab_size = 10000    # 어휘 사전의 크기(10,000개의 단어)\n",
    "word_vector_dim = 200  # 워드 벡터의 차원수 (변경가능한 하이퍼파라미터)\n",
    "\n",
    "embedding_matrix = np.random.rand(vocab_size, word_vector_dim)\n",
    "\n",
    "# embedding_matrix에 Word2Vec 워드벡터를 단어 하나씩마다 차례차례 카피한다.\n",
    "for i in range(4,vocab_size):\n",
    "    if index_to_word[i] in word2vec:\n",
    "        embedding_matrix[i] = word2vec[index_to_word[i]]"
   ]
  },
  {
   "cell_type": "markdown",
   "metadata": {},
   "source": [
    "## LSTM 적용"
   ]
  },
  {
   "cell_type": "code",
   "execution_count": 59,
   "metadata": {
    "scrolled": true
   },
   "outputs": [
    {
     "name": "stdout",
     "output_type": "stream",
     "text": [
      "Model: \"sequential_4\"\n",
      "_________________________________________________________________\n",
      "Layer (type)                 Output Shape              Param #   \n",
      "=================================================================\n",
      "embedding_4 (Embedding)      (None, None, 200)         2000000   \n",
      "_________________________________________________________________\n",
      "lstm_2 (LSTM)                (None, 8)                 6688      \n",
      "_________________________________________________________________\n",
      "dense_8 (Dense)              (None, 8)                 72        \n",
      "_________________________________________________________________\n",
      "dense_9 (Dense)              (None, 1)                 9         \n",
      "=================================================================\n",
      "Total params: 2,006,769\n",
      "Trainable params: 2,006,769\n",
      "Non-trainable params: 0\n",
      "_________________________________________________________________\n"
     ]
    }
   ],
   "source": [
    "vocab_size = 10000    # 어휘 사전의 크기(10,000개의 단어)\n",
    "word_vector_dim = 200  # 워드 벡터의 차원수 (변경가능한 하이퍼파라미터)\n",
    "\n",
    "# RNNmodel 설계 \n",
    "model = keras.Sequential()\n",
    "model.add(keras.layers.Embedding(vocab_size, word_vector_dim, input_shape=(None,)))\n",
    "model.add(keras.layers.LSTM(8))   # LSTM 레이어를 사용하였다. LSTM state 벡터의 차원수는 8\n",
    "model.add(keras.layers.Dense(8, activation='relu'))\n",
    "model.add(keras.layers.Dense(1, activation='sigmoid'))  # 최종 출력은 긍정/부정을 나타내는 1 dim\n",
    "\n",
    "model.summary()"
   ]
  },
  {
   "cell_type": "markdown",
   "metadata": {},
   "source": [
    "### 4) 모델 학습"
   ]
  },
  {
   "cell_type": "code",
   "execution_count": 60,
   "metadata": {},
   "outputs": [
    {
     "name": "stdout",
     "output_type": "stream",
     "text": [
      "Epoch 1/5\n",
      "276/276 [==============================] - 7s 24ms/step - loss: 0.4856 - accuracy: 0.7637 - val_loss: 0.3753 - val_accuracy: 0.8394\n",
      "Epoch 2/5\n",
      "276/276 [==============================] - 6s 23ms/step - loss: 0.3338 - accuracy: 0.8592 - val_loss: 0.3354 - val_accuracy: 0.8584\n",
      "Epoch 3/5\n",
      "276/276 [==============================] - 6s 23ms/step - loss: 0.2995 - accuracy: 0.8740 - val_loss: 0.3275 - val_accuracy: 0.8612\n",
      "Epoch 4/5\n",
      "276/276 [==============================] - 6s 23ms/step - loss: 0.2722 - accuracy: 0.8851 - val_loss: 0.3308 - val_accuracy: 0.8638\n",
      "Epoch 5/5\n",
      "276/276 [==============================] - 6s 23ms/step - loss: 0.2466 - accuracy: 0.8966 - val_loss: 0.3429 - val_accuracy: 0.8624\n"
     ]
    }
   ],
   "source": [
    "model.compile(optimizer='adam',\n",
    "              loss='binary_crossentropy',\n",
    "              metrics=['accuracy'])\n",
    "              \n",
    "epochs=5  # 몇 epoch를 훈련하면 좋을지 결과를 보면서 바꾸어 봅시다. \n",
    "\n",
    "history = model.fit(partial_X_train,\n",
    "                    partial_y_train,\n",
    "                    epochs=epochs,\n",
    "                    batch_size=512,\n",
    "                    validation_data=(X_val, y_val),\n",
    "                    verbose=1)"
   ]
  },
  {
   "cell_type": "markdown",
   "metadata": {},
   "source": [
    "### 5) 모델 평가"
   ]
  },
  {
   "cell_type": "code",
   "execution_count": 61,
   "metadata": {
    "scrolled": false
   },
   "outputs": [
    {
     "name": "stdout",
     "output_type": "stream",
     "text": [
      "1537/1537 - 3s - loss: 0.3482 - accuracy: 0.8544\n",
      "[0.34817564487457275, 0.8543849587440491]\n"
     ]
    }
   ],
   "source": [
    "# 테스트셋을 통한 모델 평가\n",
    "results = model.evaluate(X_test,  y_test, verbose=2)\n",
    "\n",
    "print(results)"
   ]
  },
  {
   "cell_type": "markdown",
   "metadata": {},
   "source": [
    "Loss그래프를 보고 epoch를 결정하였다. 사전 학습된 모델을 사용하면 5% 이상 정확도가 높아져야 하는데, 별 차이가 나지 않는다. "
   ]
  },
  {
   "cell_type": "markdown",
   "metadata": {},
   "source": [
    "### 6) Loss, Accuracy 그래프 시각화"
   ]
  },
  {
   "cell_type": "markdown",
   "metadata": {},
   "source": [
    "#### 1) Loss 그래프 시각화"
   ]
  },
  {
   "cell_type": "code",
   "execution_count": 62,
   "metadata": {
    "scrolled": true
   },
   "outputs": [
    {
     "data": {
      "image/png": "[encoded data removed]",
      "text/plain": [
       "<Figure size 432x288 with 1 Axes>"
      ]
     },
     "metadata": {
      "needs_background": "light"
     },
     "output_type": "display_data"
    }
   ],
   "source": [
    "# epoch에 따른 training and validation loss 그래프 그리기\n",
    "\n",
    "import matplotlib.pyplot as plt\n",
    "\n",
    "history_dict = history.history\n",
    "acc = history_dict['accuracy']\n",
    "val_acc = history_dict['val_accuracy']\n",
    "loss = history_dict['loss']\n",
    "val_loss = history_dict['val_loss']\n",
    "\n",
    "epochs = range(1, len(acc) + 1)\n",
    "\n",
    "# \"bo\"는 \"파란색 점\"입니다\n",
    "plt.plot(epochs, loss, 'bo', label='Training loss')\n",
    "# b는 \"파란 실선\"입니다\n",
    "plt.plot(epochs, val_loss, 'b', label='Validation loss')\n",
    "plt.title('Training and validation loss')\n",
    "plt.xlabel('Epochs')\n",
    "plt.ylabel('Loss')\n",
    "plt.legend()\n",
    "\n",
    "plt.show()"
   ]
  },
  {
   "cell_type": "markdown",
   "metadata": {},
   "source": [
    "#### 2) Accuracy 그래프 시각화"
   ]
  },
  {
   "cell_type": "code",
   "execution_count": 63,
   "metadata": {
    "scrolled": true
   },
   "outputs": [
    {
     "data": {
      "image/png": "[encoded data removed]",
      "text/plain": [
       "<Figure size 432x288 with 1 Axes>"
      ]
     },
     "metadata": {
      "needs_background": "light"
     },
     "output_type": "display_data"
    }
   ],
   "source": [
    "plt.clf()   # 그림을 초기화\n",
    "\n",
    "plt.plot(epochs, acc, 'bo', label='Training acc')\n",
    "plt.plot(epochs, val_acc, 'b', label='Validation acc')\n",
    "plt.title('Training and validation accuracy')\n",
    "plt.xlabel('Epochs')\n",
    "plt.ylabel('Accuracy')\n",
    "plt.legend()\n",
    "\n",
    "plt.show()"
   ]
  },
  {
   "cell_type": "markdown",
   "metadata": {},
   "source": [
    "### 7) 학습된 Embedding 레이어 분석"
   ]
  },
  {
   "cell_type": "code",
   "execution_count": 64,
   "metadata": {},
   "outputs": [
    {
     "name": "stdout",
     "output_type": "stream",
     "text": [
      "(10000, 200)\n"
     ]
    }
   ],
   "source": [
    "embedding_layer = model.layers[0]\n",
    "weights = embedding_layer.get_weights()[0]\n",
    "print(weights.shape)    # shape: (vocab_size, embedding_dim)"
   ]
  },
  {
   "cell_type": "markdown",
   "metadata": {},
   "source": [
    "- 학습한 Embedding 파라미터 저장"
   ]
  },
  {
   "cell_type": "code",
   "execution_count": 65,
   "metadata": {},
   "outputs": [],
   "source": [
    "import os\n",
    "\n",
    "# 학습한 Embedding 파라미터를 파일에 써서 저장 \n",
    "word2vec_file_path = os.getenv('HOME')+'/aiffel/sentiment_classification/word2vec.txt'\n",
    "f = open(word2vec_file_path, 'w')\n",
    "f.write('{} {}\\n'.format(vocab_size-4, word_vector_dim))  # 몇개의 벡터를 얼마 사이즈로 기재할지 타이틀 쓰기\n",
    "\n",
    "# 단어 개수(에서 특수문자 4개는 제외하고)만큼의 워드 벡터를 파일에 기록\n",
    "vectors = model.get_weights()[0]\n",
    "for i in range(4,vocab_size):\n",
    "    f.write('{} {}\\n'.format(index_to_word[i], ' '.join(map(str, list(vectors[i, :])))))\n",
    "f.close()"
   ]
  },
  {
   "cell_type": "markdown",
   "metadata": {},
   "source": [
    "- Embedding 파라미터 확인"
   ]
  },
  {
   "cell_type": "code",
   "execution_count": 66,
   "metadata": {
    "scrolled": false
   },
   "outputs": [],
   "source": [
    "from gensim.models.keyedvectors import Word2VecKeyedVectors\n",
    "\n",
    "word_vectors = Word2VecKeyedVectors.load_word2vec_format(word2vec_file_path, binary=False)\n",
    "vector = word_vectors['영화']"
   ]
  },
  {
   "cell_type": "code",
   "execution_count": 67,
   "metadata": {
    "scrolled": false
   },
   "outputs": [
    {
     "data": {
      "text/plain": [
       "[('졸라', 0.7849285006523132),\n",
       " ('열라', 0.7596407532691956),\n",
       " ('가치', 0.7500051856040955),\n",
       " ('완전', 0.743036150932312),\n",
       " ('매우', 0.7384173274040222),\n",
       " ('브루스윌리스', 0.731959342956543),\n",
       " ('되게', 0.7205293774604797),\n",
       " ('이렇게', 0.7173727750778198),\n",
       " ('긴장감', 0.7144894003868103),\n",
       " ('노튼', 0.7111645936965942)]"
      ]
     },
     "execution_count": 67,
     "metadata": {},
     "output_type": "execute_result"
    }
   ],
   "source": [
    "# 워드 벡터가 의미벡터 공간 상에 유의미하게 학습되었는지 확인\n",
    "# 단어와 그 단어와 유사한 단어와의 유사도 확인\n",
    "word_vectors.similar_by_word(\"재미\")"
   ]
  },
  {
   "cell_type": "markdown",
   "metadata": {},
   "source": [
    "## 1-D CNN 모델 사용"
   ]
  },
  {
   "cell_type": "code",
   "execution_count": 68,
   "metadata": {
    "scrolled": false
   },
   "outputs": [
    {
     "name": "stdout",
     "output_type": "stream",
     "text": [
      "Model: \"sequential_5\"\n",
      "_________________________________________________________________\n",
      "Layer (type)                 Output Shape              Param #   \n",
      "=================================================================\n",
      "embedding_5 (Embedding)      (None, 41, 200)           2000000   \n",
      "_________________________________________________________________\n",
      "conv1d_3 (Conv1D)            (None, 35, 16)            22416     \n",
      "_________________________________________________________________\n",
      "max_pooling1d_1 (MaxPooling1 (None, 7, 16)             0         \n",
      "_________________________________________________________________\n",
      "conv1d_4 (Conv1D)            (None, 1, 16)             1808      \n",
      "_________________________________________________________________\n",
      "global_max_pooling1d_2 (Glob (None, 16)                0         \n",
      "_________________________________________________________________\n",
      "dense_10 (Dense)             (None, 8)                 136       \n",
      "_________________________________________________________________\n",
      "dense_11 (Dense)             (None, 1)                 9         \n",
      "=================================================================\n",
      "Total params: 2,024,369\n",
      "Trainable params: 2,024,369\n",
      "Non-trainable params: 0\n",
      "_________________________________________________________________\n"
     ]
    }
   ],
   "source": [
    "from tensorflow.keras.initializers import Constant\n",
    "\n",
    "vocab_size = 10000    # 어휘 사전의 크기입니다(10,000개의 단어)\n",
    "word_vector_dim = 200  # 워드 벡터의 차원수 (변경가능한 하이퍼파라미터)\n",
    "\n",
    "# 모델 구성(1D-CNN)\n",
    "model = keras.Sequential()\n",
    "model.add(keras.layers.Embedding(vocab_size, \n",
    "                                 word_vector_dim, \n",
    "                                 embeddings_initializer=Constant(embedding_matrix),  # 카피한 임베딩을 여기서 활용\n",
    "                                 input_length=maxlen, \n",
    "                                 trainable=True))   # trainable을 True로 주면 Fine-tuning\n",
    "model.add(keras.layers.Conv1D(16, 7, activation='relu'))\n",
    "model.add(keras.layers.MaxPooling1D(5))\n",
    "model.add(keras.layers.Conv1D(16, 7, activation='relu'))\n",
    "model.add(keras.layers.GlobalMaxPooling1D())\n",
    "model.add(keras.layers.Dense(8, activation='relu'))\n",
    "model.add(keras.layers.Dense(1, activation='sigmoid')) \n",
    "\n",
    "model.summary()"
   ]
  },
  {
   "cell_type": "markdown",
   "metadata": {},
   "source": [
    "### 4) 모델 학습"
   ]
  },
  {
   "cell_type": "code",
   "execution_count": 69,
   "metadata": {
    "scrolled": true
   },
   "outputs": [
    {
     "name": "stdout",
     "output_type": "stream",
     "text": [
      "Epoch 1/3\n",
      "2206/2206 [==============================] - 39s 18ms/step - loss: 0.4368 - accuracy: 0.7798 - val_loss: 0.3368 - val_accuracy: 0.8572\n",
      "Epoch 2/3\n",
      "2206/2206 [==============================] - 32s 14ms/step - loss: 0.3155 - accuracy: 0.8658 - val_loss: 0.3197 - val_accuracy: 0.8644\n",
      "Epoch 3/3\n",
      "2206/2206 [==============================] - 32s 14ms/step - loss: 0.2686 - accuracy: 0.8896 - val_loss: 0.3233 - val_accuracy: 0.8660\n"
     ]
    }
   ],
   "source": [
    "model.compile(optimizer='adam',\n",
    "              loss='binary_crossentropy',\n",
    "              metrics=['accuracy'])\n",
    "              \n",
    "epochs=3 # 몇 epoch를 훈련하면 좋을지 결과를 보면서 바꾸어 봅시다. \n",
    "\n",
    "history = model.fit(partial_X_train,\n",
    "                    partial_y_train,\n",
    "                    epochs=epochs,\n",
    "                    batch_size=64,\n",
    "                    validation_data=(X_val, y_val),\n",
    "                    verbose=1)"
   ]
  },
  {
   "cell_type": "markdown",
   "metadata": {},
   "source": [
    "### 5) 모델 평가"
   ]
  },
  {
   "cell_type": "code",
   "execution_count": 70,
   "metadata": {
    "scrolled": true
   },
   "outputs": [
    {
     "name": "stdout",
     "output_type": "stream",
     "text": [
      "1537/1537 - 3s - loss: 0.3352 - accuracy: 0.8576\n",
      "[0.3351723253726959, 0.857599139213562]\n"
     ]
    }
   ],
   "source": [
    "# 테스트셋을 통한 모델 평가\n",
    "results = model.evaluate(X_test,  y_test, verbose=2)\n",
    "\n",
    "print(results)"
   ]
  },
  {
   "cell_type": "markdown",
   "metadata": {},
   "source": [
    "같은 epoch로 학습하였을 때, word2vec을 사용하면 아주 약간의 성능향상(0.5% 정도)이 발생함을 알 수 있었다. 학습 속도도 조금 더 빨라졌다. "
   ]
  },
  {
   "cell_type": "markdown",
   "metadata": {},
   "source": [
    "### 6) Loss, Accuracy 그래프 시각화"
   ]
  },
  {
   "cell_type": "markdown",
   "metadata": {},
   "source": [
    "#### 1) Loss 그래프 시각화\n",
    "아래의 그래프를 보면 "
   ]
  },
  {
   "cell_type": "code",
   "execution_count": 71,
   "metadata": {},
   "outputs": [
    {
     "data": {
      "image/png": "[encoded data removed]",
      "text/plain": [
       "<Figure size 432x288 with 1 Axes>"
      ]
     },
     "metadata": {
      "needs_background": "light"
     },
     "output_type": "display_data"
    }
   ],
   "source": [
    "# epoch에 따른 training and validation loss 그래프 그리기\n",
    "\n",
    "import matplotlib.pyplot as plt\n",
    "\n",
    "history_dict = history.history\n",
    "acc = history_dict['accuracy']\n",
    "val_acc = history_dict['val_accuracy']\n",
    "loss = history_dict['loss']\n",
    "val_loss = history_dict['val_loss']\n",
    "\n",
    "epochs = range(1, len(acc) + 1)\n",
    "\n",
    "# \"bo\"는 \"파란색 점\"입니다\n",
    "plt.plot(epochs, loss, 'bo', label='Training loss')\n",
    "# b는 \"파란 실선\"입니다\n",
    "plt.plot(epochs, val_loss, 'b', label='Validation loss')\n",
    "plt.title('Training and validation loss')\n",
    "plt.xlabel('Epochs')\n",
    "plt.ylabel('Loss')\n",
    "plt.legend()\n",
    "\n",
    "plt.show()"
   ]
  },
  {
   "cell_type": "markdown",
   "metadata": {},
   "source": [
    "#### 2) Accuracy 그래프 시각화"
   ]
  },
  {
   "cell_type": "code",
   "execution_count": 72,
   "metadata": {
    "scrolled": true
   },
   "outputs": [
    {
     "data": {
      "image/png": "[encoded data removed]",
      "text/plain": [
       "<Figure size 432x288 with 1 Axes>"
      ]
     },
     "metadata": {
      "needs_background": "light"
     },
     "output_type": "display_data"
    }
   ],
   "source": [
    "plt.clf()   # 그림을 초기화\n",
    "\n",
    "plt.plot(epochs, acc, 'bo', label='Training acc')\n",
    "plt.plot(epochs, val_acc, 'b', label='Validation acc')\n",
    "plt.title('Training and validation accuracy')\n",
    "plt.xlabel('Epochs')\n",
    "plt.ylabel('Accuracy')\n",
    "plt.legend()\n",
    "\n",
    "plt.show()"
   ]
  },
  {
   "cell_type": "markdown",
   "metadata": {},
   "source": [
    "### 7) 학습된 Embedding 레이어 분석"
   ]
  },
  {
   "cell_type": "code",
   "execution_count": 73,
   "metadata": {},
   "outputs": [
    {
     "name": "stdout",
     "output_type": "stream",
     "text": [
      "(10000, 200)\n"
     ]
    }
   ],
   "source": [
    "embedding_layer = model.layers[0]\n",
    "weights = embedding_layer.get_weights()[0]\n",
    "print(weights.shape)    # shape: (vocab_size, embedding_dim)"
   ]
  },
  {
   "cell_type": "markdown",
   "metadata": {},
   "source": [
    "- 학습한 Embedding 파라미터 저장"
   ]
  },
  {
   "cell_type": "code",
   "execution_count": 74,
   "metadata": {},
   "outputs": [],
   "source": [
    "import os\n",
    "\n",
    "# 학습한 Embedding 파라미터를 파일에 써서 저장 \n",
    "word2vec_file_path = os.getenv('HOME')+'/aiffel/sentiment_classification/word2vec.txt'\n",
    "f = open(word2vec_file_path, 'w')\n",
    "f.write('{} {}\\n'.format(vocab_size-4, word_vector_dim))  # 몇개의 벡터를 얼마 사이즈로 기재할지 타이틀 쓰기\n",
    "\n",
    "# 단어 개수(에서 특수문자 4개는 제외하고)만큼의 워드 벡터를 파일에 기록\n",
    "vectors = model.get_weights()[0]\n",
    "for i in range(4,vocab_size):\n",
    "    f.write('{} {}\\n'.format(index_to_word[i], ' '.join(map(str, list(vectors[i, :])))))\n",
    "f.close()"
   ]
  },
  {
   "cell_type": "markdown",
   "metadata": {},
   "source": [
    "- Embedding 파라미터 확인"
   ]
  },
  {
   "cell_type": "code",
   "execution_count": 89,
   "metadata": {
    "scrolled": false
   },
   "outputs": [],
   "source": [
    "from gensim.models.keyedvectors import Word2VecKeyedVectors\n",
    "\n",
    "word_vectors = Word2VecKeyedVectors.load_word2vec_format(word2vec_file_path, binary=False)\n",
    "vector = word_vectors['영화']"
   ]
  },
  {
   "cell_type": "code",
   "execution_count": 76,
   "metadata": {
    "scrolled": false
   },
   "outputs": [
    {
     "data": {
      "text/plain": [
       "[('재미있', 0.518223762512207),\n",
       " ('재밌', 0.4977331757545471),\n",
       " ('긴장감', 0.4785453677177429),\n",
       " ('감동', 0.4520620107650757),\n",
       " ('웃음', 0.4379606246948242),\n",
       " ('매력', 0.4346483051776886),\n",
       " ('흥미', 0.43447327613830566),\n",
       " ('잼', 0.4284060597419739),\n",
       " ('웃기', 0.4268473982810974),\n",
       " ('한국인', 0.42577534914016724)]"
      ]
     },
     "execution_count": 76,
     "metadata": {},
     "output_type": "execute_result"
    }
   ],
   "source": [
    "# 워드 벡터가 의미벡터 공간 상에 유의미하게 학습되었는지 확인\n",
    "# 단어와 그 단어와 유사한 단어와의 유사도 확인\n",
    "word_vectors.similar_by_word(\"재미\")"
   ]
  },
  {
   "cell_type": "markdown",
   "metadata": {},
   "source": [
    "## GlobalMaxPooling() 적용"
   ]
  },
  {
   "cell_type": "code",
   "execution_count": 77,
   "metadata": {
    "scrolled": true
   },
   "outputs": [
    {
     "name": "stdout",
     "output_type": "stream",
     "text": [
      "Model: \"sequential_6\"\n",
      "_________________________________________________________________\n",
      "Layer (type)                 Output Shape              Param #   \n",
      "=================================================================\n",
      "embedding_6 (Embedding)      (None, None, 100)         1000000   \n",
      "_________________________________________________________________\n",
      "conv1d_5 (Conv1D)            (None, None, 16)          11216     \n",
      "_________________________________________________________________\n",
      "global_max_pooling1d_3 (Glob (None, 16)                0         \n",
      "_________________________________________________________________\n",
      "dense_12 (Dense)             (None, 8)                 136       \n",
      "_________________________________________________________________\n",
      "dense_13 (Dense)             (None, 1)                 9         \n",
      "=================================================================\n",
      "Total params: 1,011,361\n",
      "Trainable params: 1,011,361\n",
      "Non-trainable params: 0\n",
      "_________________________________________________________________\n"
     ]
    }
   ],
   "source": [
    "vocab_size = 10000    # 어휘 사전의 크기(10,000개의 단어)\n",
    "word_vector_dim = 100 # 워드 벡터의 차원수 (변경가능한 하이퍼파라미터)\n",
    "\n",
    "model = keras.Sequential()\n",
    "model.add(keras.layers.Embedding(vocab_size, word_vector_dim, input_shape=(None,)))\n",
    "model.add(keras.layers.Conv1D(16, 7, activation='relu'))\n",
    "model.add(keras.layers.GlobalMaxPooling1D())\n",
    "model.add(keras.layers.Dense(8, activation='relu'))\n",
    "model.add(keras.layers.Dense(1, activation='sigmoid'))  # 최종 출력은 긍정/부정을 나타내는 1dim 입니다.\n",
    "\n",
    "model.summary()"
   ]
  },
  {
   "cell_type": "markdown",
   "metadata": {},
   "source": [
    "### 4) 모델 학습"
   ]
  },
  {
   "cell_type": "code",
   "execution_count": 78,
   "metadata": {
    "scrolled": true
   },
   "outputs": [
    {
     "name": "stdout",
     "output_type": "stream",
     "text": [
      "Epoch 1/3\n",
      "276/276 [==============================] - 3s 12ms/step - loss: 0.4283 - accuracy: 0.8031 - val_loss: 0.3326 - val_accuracy: 0.8570\n",
      "Epoch 2/3\n",
      "276/276 [==============================] - 3s 12ms/step - loss: 0.3054 - accuracy: 0.8725 - val_loss: 0.3254 - val_accuracy: 0.8612\n",
      "Epoch 3/3\n",
      "276/276 [==============================] - 3s 12ms/step - loss: 0.2581 - accuracy: 0.8966 - val_loss: 0.3309 - val_accuracy: 0.8628\n"
     ]
    }
   ],
   "source": [
    "model.compile(optimizer='adam',\n",
    "              loss='binary_crossentropy',\n",
    "              metrics=['accuracy'])\n",
    "              \n",
    "epochs=3 # 몇 epoch를 훈련하면 좋을지 결과를 보면서 바꾸어 봅시다. \n",
    "\n",
    "history = model.fit(partial_X_train,\n",
    "                    partial_y_train,\n",
    "                    epochs=epochs,\n",
    "                    batch_size=512,\n",
    "                    validation_data=(X_val, y_val),\n",
    "                    verbose=1)"
   ]
  },
  {
   "cell_type": "markdown",
   "metadata": {},
   "source": [
    "### 5) 모델 평가"
   ]
  },
  {
   "cell_type": "code",
   "execution_count": 79,
   "metadata": {
    "scrolled": true
   },
   "outputs": [
    {
     "name": "stdout",
     "output_type": "stream",
     "text": [
      "1537/1537 - 2s - loss: 0.3397 - accuracy: 0.8591\n",
      "[0.33971938490867615, 0.8591045141220093]\n"
     ]
    }
   ],
   "source": [
    "# 테스트셋을 통한 모델 평가\n",
    "results = model.evaluate(X_test,  y_test, verbose=2)\n",
    "\n",
    "print(results)"
   ]
  },
  {
   "cell_type": "markdown",
   "metadata": {},
   "source": [
    "같은 epoch로 학습하였을 때, word2vec을 사용하면 대부분의 경우 아주 조금(1% 미만) 성능이 개선되었으나, 이번에는 정말 조금이지만 성능이 떨어졌다. "
   ]
  },
  {
   "cell_type": "markdown",
   "metadata": {},
   "source": [
    "### 6) Loss, Accuracy 그래프 시각화"
   ]
  },
  {
   "cell_type": "markdown",
   "metadata": {},
   "source": [
    "#### 1) Loss 그래프 시각화"
   ]
  },
  {
   "cell_type": "code",
   "execution_count": 80,
   "metadata": {},
   "outputs": [
    {
     "data": {
      "image/png": "[encoded data removed]",
      "text/plain": [
       "<Figure size 432x288 with 1 Axes>"
      ]
     },
     "metadata": {
      "needs_background": "light"
     },
     "output_type": "display_data"
    }
   ],
   "source": [
    "# epoch에 따른 training and validation loss 그래프 그리기\n",
    "\n",
    "import matplotlib.pyplot as plt\n",
    "\n",
    "history_dict = history.history\n",
    "acc = history_dict['accuracy']\n",
    "val_acc = history_dict['val_accuracy']\n",
    "loss = history_dict['loss']\n",
    "val_loss = history_dict['val_loss']\n",
    "\n",
    "epochs = range(1, len(acc) + 1)\n",
    "\n",
    "# \"bo\"는 \"파란색 점\"입니다\n",
    "plt.plot(epochs, loss, 'bo', label='Training loss')\n",
    "# b는 \"파란 실선\"입니다\n",
    "plt.plot(epochs, val_loss, 'b', label='Validation loss')\n",
    "plt.title('Training and validation loss')\n",
    "plt.xlabel('Epochs')\n",
    "plt.ylabel('Loss')\n",
    "plt.legend()\n",
    "\n",
    "plt.show()"
   ]
  },
  {
   "cell_type": "markdown",
   "metadata": {},
   "source": [
    "#### 2) Accuracy 그래프 시각화"
   ]
  },
  {
   "cell_type": "code",
   "execution_count": 81,
   "metadata": {
    "scrolled": true
   },
   "outputs": [
    {
     "data": {
      "image/png": "[encoded data removed]",
      "text/plain": [
       "<Figure size 432x288 with 1 Axes>"
      ]
     },
     "metadata": {
      "needs_background": "light"
     },
     "output_type": "display_data"
    }
   ],
   "source": [
    "plt.clf()   # 그림을 초기화\n",
    "\n",
    "plt.plot(epochs, acc, 'bo', label='Training acc')\n",
    "plt.plot(epochs, val_acc, 'b', label='Validation acc')\n",
    "plt.title('Training and validation accuracy')\n",
    "plt.xlabel('Epochs')\n",
    "plt.ylabel('Accuracy')\n",
    "plt.legend()\n",
    "\n",
    "plt.show()"
   ]
  },
  {
   "cell_type": "markdown",
   "metadata": {},
   "source": [
    "### 7) 학습된 Embedding 레이어 분석"
   ]
  },
  {
   "cell_type": "code",
   "execution_count": 82,
   "metadata": {},
   "outputs": [
    {
     "name": "stdout",
     "output_type": "stream",
     "text": [
      "(10000, 100)\n"
     ]
    }
   ],
   "source": [
    "embedding_layer = model.layers[0]\n",
    "weights = embedding_layer.get_weights()[0]\n",
    "print(weights.shape)    # shape: (vocab_size, embedding_dim)"
   ]
  },
  {
   "cell_type": "markdown",
   "metadata": {},
   "source": [
    "- 학습한 Embedding 파라미터 저장"
   ]
  },
  {
   "cell_type": "code",
   "execution_count": 83,
   "metadata": {},
   "outputs": [],
   "source": [
    "import os\n",
    "\n",
    "# 학습한 Embedding 파라미터를 파일에 써서 저장 \n",
    "word2vec_file_path = os.getenv('HOME')+'/aiffel/sentiment_classification/word2vec.txt'\n",
    "f = open(word2vec_file_path, 'w')\n",
    "f.write('{} {}\\n'.format(vocab_size-4, word_vector_dim))  # 몇개의 벡터를 얼마 사이즈로 기재할지 타이틀 쓰기\n",
    "\n",
    "# 단어 개수(에서 특수문자 4개는 제외하고)만큼의 워드 벡터를 파일에 기록\n",
    "vectors = model.get_weights()[0]\n",
    "for i in range(4,vocab_size):\n",
    "    f.write('{} {}\\n'.format(index_to_word[i], ' '.join(map(str, list(vectors[i, :])))))\n",
    "f.close()"
   ]
  },
  {
   "cell_type": "markdown",
   "metadata": {},
   "source": [
    "- Embedding 파라미터 확인"
   ]
  },
  {
   "cell_type": "code",
   "execution_count": 90,
   "metadata": {
    "scrolled": false
   },
   "outputs": [],
   "source": [
    "from gensim.models.keyedvectors import Word2VecKeyedVectors\n",
    "\n",
    "word_vectors = Word2VecKeyedVectors.load_word2vec_format(word2vec_file_path, binary=False)\n",
    "vector = word_vectors['영화']"
   ]
  },
  {
   "cell_type": "code",
   "execution_count": 85,
   "metadata": {
    "scrolled": true
   },
   "outputs": [
    {
     "data": {
      "text/plain": [
       "[('임팩트', 0.6432698369026184),\n",
       " ('긴장감', 0.613757312297821),\n",
       " ('깊이', 0.602951169013977),\n",
       " ('이리', 0.5572503805160522),\n",
       " ('원빈', 0.5318371057510376),\n",
       " ('의리', 0.5315841436386108),\n",
       " ('완전', 0.5240482687950134),\n",
       " ('몰입', 0.5167132019996643),\n",
       " ('잼', 0.5155214071273804),\n",
       " ('욱', 0.5147349834442139)]"
      ]
     },
     "execution_count": 85,
     "metadata": {},
     "output_type": "execute_result"
    }
   ],
   "source": [
    "# 워드 벡터가 의미벡터 공간 상에 유의미하게 학습되었는지 확인\n",
    "# 단어와 그 단어와 유사한 단어와의 유사도 확인\n",
    "word_vectors.similar_by_word(\"재미\")"
   ]
  },
  {
   "attachments": {
    "Screenshot%20from%202021-01-21%2022-39-07.png": {
     "image/png": "[encoded data removed]"
    }
   },
   "cell_type": "markdown",
   "metadata": {},
   "source": [
    "## - 결과 비교\n",
    "### 1) 정확도 비교\n",
    "![Screenshot%20from%202021-01-21%2022-39-07.png](attachment:Screenshot%20from%202021-01-21%2022-39-07.png)\n",
    "- 자체 학습 시에는 GlobalMaxPooling이 정확도가 제일 높았고, RNN의 정확도가 제일 낮았다. 학습 속도는 1-D CNN이 가장 느린 것으로 나오나, 대부분의 경우에는 1초로 가장 빨랐다. \n",
    "- 사전 학습의 경우에도 GlobalMaxPooling이 정확도가 제일 높았고, RNN의 정확도가 제일 낮았다. \n",
    "- 자체 학습과 사전 학습과의 비교를 해보면, 3가지의 모델 모두 자체 학습보다는 정확도가 높았으나, 예상보다는 많이 높지 않았다.\n",
    "- 그러나 자체 학습과 사전 학습의 모든 모델의 정확도는 서로 비슷하여 별 차이가 없었다.\n",
    "\n",
    "### 2) 임베딩 레이어 분석    \n",
    "사전 학습 자체 학습과 사전 학습 모델의 정확도가 비슷하여 왜 그런지 gensim의 유사단어 찾기를 활용하여 임베딩을 비교하였다. \n",
    "- 재미의 경우\n",
    "![](https://images.velog.io/images/guide333/post/1e2b40df-f5b4-4ff2-8026-fc53755191fe/Screenshot%20from%202021-01-21%2022-43-35.png)\n",
    "'재미'의 경우, 사전 학습 모델이 유사도가 약간 높으나 자체 학습과도 별 차이가 없는 것 같다.      \n",
    "\n",
    "- 영화의 경우\n",
    "![](https://images.velog.io/images/guide333/post/b4ec29ee-c84f-4582-b9db-5ccfb2b66d23/Screenshot%20from%202021-01-21%2023-19-53.png)\n",
    "'영화'의 경우도 단어 유사도가 그리 높지 않았다. 사전 학습 모델에서는 1-D CNN 외에는 단어별 유사도가 높지 않은 것으로 나타났다. 이런 이유로 자체 학습과 사전 학습 모델의 정확도가 별로 차이가 나지 않는 것 같다. "
   ]
  },
  {
   "cell_type": "markdown",
   "metadata": {},
   "source": [
    "# 후기\n",
    "- 이번 프로젝트에서 어려웠던 점  \n",
    "1. 파라미터 설정    \n",
    "우선 모델을 설계할 때, 파라미터를 잘못 집어넣어 에러 메시지가 나왔다. 그 사실을 알아내기까지 너무 많은 시간을 낭비하였다. \n",
    "2. 모델 성능 개선      \n",
    "처음부터 모델의 성능은 84~85% 정도에서 왔다갔다 했다. 사전 학습 모델로 임베딩했을 때, 자체 학습 모델과 성능이 아주 조금 개선되었다(1% 미만). 어떤 때는 도리어 성능이 떨어져서 이 문제를 해결하고자 다양한 시도를 했으나 별 성과는 없었다. 시도했던 방법들은 검증셋 크기 변화, 모델 변화, 불용어 추가 등이 있었다. \n",
    "\n",
    "- 프로젝트를 진행하면서 아직 모호한 점    \n",
    "1. 모델 성능을 개선하기 위해서 무엇을 해야 하는지 잘 모르겠다. 여러 방법을 시도했으나 성능이 개선되지 않았다.\n",
    "2. LMS에서 예상한 결과가 나오지 않는 점이 이상하다. 1-D CNN이 RNN보다 학습 속도가 빨라야 하는데, 이번에는 느리게 나왔다. 이전까지는 빨랐는데, 왜 느리게 변했는지 모르겠다. \n",
    "\n",
    "\n",
    "- 루브릭 평가 지표를 맞추기 위해 시도한 것들          \n",
    "3가지 이상의 모델(RNN, 1-D CNN, GlobalMaxPooling)을 성공적으로 시도하였고, gensim의 유사단어 찾기를 활용하여 자체학습한 임베딩과 사전학습 임베딩을 분석하였다. 그러나 분석은 조금 부족한 것 같다. 네이버 영화리뷰 데이터 감성분석 정확도를 대부분 85% 이상 달성하였다.\n",
    "\n",
    "\n",
    "- 자기 다짐        \n",
    "이번 프로젝트는 정말 힘들었다. 평소보다 정말 많은 시간을 투자하였으나 만족할만한 결과가 나오지 않아 속상하다. 자연어처리가 이렇게 어려운 줄은 몰랐다. 그러나 어려운 만큼 자연어 처리 공부를 더 열심히 하고 싶다. "
   ]
  }
 ],
 "metadata": {
  "kernelspec": {
   "display_name": "aiffel",
   "language": "python",
   "name": "aiffel"
  },
  "language_info": {
   "codemirror_mode": {
    "name": "ipython",
    "version": 3
   },
   "file_extension": ".py",
   "mimetype": "text/x-python",
   "name": "python",
   "nbconvert_exporter": "python",
   "pygments_lexer": "ipython3",
   "version": "3.7.9"
  }
 },
 "nbformat": 4,
 "nbformat_minor": 4
}
