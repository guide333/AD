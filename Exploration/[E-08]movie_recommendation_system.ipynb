{
 "cells": [
  {
   "cell_type": "markdown",
   "id": "dependent-earthquake",
   "metadata": {},
   "source": [
    "# Movielens 영화 추천 실습\n",
    "## 목표\n",
    "MF 모델 학습 방법을 토대로, 사용자가 좋아할 만한 영화 추천 시스템을 제작해 본다. \n",
    "\n",
    "## 추천시스템이란?\n",
    "추천시스템은 '아이템이 많고 유저의 취향이 다양할 때 유저가 소비할만한 아이템을 예측하는 모델'이다. 빅데이터를 사용하여 추천시스템을 만들 수 있으며, 추천 방식에는 _협업 필터링(collaborative filtering)_ 과 _콘텐츠 기반 필터링(contents-based filtering)_ 이 있다. 여기서는 사용자간 유사성 및 아이템 간 유사성을 기반으로 한 협업 필터링을 사용할 것이다.\n",
    "\n",
    "## 데이터 설명\n",
    "활용할 데이터셋은 추천시스템의 MNIST와 같은 __Movielens__ 데이터이다. Movielens 데이터에 대한 설명과 사용하는 방법은 다음과 같다.\n",
    "\n",
    "- 유저가 영화에 대해 평점을 매긴 데이터가 데이터 크기별로 있다. MovieLens 1M Dataset 사용을 권장한다.        \n",
    "- 별점 데이터는 대표적인 explicit 데이터이지만 implicit 데이터로 간주하고 테스트해볼 수 있다.   \n",
    "- 별점을 시청횟수로 해석해서 생각한다.    \n",
    "- 유저가 3점 미만으로 준 데이터는 선호하지 않는다고 가정하고 제외한다. \n",
    "\n",
    "\n",
    "## 순서\n",
    "1. 데이터 준비와 전처리\n",
    "2. 데이터 분석\n",
    "3. 모델 검증을 위한 사용자 초기 정보 세팅\n",
    "4. 모델에 활용하기 위한 전처리\n",
    "5. CSR matrix 만들기\n",
    "6. 모델 설계 및 학습\n",
    "7. 사용자가 좋아하는 영화와 비슷한 영화 추천하기\n",
    "8. 사용자가 좋아할만한 영화 추천하기\n",
    "\n",
    "## 1. 데이터 준비와 전처리\n",
    "\n",
    "### 데이터 다운로드\n",
    "MovieLens 1M Dataset 데이터셋의 경우는 크기가 작아서 아래와 같이 직접 다운 받고 압축 해제한다.\n",
    "\n",
    "```python\n",
    "1) wget으로 데이터 다운로드\n",
    "$ wget http://files.grouplens.org/datasets/movielens/ml-1m.zip\n",
    "\n",
    "2) 다운받은 데이터를 작업디렉토리로 옮김\n",
    "$ mv ml-1m.zip ~/aiffel/recommendata_iu/data\n",
    "\n",
    "3) 작업디렉토리로 이동\n",
    "$ cd ~/aiffel/recommendata_iu/data\n",
    "\n",
    "4) 압축 해제\n",
    "$ unzip ml-1m.zip\n",
    "```\n",
    "Movielens 데이터는 rating.dat 안에 이미 인덱싱까지 완료된 사용자-영화-평점 데이터가 정리되어 있어 전처리가 노드보다 쉬웠다.\n",
    "\n",
    "### 필요한 라이브러리와 데이터 불러오기"
   ]
  },
  {
   "cell_type": "code",
   "execution_count": 1,
   "id": "furnished-version",
   "metadata": {
    "scrolled": false
   },
   "outputs": [
    {
     "data": {
      "text/html": [
       "<div>\n",
       "<style scoped>\n",
       "    .dataframe tbody tr th:only-of-type {\n",
       "        vertical-align: middle;\n",
       "    }\n",
       "\n",
       "    .dataframe tbody tr th {\n",
       "        vertical-align: top;\n",
       "    }\n",
       "\n",
       "    .dataframe thead th {\n",
       "        text-align: right;\n",
       "    }\n",
       "</style>\n",
       "<table border=\"1\" class=\"dataframe\">\n",
       "  <thead>\n",
       "    <tr style=\"text-align: right;\">\n",
       "      <th></th>\n",
       "      <th>user_id</th>\n",
       "      <th>movie_id</th>\n",
       "      <th>rating</th>\n",
       "      <th>timestamp</th>\n",
       "    </tr>\n",
       "  </thead>\n",
       "  <tbody>\n",
       "    <tr>\n",
       "      <th>0</th>\n",
       "      <td>1</td>\n",
       "      <td>1193</td>\n",
       "      <td>5</td>\n",
       "      <td>978300760</td>\n",
       "    </tr>\n",
       "    <tr>\n",
       "      <th>1</th>\n",
       "      <td>1</td>\n",
       "      <td>661</td>\n",
       "      <td>3</td>\n",
       "      <td>978302109</td>\n",
       "    </tr>\n",
       "    <tr>\n",
       "      <th>2</th>\n",
       "      <td>1</td>\n",
       "      <td>914</td>\n",
       "      <td>3</td>\n",
       "      <td>978301968</td>\n",
       "    </tr>\n",
       "    <tr>\n",
       "      <th>3</th>\n",
       "      <td>1</td>\n",
       "      <td>3408</td>\n",
       "      <td>4</td>\n",
       "      <td>978300275</td>\n",
       "    </tr>\n",
       "    <tr>\n",
       "      <th>4</th>\n",
       "      <td>1</td>\n",
       "      <td>2355</td>\n",
       "      <td>5</td>\n",
       "      <td>978824291</td>\n",
       "    </tr>\n",
       "  </tbody>\n",
       "</table>\n",
       "</div>"
      ],
      "text/plain": [
       "   user_id  movie_id  rating  timestamp\n",
       "0        1      1193       5  978300760\n",
       "1        1       661       3  978302109\n",
       "2        1       914       3  978301968\n",
       "3        1      3408       4  978300275\n",
       "4        1      2355       5  978824291"
      ]
     },
     "execution_count": 1,
     "metadata": {},
     "output_type": "execute_result"
    }
   ],
   "source": [
    "# 필요한 라이브러리 임포트\n",
    "import pandas as pd\n",
    "import os\n",
    "\n",
    "# Movielens 데이터 불러오기\n",
    "rating_file_path=os.getenv('HOME') + '/aiffel/recommendata_iu/data/ml-1m/ratings.dat'\n",
    "ratings_cols = ['user_id', 'movie_id', 'rating', 'timestamp']  # 임의로 지정한 컬럼명\n",
    "\n",
    "# Movielens 데이터 읽기, 컬럼 이름은 'ratings_cols'\n",
    "# '::'로 분리\n",
    "ratings = pd.read_csv(rating_file_path, sep='::', names=ratings_cols, engine='python')\n",
    "orginal_data_size = len(ratings)\n",
    "ratings.head()"
   ]
  },
  {
   "cell_type": "markdown",
   "id": "dirty-twins",
   "metadata": {},
   "source": [
    "### 데이터 전처리\n",
    "유저가 3점 미만으로 준 데이터는 선호하지 않는다고 가정하므로 3점 이상만 남긴다."
   ]
  },
  {
   "cell_type": "code",
   "execution_count": 2,
   "id": "vietnamese-banks",
   "metadata": {
    "scrolled": true
   },
   "outputs": [
    {
     "name": "stdout",
     "output_type": "stream",
     "text": [
      "orginal_data_size: 1000209, filtered_data_size: 836478\n",
      "Ratio of Remaining Data is 83.63%\n"
     ]
    }
   ],
   "source": [
    "# 3점 이상만 남기기\n",
    "ratings = ratings[ratings['rating']>=3]\n",
    "filtered_data_size = len(ratings)\n",
    "\n",
    "print(f'orginal_data_size: {orginal_data_size}, filtered_data_size: {filtered_data_size}')\n",
    "print(f'Ratio of Remaining Data is {filtered_data_size / orginal_data_size:.2%}')"
   ]
  },
  {
   "cell_type": "markdown",
   "id": "veterinary-disclosure",
   "metadata": {},
   "source": [
    "별점을 시청횟수로 해석하므로 rating 컬럼의 이름을 count로 바꾼다."
   ]
  },
  {
   "cell_type": "code",
   "execution_count": 3,
   "id": "distinguished-channel",
   "metadata": {},
   "outputs": [],
   "source": [
    "# rating 컬럼의 이름을 count로 바꾼다.\n",
    "ratings.rename(columns={'rating':'count'}, inplace=True)"
   ]
  },
  {
   "cell_type": "code",
   "execution_count": 4,
   "id": "domestic-arlington",
   "metadata": {},
   "outputs": [
    {
     "data": {
      "text/plain": [
       "0          5\n",
       "1          3\n",
       "2          3\n",
       "3          4\n",
       "4          5\n",
       "          ..\n",
       "1000203    3\n",
       "1000205    5\n",
       "1000206    5\n",
       "1000207    4\n",
       "1000208    4\n",
       "Name: count, Length: 836478, dtype: int64"
      ]
     },
     "execution_count": 4,
     "metadata": {},
     "output_type": "execute_result"
    }
   ],
   "source": [
    "# 확인\n",
    "ratings['count']"
   ]
  },
  {
   "cell_type": "markdown",
   "id": "spanish-edinburgh",
   "metadata": {},
   "source": [
    "영화 제목을 보기 위해 메타 데이터를 읽어온다."
   ]
  },
  {
   "cell_type": "code",
   "execution_count": 5,
   "id": "printable-maximum",
   "metadata": {},
   "outputs": [
    {
     "data": {
      "text/html": [
       "<div>\n",
       "<style scoped>\n",
       "    .dataframe tbody tr th:only-of-type {\n",
       "        vertical-align: middle;\n",
       "    }\n",
       "\n",
       "    .dataframe tbody tr th {\n",
       "        vertical-align: top;\n",
       "    }\n",
       "\n",
       "    .dataframe thead th {\n",
       "        text-align: right;\n",
       "    }\n",
       "</style>\n",
       "<table border=\"1\" class=\"dataframe\">\n",
       "  <thead>\n",
       "    <tr style=\"text-align: right;\">\n",
       "      <th></th>\n",
       "      <th>movie_id</th>\n",
       "      <th>title</th>\n",
       "      <th>genre</th>\n",
       "    </tr>\n",
       "  </thead>\n",
       "  <tbody>\n",
       "    <tr>\n",
       "      <th>0</th>\n",
       "      <td>1</td>\n",
       "      <td>Toy Story (1995)</td>\n",
       "      <td>Animation|Children's|Comedy</td>\n",
       "    </tr>\n",
       "    <tr>\n",
       "      <th>1</th>\n",
       "      <td>2</td>\n",
       "      <td>Jumanji (1995)</td>\n",
       "      <td>Adventure|Children's|Fantasy</td>\n",
       "    </tr>\n",
       "    <tr>\n",
       "      <th>2</th>\n",
       "      <td>3</td>\n",
       "      <td>Grumpier Old Men (1995)</td>\n",
       "      <td>Comedy|Romance</td>\n",
       "    </tr>\n",
       "    <tr>\n",
       "      <th>3</th>\n",
       "      <td>4</td>\n",
       "      <td>Waiting to Exhale (1995)</td>\n",
       "      <td>Comedy|Drama</td>\n",
       "    </tr>\n",
       "    <tr>\n",
       "      <th>4</th>\n",
       "      <td>5</td>\n",
       "      <td>Father of the Bride Part II (1995)</td>\n",
       "      <td>Comedy</td>\n",
       "    </tr>\n",
       "  </tbody>\n",
       "</table>\n",
       "</div>"
      ],
      "text/plain": [
       "   movie_id                               title                         genre\n",
       "0         1                    Toy Story (1995)   Animation|Children's|Comedy\n",
       "1         2                      Jumanji (1995)  Adventure|Children's|Fantasy\n",
       "2         3             Grumpier Old Men (1995)                Comedy|Romance\n",
       "3         4            Waiting to Exhale (1995)                  Comedy|Drama\n",
       "4         5  Father of the Bride Part II (1995)                        Comedy"
      ]
     },
     "execution_count": 5,
     "metadata": {},
     "output_type": "execute_result"
    }
   ],
   "source": [
    "# 메타 데이터 읽기\n",
    "movie_file_path=os.getenv('HOME') + '/aiffel/recommendata_iu/data/ml-1m/movies.dat'\n",
    "cols = ['movie_id', 'title', 'genre'] \n",
    "movies = pd.read_csv(movie_file_path, sep='::', names=cols, engine='python')\n",
    "movies.head()"
   ]
  },
  {
   "cell_type": "markdown",
   "id": "official-brunei",
   "metadata": {},
   "source": [
    "> 참고: [메타데이터](https://ko.wikipedia.org/wiki/%EB%A9%94%ED%83%80%EB%8D%B0%EC%9D%B4%ED%84%B0#:~:text=%EB%A9%94%ED%83%80%EB%8D%B0%EC%9D%B4%ED%84%B0(metadata)%EB%8A%94%20%EB%8D%B0%EC%9D%B4%ED%84%B0,purpose%22%EB%9D%BC%EA%B3%A0%EB%8F%84%20%EC%A0%95%EC%9D%98%ED%95%9C%EB%8B%A4.)           \n",
    "데이터에 관한 구조화된 데이터로, 다른 데이터를 설명해 주는 데이터이다. 대량의 정보 가운데에서 찾고 있는 정보를 효율적으로 찾아내서 이용하기 위해 일정한 규칙에 따라 콘텐츠에 대하여 부여되는 데이터이다. 어떤 데이터 즉 구조화된 정보를 분석, 분류하고 부가적 정보를 추가하기 위해 그 데이터 뒤에 함께 따라가는 정보를 말한다."
   ]
  },
  {
   "cell_type": "markdown",
   "id": "miniature-thursday",
   "metadata": {},
   "source": [
    "## 2. 데이터 탐색\n",
    "- 유니크한 데이터의 개수(영화, 사용자)\n",
    "- 가장 인기있는 영화 30개\n",
    "- 기타\n",
    "\n",
    "### 유니크한 데이터의 개수\n",
    "pandas.DataFrame.nunique()을 사용하여 특정 컬럼에 포함된 유니크한 데이터의 개수를 알아본다. "
   ]
  },
  {
   "cell_type": "code",
   "execution_count": 6,
   "id": "desirable-massachusetts",
   "metadata": {
    "scrolled": true
   },
   "outputs": [
    {
     "data": {
      "text/plain": [
       "3628"
      ]
     },
     "execution_count": 6,
     "metadata": {},
     "output_type": "execute_result"
    }
   ],
   "source": [
    "# ratings에 있는 유니크한 영화 개수\n",
    "ratings['movie_id'].nunique()"
   ]
  },
  {
   "cell_type": "code",
   "execution_count": 7,
   "id": "greenhouse-cement",
   "metadata": {
    "scrolled": true
   },
   "outputs": [
    {
     "data": {
      "text/plain": [
       "6039"
      ]
     },
     "execution_count": 7,
     "metadata": {},
     "output_type": "execute_result"
    }
   ],
   "source": [
    "# rating에 있는 유니크한 사용자 수\n",
    "ratings['user_id'].nunique()"
   ]
  },
  {
   "cell_type": "markdown",
   "id": "lasting-fountain",
   "metadata": {},
   "source": [
    "파일 ratings에 있는 유니크한 영화는 3628개이고, 유니크한 사용자는 6039명이다.   \n",
    "\n",
    "### 가장 인기 있는 영화 30개 검색\n",
    "이제 가장 인기 있는 영화 30개를 검색해본다. 검색 후 숫자로 이루어진 movie_id가 나왔다. 영화 이름으로 검색하기 위해 두 개의 데이터프레임 ratings과 movies를 병합한 후, 다시 검색한다."
   ]
  },
  {
   "cell_type": "code",
   "execution_count": 8,
   "id": "normal-personal",
   "metadata": {
    "scrolled": true
   },
   "outputs": [
    {
     "data": {
      "text/plain": [
       "movie_id\n",
       "2858    3211\n",
       "260     2910\n",
       "1196    2885\n",
       "1210    2716\n",
       "2028    2561\n",
       "589     2509\n",
       "593     2498\n",
       "1198    2473\n",
       "1270    2460\n",
       "2571    2434\n",
       "480     2413\n",
       "2762    2385\n",
       "608     2371\n",
       "110     2314\n",
       "1580    2297\n",
       "527     2257\n",
       "1197    2252\n",
       "2396    2213\n",
       "1617    2210\n",
       "318     2194\n",
       "858     2167\n",
       "1265    2121\n",
       "1097    2102\n",
       "2997    2066\n",
       "2716    2051\n",
       "296     2030\n",
       "356     2022\n",
       "1240    2019\n",
       "1       2000\n",
       "457     1941\n",
       "Name: user_id, dtype: int64"
      ]
     },
     "execution_count": 8,
     "metadata": {},
     "output_type": "execute_result"
    }
   ],
   "source": [
    "movie_count = ratings.groupby('movie_id')['user_id'].count()\n",
    "movie_count.sort_values(ascending=False).head(30)"
   ]
  },
  {
   "cell_type": "code",
   "execution_count": 9,
   "id": "mighty-deputy",
   "metadata": {
    "scrolled": true
   },
   "outputs": [],
   "source": [
    "# 데이터 병합\n",
    "data = pd.merge(ratings, movies, how='inner', on='movie_id')"
   ]
  },
  {
   "cell_type": "code",
   "execution_count": 10,
   "id": "ideal-creek",
   "metadata": {},
   "outputs": [
    {
     "data": {
      "text/html": [
       "<div>\n",
       "<style scoped>\n",
       "    .dataframe tbody tr th:only-of-type {\n",
       "        vertical-align: middle;\n",
       "    }\n",
       "\n",
       "    .dataframe tbody tr th {\n",
       "        vertical-align: top;\n",
       "    }\n",
       "\n",
       "    .dataframe thead th {\n",
       "        text-align: right;\n",
       "    }\n",
       "</style>\n",
       "<table border=\"1\" class=\"dataframe\">\n",
       "  <thead>\n",
       "    <tr style=\"text-align: right;\">\n",
       "      <th></th>\n",
       "      <th>user_id</th>\n",
       "      <th>movie_id</th>\n",
       "      <th>count</th>\n",
       "      <th>timestamp</th>\n",
       "      <th>title</th>\n",
       "      <th>genre</th>\n",
       "    </tr>\n",
       "  </thead>\n",
       "  <tbody>\n",
       "    <tr>\n",
       "      <th>0</th>\n",
       "      <td>1</td>\n",
       "      <td>1193</td>\n",
       "      <td>5</td>\n",
       "      <td>978300760</td>\n",
       "      <td>One Flew Over the Cuckoo's Nest (1975)</td>\n",
       "      <td>Drama</td>\n",
       "    </tr>\n",
       "    <tr>\n",
       "      <th>1</th>\n",
       "      <td>2</td>\n",
       "      <td>1193</td>\n",
       "      <td>5</td>\n",
       "      <td>978298413</td>\n",
       "      <td>One Flew Over the Cuckoo's Nest (1975)</td>\n",
       "      <td>Drama</td>\n",
       "    </tr>\n",
       "    <tr>\n",
       "      <th>2</th>\n",
       "      <td>12</td>\n",
       "      <td>1193</td>\n",
       "      <td>4</td>\n",
       "      <td>978220179</td>\n",
       "      <td>One Flew Over the Cuckoo's Nest (1975)</td>\n",
       "      <td>Drama</td>\n",
       "    </tr>\n",
       "    <tr>\n",
       "      <th>3</th>\n",
       "      <td>15</td>\n",
       "      <td>1193</td>\n",
       "      <td>4</td>\n",
       "      <td>978199279</td>\n",
       "      <td>One Flew Over the Cuckoo's Nest (1975)</td>\n",
       "      <td>Drama</td>\n",
       "    </tr>\n",
       "    <tr>\n",
       "      <th>4</th>\n",
       "      <td>17</td>\n",
       "      <td>1193</td>\n",
       "      <td>5</td>\n",
       "      <td>978158471</td>\n",
       "      <td>One Flew Over the Cuckoo's Nest (1975)</td>\n",
       "      <td>Drama</td>\n",
       "    </tr>\n",
       "  </tbody>\n",
       "</table>\n",
       "</div>"
      ],
      "text/plain": [
       "   user_id  movie_id  count  timestamp  \\\n",
       "0        1      1193      5  978300760   \n",
       "1        2      1193      5  978298413   \n",
       "2       12      1193      4  978220179   \n",
       "3       15      1193      4  978199279   \n",
       "4       17      1193      5  978158471   \n",
       "\n",
       "                                    title  genre  \n",
       "0  One Flew Over the Cuckoo's Nest (1975)  Drama  \n",
       "1  One Flew Over the Cuckoo's Nest (1975)  Drama  \n",
       "2  One Flew Over the Cuckoo's Nest (1975)  Drama  \n",
       "3  One Flew Over the Cuckoo's Nest (1975)  Drama  \n",
       "4  One Flew Over the Cuckoo's Nest (1975)  Drama  "
      ]
     },
     "execution_count": 10,
     "metadata": {},
     "output_type": "execute_result"
    }
   ],
   "source": [
    "# 확인\n",
    "data.head()"
   ]
  },
  {
   "cell_type": "markdown",
   "id": "computational-fabric",
   "metadata": {},
   "source": [
    "사용하는 컬럼만 남기고 나머지 컬럼은 제외한다."
   ]
  },
  {
   "cell_type": "code",
   "execution_count": 11,
   "id": "defensive-coating",
   "metadata": {
    "scrolled": true
   },
   "outputs": [
    {
     "data": {
      "text/html": [
       "<div>\n",
       "<style scoped>\n",
       "    .dataframe tbody tr th:only-of-type {\n",
       "        vertical-align: middle;\n",
       "    }\n",
       "\n",
       "    .dataframe tbody tr th {\n",
       "        vertical-align: top;\n",
       "    }\n",
       "\n",
       "    .dataframe thead th {\n",
       "        text-align: right;\n",
       "    }\n",
       "</style>\n",
       "<table border=\"1\" class=\"dataframe\">\n",
       "  <thead>\n",
       "    <tr style=\"text-align: right;\">\n",
       "      <th></th>\n",
       "      <th>user_id</th>\n",
       "      <th>title</th>\n",
       "      <th>count</th>\n",
       "    </tr>\n",
       "  </thead>\n",
       "  <tbody>\n",
       "    <tr>\n",
       "      <th>0</th>\n",
       "      <td>1</td>\n",
       "      <td>One Flew Over the Cuckoo's Nest (1975)</td>\n",
       "      <td>5</td>\n",
       "    </tr>\n",
       "    <tr>\n",
       "      <th>1</th>\n",
       "      <td>2</td>\n",
       "      <td>One Flew Over the Cuckoo's Nest (1975)</td>\n",
       "      <td>5</td>\n",
       "    </tr>\n",
       "    <tr>\n",
       "      <th>2</th>\n",
       "      <td>12</td>\n",
       "      <td>One Flew Over the Cuckoo's Nest (1975)</td>\n",
       "      <td>4</td>\n",
       "    </tr>\n",
       "    <tr>\n",
       "      <th>3</th>\n",
       "      <td>15</td>\n",
       "      <td>One Flew Over the Cuckoo's Nest (1975)</td>\n",
       "      <td>4</td>\n",
       "    </tr>\n",
       "    <tr>\n",
       "      <th>4</th>\n",
       "      <td>17</td>\n",
       "      <td>One Flew Over the Cuckoo's Nest (1975)</td>\n",
       "      <td>5</td>\n",
       "    </tr>\n",
       "    <tr>\n",
       "      <th>5</th>\n",
       "      <td>18</td>\n",
       "      <td>One Flew Over the Cuckoo's Nest (1975)</td>\n",
       "      <td>4</td>\n",
       "    </tr>\n",
       "    <tr>\n",
       "      <th>6</th>\n",
       "      <td>19</td>\n",
       "      <td>One Flew Over the Cuckoo's Nest (1975)</td>\n",
       "      <td>5</td>\n",
       "    </tr>\n",
       "    <tr>\n",
       "      <th>7</th>\n",
       "      <td>24</td>\n",
       "      <td>One Flew Over the Cuckoo's Nest (1975)</td>\n",
       "      <td>5</td>\n",
       "    </tr>\n",
       "    <tr>\n",
       "      <th>8</th>\n",
       "      <td>28</td>\n",
       "      <td>One Flew Over the Cuckoo's Nest (1975)</td>\n",
       "      <td>3</td>\n",
       "    </tr>\n",
       "    <tr>\n",
       "      <th>9</th>\n",
       "      <td>33</td>\n",
       "      <td>One Flew Over the Cuckoo's Nest (1975)</td>\n",
       "      <td>5</td>\n",
       "    </tr>\n",
       "  </tbody>\n",
       "</table>\n",
       "</div>"
      ],
      "text/plain": [
       "   user_id                                   title  count\n",
       "0        1  One Flew Over the Cuckoo's Nest (1975)      5\n",
       "1        2  One Flew Over the Cuckoo's Nest (1975)      5\n",
       "2       12  One Flew Over the Cuckoo's Nest (1975)      4\n",
       "3       15  One Flew Over the Cuckoo's Nest (1975)      4\n",
       "4       17  One Flew Over the Cuckoo's Nest (1975)      5\n",
       "5       18  One Flew Over the Cuckoo's Nest (1975)      4\n",
       "6       19  One Flew Over the Cuckoo's Nest (1975)      5\n",
       "7       24  One Flew Over the Cuckoo's Nest (1975)      5\n",
       "8       28  One Flew Over the Cuckoo's Nest (1975)      3\n",
       "9       33  One Flew Over the Cuckoo's Nest (1975)      5"
      ]
     },
     "execution_count": 11,
     "metadata": {},
     "output_type": "execute_result"
    }
   ],
   "source": [
    "# 필요없는 컬럼 제거\n",
    "using_cols = ['user_id', 'title', 'count']\n",
    "data = data[using_cols]\n",
    "data.head(10)"
   ]
  },
  {
   "cell_type": "markdown",
   "id": "concrete-yield",
   "metadata": {},
   "source": [
    "검색을 쉽게하기 위해 title을 소문자로 바꾸었다."
   ]
  },
  {
   "cell_type": "code",
   "execution_count": 12,
   "id": "reserved-problem",
   "metadata": {},
   "outputs": [],
   "source": [
    "# 소문자로 변경\n",
    "data['title'] = data['title'].str.lower() "
   ]
  },
  {
   "cell_type": "markdown",
   "id": "executed-approach",
   "metadata": {},
   "source": [
    "인기 있는 영화 30개를 검색하였다."
   ]
  },
  {
   "cell_type": "code",
   "execution_count": 13,
   "id": "blind-maintenance",
   "metadata": {
    "scrolled": true
   },
   "outputs": [
    {
     "data": {
      "text/plain": [
       "title\n",
       "american beauty (1999)                                   3211\n",
       "star wars: episode iv - a new hope (1977)                2910\n",
       "star wars: episode v - the empire strikes back (1980)    2885\n",
       "star wars: episode vi - return of the jedi (1983)        2716\n",
       "saving private ryan (1998)                               2561\n",
       "terminator 2: judgment day (1991)                        2509\n",
       "silence of the lambs, the (1991)                         2498\n",
       "raiders of the lost ark (1981)                           2473\n",
       "back to the future (1985)                                2460\n",
       "matrix, the (1999)                                       2434\n",
       "jurassic park (1993)                                     2413\n",
       "sixth sense, the (1999)                                  2385\n",
       "fargo (1996)                                             2371\n",
       "braveheart (1995)                                        2314\n",
       "men in black (1997)                                      2297\n",
       "schindler's list (1993)                                  2257\n",
       "princess bride, the (1987)                               2252\n",
       "shakespeare in love (1998)                               2213\n",
       "l.a. confidential (1997)                                 2210\n",
       "shawshank redemption, the (1994)                         2194\n",
       "godfather, the (1972)                                    2167\n",
       "groundhog day (1993)                                     2121\n",
       "e.t. the extra-terrestrial (1982)                        2102\n",
       "being john malkovich (1999)                              2066\n",
       "ghostbusters (1984)                                      2051\n",
       "pulp fiction (1994)                                      2030\n",
       "forrest gump (1994)                                      2022\n",
       "terminator, the (1984)                                   2019\n",
       "toy story (1995)                                         2000\n",
       "fugitive, the (1993)                                     1941\n",
       "Name: user_id, dtype: int64"
      ]
     },
     "execution_count": 13,
     "metadata": {},
     "output_type": "execute_result"
    }
   ],
   "source": [
    "# 가장 인기 있는 영화 30개(인기순)\n",
    "datas = data.groupby('title')['user_id'].count()\n",
    "datas.sort_values(ascending=False).head(30)"
   ]
  },
  {
   "cell_type": "markdown",
   "id": "external-cologne",
   "metadata": {},
   "source": [
    "### 기타\n",
    "다른 사항에 대해서도 탐색해 보았다."
   ]
  },
  {
   "cell_type": "code",
   "execution_count": 14,
   "id": "satellite-opposition",
   "metadata": {},
   "outputs": [
    {
     "data": {
      "text/plain": [
       "count    6039.000000\n",
       "mean      138.512668\n",
       "std       156.241599\n",
       "min         1.000000\n",
       "25%        38.000000\n",
       "50%        81.000000\n",
       "75%       177.000000\n",
       "max      1968.000000\n",
       "Name: title, dtype: float64"
      ]
     },
     "execution_count": 14,
     "metadata": {},
     "output_type": "execute_result"
    }
   ],
   "source": [
    "# 유저별 몇 개의 영화를 보는지에 대한 통계\n",
    "user_count = data.groupby('user_id')['title'].count()\n",
    "user_count.describe()"
   ]
  },
  {
   "cell_type": "markdown",
   "id": "valid-outreach",
   "metadata": {},
   "source": [
    "6039명의 사용자들은 평균 138개의 영화를 보고, 최대 1968개의 영화를 보았다.  "
   ]
  },
  {
   "cell_type": "code",
   "execution_count": 15,
   "id": "searching-isaac",
   "metadata": {
    "scrolled": true
   },
   "outputs": [
    {
     "data": {
      "text/plain": [
       "count    6039.000000\n",
       "mean        4.055970\n",
       "std         0.432143\n",
       "min         3.000000\n",
       "25%         4.000000\n",
       "50%         4.000000\n",
       "75%         4.000000\n",
       "max         5.000000\n",
       "Name: count, dtype: float64"
      ]
     },
     "execution_count": 15,
     "metadata": {},
     "output_type": "execute_result"
    }
   ],
   "source": [
    "# 사용자별 count 횟수 중앙값에 대한 통계\n",
    "user_median = data.groupby('user_id')['count'].median()\n",
    "user_median.describe()"
   ]
  },
  {
   "cell_type": "markdown",
   "id": "veterinary-chest",
   "metadata": {},
   "source": [
    "6039명의 사용자들은 영화에 평균 4.056 정도의 평점을 주었다. 그러나 위에서 3점 미만의 평점을 제거하였다는 것을 고려해야 한다. "
   ]
  },
  {
   "cell_type": "markdown",
   "id": "vulnerable-paper",
   "metadata": {},
   "source": [
    "## 3. 모델 검증을 위한 사용자 초기 정보 세팅\n",
    "\n",
    "추천시스템은 사용자의 영화 취향과 비슷한 영화를 추천받기 위해 사용자 취향의 영화 5개를 입력받는다. 여기서도 추천 시스템 모델의 추후 검증을 위해 선호하는 영화를 5가지 골라서 기존 data에 추가한다. 주의할 점은 영화 이름은 데이터셋에 있는대로 넣어야 한다는 것이다. 즉 ```'title (year)'```의 형태로 영화 이름을 넣어야 한다. "
   ]
  },
  {
   "cell_type": "code",
   "execution_count": 16,
   "id": "broadband-ribbon",
   "metadata": {
    "scrolled": true
   },
   "outputs": [
    {
     "data": {
      "text/html": [
       "<div>\n",
       "<style scoped>\n",
       "    .dataframe tbody tr th:only-of-type {\n",
       "        vertical-align: middle;\n",
       "    }\n",
       "\n",
       "    .dataframe tbody tr th {\n",
       "        vertical-align: top;\n",
       "    }\n",
       "\n",
       "    .dataframe thead th {\n",
       "        text-align: right;\n",
       "    }\n",
       "</style>\n",
       "<table border=\"1\" class=\"dataframe\">\n",
       "  <thead>\n",
       "    <tr style=\"text-align: right;\">\n",
       "      <th></th>\n",
       "      <th>user_id</th>\n",
       "      <th>title</th>\n",
       "      <th>count</th>\n",
       "    </tr>\n",
       "  </thead>\n",
       "  <tbody>\n",
       "    <tr>\n",
       "      <th>836473</th>\n",
       "      <td>5851</td>\n",
       "      <td>one little indian (1973)</td>\n",
       "      <td>5</td>\n",
       "    </tr>\n",
       "    <tr>\n",
       "      <th>836474</th>\n",
       "      <td>5854</td>\n",
       "      <td>slaughterhouse (1987)</td>\n",
       "      <td>4</td>\n",
       "    </tr>\n",
       "    <tr>\n",
       "      <th>836475</th>\n",
       "      <td>5854</td>\n",
       "      <td>promise, the (versprechen, das) (1994)</td>\n",
       "      <td>3</td>\n",
       "    </tr>\n",
       "    <tr>\n",
       "      <th>836476</th>\n",
       "      <td>5938</td>\n",
       "      <td>five wives, three secretaries and me (1998)</td>\n",
       "      <td>4</td>\n",
       "    </tr>\n",
       "    <tr>\n",
       "      <th>836477</th>\n",
       "      <td>5948</td>\n",
       "      <td>identification of a woman (identificazione di ...</td>\n",
       "      <td>5</td>\n",
       "    </tr>\n",
       "    <tr>\n",
       "      <th>0</th>\n",
       "      <td>EJ</td>\n",
       "      <td>jane eyre (1996)</td>\n",
       "      <td>5</td>\n",
       "    </tr>\n",
       "    <tr>\n",
       "      <th>1</th>\n",
       "      <td>EJ</td>\n",
       "      <td>persuasion (1995)</td>\n",
       "      <td>5</td>\n",
       "    </tr>\n",
       "    <tr>\n",
       "      <th>2</th>\n",
       "      <td>EJ</td>\n",
       "      <td>lion king, the (1994)</td>\n",
       "      <td>5</td>\n",
       "    </tr>\n",
       "    <tr>\n",
       "      <th>3</th>\n",
       "      <td>EJ</td>\n",
       "      <td>little women (1994)</td>\n",
       "      <td>5</td>\n",
       "    </tr>\n",
       "    <tr>\n",
       "      <th>4</th>\n",
       "      <td>EJ</td>\n",
       "      <td>forrest gump(1994)</td>\n",
       "      <td>5</td>\n",
       "    </tr>\n",
       "  </tbody>\n",
       "</table>\n",
       "</div>"
      ],
      "text/plain": [
       "       user_id                                              title  count\n",
       "836473    5851                           one little indian (1973)      5\n",
       "836474    5854                              slaughterhouse (1987)      4\n",
       "836475    5854             promise, the (versprechen, das) (1994)      3\n",
       "836476    5938        five wives, three secretaries and me (1998)      4\n",
       "836477    5948  identification of a woman (identificazione di ...      5\n",
       "0           EJ                                   jane eyre (1996)      5\n",
       "1           EJ                                  persuasion (1995)      5\n",
       "2           EJ                              lion king, the (1994)      5\n",
       "3           EJ                                little women (1994)      5\n",
       "4           EJ                                 forrest gump(1994)      5"
      ]
     },
     "execution_count": 16,
     "metadata": {},
     "output_type": "execute_result"
    }
   ],
   "source": [
    "# 선호 영화 이름을 리스트로 생성\n",
    "my_favorite = ['jane eyre (1996)' , 'persuasion (1995)' ,'lion king, the (1994)' ,'little women (1994)' ,'forrest gump(1994)']\n",
    "\n",
    "# 위에서 만든 데이터프레임의 형태로 컬럼 5개짜리 데이터프레임을 만든다.\n",
    "# 'EJ'라는 user_id가 위의 영화에 평점을 5점씩 주었다고 가정\n",
    "my_movielist = pd.DataFrame({'user_id': ['EJ']*5, 'title': my_favorite, 'count':[5]*5})\n",
    "\n",
    "if not data.isin({'user_id':['EJ']})['user_id'].any():  # user_id에 'EJ'이라는 데이터가 없다면\n",
    "    data = data.append(my_movielist)          # 임의로 만든 my_favorite 데이터 추가 \n",
    "\n",
    "data.tail(10)       # 잘 추가되었는지 확인"
   ]
  },
  {
   "cell_type": "markdown",
   "id": "cloudy-butler",
   "metadata": {},
   "source": [
    "## 4. 모델에 활용하기 위한 전처리\n",
    "위에 보이는 데이터프레임을 보면 새로 추가한 데이터는 user_id와 movie_id의 값이 기존 데이터와 다른 것을 알 수 있다. 따라서 데이터의 관리를 쉽게 하기 위해 기존 데이터와 같게 번호를 붙여야 한다(indexing). \n",
    "\n",
    "pandas.DataFrame.unique()를 사용하여 특정 컬럼에 포함된 유니크한 데이터만 모은 후, user_id와 title에 각각 번호를 붙여 인덱싱한다. "
   ]
  },
  {
   "cell_type": "code",
   "execution_count": 17,
   "id": "excess-producer",
   "metadata": {},
   "outputs": [],
   "source": [
    "# 고유한 유저, 영화를 찾아냄\n",
    "user_unique = data['user_id'].unique()\n",
    "title_unique = data['title'].unique()\n",
    "\n",
    "# 유저, 영화를 indexing\n",
    "user_to_idx = {v:k for k,v in enumerate(user_unique)}\n",
    "title_to_idx = {v:k for k,v in enumerate(title_unique)}"
   ]
  },
  {
   "cell_type": "markdown",
   "id": "separated-classroom",
   "metadata": {},
   "source": [
    "인덱싱이 잘 되었는지 확인해 본다. "
   ]
  },
  {
   "cell_type": "code",
   "execution_count": 18,
   "id": "nutritional-volume",
   "metadata": {
    "scrolled": true
   },
   "outputs": [
    {
     "name": "stdout",
     "output_type": "stream",
     "text": [
      "6039\n",
      "959\n"
     ]
    }
   ],
   "source": [
    "# 확인\n",
    "print(user_to_idx['EJ'])    # 6039명의 유저 중 마지막으로 추가된 유저이니 6039이 나와야 함\n",
    "print(title_to_idx['little women (1994)'])"
   ]
  },
  {
   "cell_type": "markdown",
   "id": "grateful-ecology",
   "metadata": {},
   "source": [
    "아래는 인덱싱을 통해 데이터 컬럼 내의 값을 바꾸는 코드이다. dictionary.get(딕셔너리의 value를 구하는 코드)을 통해 user_id 컬럼의 모든 값을 인덱싱한 Series를 구한다(df.map() 사용). "
   ]
  },
  {
   "cell_type": "code",
   "execution_count": 19,
   "id": "random-savannah",
   "metadata": {
    "scrolled": true
   },
   "outputs": [
    {
     "name": "stdout",
     "output_type": "stream",
     "text": [
      "user_id column indexing OK!!\n",
      "title column indexing OK!!\n"
     ]
    },
    {
     "data": {
      "text/html": [
       "<div>\n",
       "<style scoped>\n",
       "    .dataframe tbody tr th:only-of-type {\n",
       "        vertical-align: middle;\n",
       "    }\n",
       "\n",
       "    .dataframe tbody tr th {\n",
       "        vertical-align: top;\n",
       "    }\n",
       "\n",
       "    .dataframe thead th {\n",
       "        text-align: right;\n",
       "    }\n",
       "</style>\n",
       "<table border=\"1\" class=\"dataframe\">\n",
       "  <thead>\n",
       "    <tr style=\"text-align: right;\">\n",
       "      <th></th>\n",
       "      <th>user_id</th>\n",
       "      <th>title</th>\n",
       "      <th>count</th>\n",
       "    </tr>\n",
       "  </thead>\n",
       "  <tbody>\n",
       "    <tr>\n",
       "      <th>0</th>\n",
       "      <td>0</td>\n",
       "      <td>0</td>\n",
       "      <td>5</td>\n",
       "    </tr>\n",
       "    <tr>\n",
       "      <th>1</th>\n",
       "      <td>1</td>\n",
       "      <td>0</td>\n",
       "      <td>5</td>\n",
       "    </tr>\n",
       "    <tr>\n",
       "      <th>2</th>\n",
       "      <td>2</td>\n",
       "      <td>0</td>\n",
       "      <td>4</td>\n",
       "    </tr>\n",
       "    <tr>\n",
       "      <th>3</th>\n",
       "      <td>3</td>\n",
       "      <td>0</td>\n",
       "      <td>4</td>\n",
       "    </tr>\n",
       "    <tr>\n",
       "      <th>4</th>\n",
       "      <td>4</td>\n",
       "      <td>0</td>\n",
       "      <td>5</td>\n",
       "    </tr>\n",
       "    <tr>\n",
       "      <th>...</th>\n",
       "      <td>...</td>\n",
       "      <td>...</td>\n",
       "      <td>...</td>\n",
       "    </tr>\n",
       "    <tr>\n",
       "      <th>0</th>\n",
       "      <td>6039</td>\n",
       "      <td>2591</td>\n",
       "      <td>5</td>\n",
       "    </tr>\n",
       "    <tr>\n",
       "      <th>1</th>\n",
       "      <td>6039</td>\n",
       "      <td>1349</td>\n",
       "      <td>5</td>\n",
       "    </tr>\n",
       "    <tr>\n",
       "      <th>2</th>\n",
       "      <td>6039</td>\n",
       "      <td>330</td>\n",
       "      <td>5</td>\n",
       "    </tr>\n",
       "    <tr>\n",
       "      <th>3</th>\n",
       "      <td>6039</td>\n",
       "      <td>959</td>\n",
       "      <td>5</td>\n",
       "    </tr>\n",
       "    <tr>\n",
       "      <th>4</th>\n",
       "      <td>6039</td>\n",
       "      <td>3628</td>\n",
       "      <td>5</td>\n",
       "    </tr>\n",
       "  </tbody>\n",
       "</table>\n",
       "<p>836483 rows × 3 columns</p>\n",
       "</div>"
      ],
      "text/plain": [
       "    user_id  title  count\n",
       "0         0      0      5\n",
       "1         1      0      5\n",
       "2         2      0      4\n",
       "3         3      0      4\n",
       "4         4      0      5\n",
       "..      ...    ...    ...\n",
       "0      6039   2591      5\n",
       "1      6039   1349      5\n",
       "2      6039    330      5\n",
       "3      6039    959      5\n",
       "4      6039   3628      5\n",
       "\n",
       "[836483 rows x 3 columns]"
      ]
     },
     "execution_count": 19,
     "metadata": {},
     "output_type": "execute_result"
    }
   ],
   "source": [
    "# indexing을 통해 데이터 컬럼 내 값을 바꾸는 코드\n",
    "\n",
    "# user_to_idx.get을 통해 user_id 컬럼의 모든 값을 인덱싱한 Series를 구함 \n",
    "temp_user_data = data['user_id'].map(user_to_idx.get).dropna()  # 인덱싱되지 않은 row가 있다면 인덱스가 NaN이므로 dropna()로 제거 \n",
    "\n",
    "if len(temp_user_data) == len(data):   # 모든 row가 정상적으로 인덱싱되었으면,\n",
    "    print('user_id column indexing OK!!')\n",
    "    data['user_id'] = temp_user_data   # data['user_id']을 인덱싱된 Series로 교체 \n",
    "else:\n",
    "    print('user_id column indexing Fail!!')\n",
    "\n",
    "# title 컬럼도 동일한 방식으로 인덱싱 \n",
    "temp_title_data = data['title'].map(title_to_idx.get).dropna()\n",
    "if len(temp_title_data) == len(data):\n",
    "    print('title column indexing OK!!')\n",
    "    data['title'] = temp_title_data\n",
    "else:\n",
    "    print('title column indexing Fail!!')\n",
    "\n",
    "data"
   ]
  },
  {
   "cell_type": "markdown",
   "id": "suffering-extreme",
   "metadata": {},
   "source": [
    "## 5. CSR matrix 만들기\n",
    "데이터를 CSR Matrix에 맞게 바꾼다. csr_matrix를 만드는 방법은 다양하게 있는데, [여기](https://docs.scipy.org/doc/scipy/reference/generated/scipy.sparse.csr_matrix.html)와 노드를 참고하여 만들었다. \n",
    "```python\n",
    "csr_matrix((data, (row_ind, col_ind)), [shape=(M, N)])\n",
    "where data, row_ind and col_ind satisfy the relationship a[row_ind[k], col_ind[k]] = data[k]\n",
    "```\n",
    "\n",
    "CSR matrix 만들 때, 노드에 쓰여 있는 것처럼 data.count로 하였더니 'len() of unsized object'라는 메시지가 나왔다. 이것저것 해보다가 data['count']로 바꾸니 동작하였다. (data.count를 출력해보니 원하는 count 컬럼의 값 뿐 아니라 모든 컬럼의 값이 출력되었다.) "
   ]
  },
  {
   "cell_type": "code",
   "execution_count": 20,
   "id": "instant-architect",
   "metadata": {
    "scrolled": true
   },
   "outputs": [
    {
     "data": {
      "text/plain": [
       "<6040x3629 sparse matrix of type '<class 'numpy.int64'>'\n",
       "\twith 836483 stored elements in Compressed Sparse Row format>"
      ]
     },
     "execution_count": 20,
     "metadata": {},
     "output_type": "execute_result"
    }
   ],
   "source": [
    "from scipy.sparse import csr_matrix\n",
    "\n",
    "num_user = data['user_id'].nunique()\n",
    "num_movie = data['title'].nunique()\n",
    "\n",
    "csr_data = csr_matrix((data['count'], (data.user_id, data.title)), shape=(num_user, num_movie))\n",
    "csr_data"
   ]
  },
  {
   "cell_type": "markdown",
   "id": "existing-means",
   "metadata": {},
   "source": [
    "## 6. 모델 설계 및 학습\n",
    "Matrix Factorization 모델을 implicit 패키지를 사용하여 학습시킨다. \n",
    "- implicit 패키지는 암묵적(implicit) dataset을 사용하는 다양한 모델을 굉장히 빠르게 학습할 수 있다. \n",
    "- Matrix Factorization에서 쪼개진 두 Feature Matrix를 한꺼번에 훈련하는 것은 잘 수렴하지 않기 때문에, 한쪽을 고정시키고 다른 쪽을 학습하는 방식을 번갈아 수행하는 AlternatingLeastSquares 방식을 사용한다."
   ]
  },
  {
   "cell_type": "code",
   "execution_count": 21,
   "id": "lucky-cameroon",
   "metadata": {},
   "outputs": [],
   "source": [
    "from implicit.als import AlternatingLeastSquares\n",
    "import os\n",
    "import numpy as np\n",
    "\n",
    "# implicit 라이브러리에서 권장하고 있다. 학습 내용과는 무관\n",
    "os.environ['OPENBLAS_NUM_THREADS']='1'\n",
    "os.environ['KMP_DUPLICATE_LIB_OK']='True'\n",
    "os.environ['MKL_NUM_THREADS']='1'"
   ]
  },
  {
   "cell_type": "markdown",
   "id": "essential-forest",
   "metadata": {},
   "source": [
    "- [AlternatingLeastSquares 클래스](https://implicit.readthedocs.io/en/latest/als.html)의 \\_\\_init\\_\\_ 파라미터    \n",
    " - factors(int, optional) : 유저와 아이템의 벡터의 차원\n",
    " - regularization(float, optional) : 과적합을 방지하기 위한 정규화 값\n",
    " - use_gpu(bool, optional) : GPU를 사용 여부\n",
    " - iterations(int, optional) : epochs        \n",
    " - regularization과 iteration이 증가하면 학습데이터를 잘 학습하지만 과적합의 우려가 있다. \n",
    " - factors를 늘리거나 iterations를 늘려보아도 좋다.\n",
    " \n",
    "파라미터를 바꿔가면서 모델 학습을 시켰다. factor가 작으면 선호영화에 포함된 영화 벡터와의 내적값이 너무 낮았다. factor=500 정도했을 때, 0.5정도의 값이 나왔다. factor가 그 이상이면 내적값이 낮아졌다. regularization과 iteration를 바꾸었을 때는 내적값이 조금씩 변화되므로 factor가 학습에 큰 영향을 미치는 것 같다."
   ]
  },
  {
   "cell_type": "code",
   "execution_count": 99,
   "id": "numerical-animal",
   "metadata": {},
   "outputs": [],
   "source": [
    "# Implicit AlternatingLeastSquares 모델의 선언\n",
    "als_model = AlternatingLeastSquares(factors=500, regularization=0.4, use_gpu=False, iterations=100\n",
    "                                    , dtype=np.float32)"
   ]
  },
  {
   "cell_type": "code",
   "execution_count": 100,
   "id": "honey-recycling",
   "metadata": {
    "scrolled": false
   },
   "outputs": [
    {
     "data": {
      "text/plain": [
       "<3629x6040 sparse matrix of type '<class 'numpy.int64'>'\n",
       "\twith 836483 stored elements in Compressed Sparse Column format>"
      ]
     },
     "execution_count": 100,
     "metadata": {},
     "output_type": "execute_result"
    }
   ],
   "source": [
    "# als 모델은 input으로 (item X user) 꼴의 matrix를 받기 때문에 Transpose한다.\n",
    "csr_data_transpose = csr_data.T\n",
    "csr_data_transpose"
   ]
  },
  {
   "cell_type": "code",
   "execution_count": 101,
   "id": "economic-yacht",
   "metadata": {
    "scrolled": true
   },
   "outputs": [
    {
     "data": {
      "application/vnd.jupyter.widget-view+json": {
       "model_id": "1f66afa803784596b8860d922ad2f56e",
       "version_major": 2,
       "version_minor": 0
      },
      "text/plain": [
       "  0%|          | 0/100 [00:00<?, ?it/s]"
      ]
     },
     "metadata": {},
     "output_type": "display_data"
    }
   ],
   "source": [
    "# 모델 훈련\n",
    "als_model.fit(csr_data_transpose)"
   ]
  },
  {
   "cell_type": "markdown",
   "id": "aging-explorer",
   "metadata": {},
   "source": [
    "모델을 통해 'EJ'의 벡터와 'little women (1994)'의 벡터를 만든다."
   ]
  },
  {
   "cell_type": "code",
   "execution_count": 102,
   "id": "eight-venue",
   "metadata": {},
   "outputs": [],
   "source": [
    "# 모델로 만든 벡터 \n",
    "EJ, little_women = user_to_idx['EJ'], title_to_idx['little women (1994)']\n",
    "EJ_vector, little_women_vector = als_model.user_factors[EJ], als_model.item_factors[little_women]"
   ]
  },
  {
   "cell_type": "markdown",
   "id": "authorized-designer",
   "metadata": {},
   "source": [
    "초기 세팅에서 집어넣었던 선호영화 리스트에 포함된 영화 벡터와 사용자 벡터를 내적시켰다."
   ]
  },
  {
   "cell_type": "code",
   "execution_count": 103,
   "id": "capable-coffee",
   "metadata": {
    "scrolled": false
   },
   "outputs": [
    {
     "data": {
      "text/plain": [
       "0.5559981"
      ]
     },
     "execution_count": 103,
     "metadata": {},
     "output_type": "execute_result"
    }
   ],
   "source": [
    "# 선호도 파악 \n",
    "np.dot(EJ_vector, little_women_vector)"
   ]
  },
  {
   "cell_type": "markdown",
   "id": "wrong-window",
   "metadata": {},
   "source": [
    "선호영화 리스트 외의 좋아하는 영화를 넣어 내적값을 구하고, 좋아하지 않는 영화의 내적값을 구해 어떤 결과는 내는지 확인해 보았다. "
   ]
  },
  {
   "cell_type": "code",
   "execution_count": 104,
   "id": "according-sample",
   "metadata": {},
   "outputs": [
    {
     "data": {
      "text/plain": [
       "0.30700466"
      ]
     },
     "execution_count": 104,
     "metadata": {},
     "output_type": "execute_result"
    }
   ],
   "source": [
    "# 좋아하는 영화에 대한 선호도 예측\n",
    "emma = title_to_idx['emma (1996)']\n",
    "emma_vector = als_model.item_factors[emma]\n",
    "np.dot(EJ_vector, emma_vector)"
   ]
  },
  {
   "cell_type": "code",
   "execution_count": 105,
   "id": "anonymous-syracuse",
   "metadata": {},
   "outputs": [
    {
     "data": {
      "text/plain": [
       "-0.040198512"
      ]
     },
     "execution_count": 105,
     "metadata": {},
     "output_type": "execute_result"
    }
   ],
   "source": [
    "# 좋아하지 않는 영화에 대한 선호도 예측\n",
    "assassins = title_to_idx['assassins (1995)']\n",
    "assassins_vector = als_model.item_factors[assassins]\n",
    "np.dot(EJ_vector, assassins_vector)"
   ]
  },
  {
   "cell_type": "markdown",
   "id": "grave-kuwait",
   "metadata": {},
   "source": [
    "좋아하는 영화에 대한 선호도가 그리 높게 나오지 않았다. 좋아하지 않는 영화에 대한 선호도는 음수가 나왔다. "
   ]
  },
  {
   "cell_type": "markdown",
   "id": "unnecessary-advantage",
   "metadata": {},
   "source": [
    "## 7. 내가 좋아하는 영화와 비슷한 영화 추천하기\n",
    "\n",
    "AlternatingLeastSquares 클래스에 구현되어 있는 similar_items 메서드를 통하여 좋아하는 영화와 비슷한 영화를 찾는다.  "
   ]
  },
  {
   "cell_type": "code",
   "execution_count": 106,
   "id": "minor-asbestos",
   "metadata": {},
   "outputs": [],
   "source": [
    "# 좋아하는 영화와 비슷한 영화 찾는 함수\n",
    "def get_similar_movie(movie_name: str):\n",
    "    title_id = title_to_idx[movie_name]\n",
    "    similar_movie = als_model.similar_items(title_id)   # 결과는 (영화  id, 유사도) Tuple 로 반환\n",
    "    idx_to_title = {v:k for k,v in title_to_idx.items()}  # title_to_idx 뒤집기\n",
    "    similar_movie = [idx_to_title[i[0]] for i in similar_movie]  # index로부터 영화 이름을 얻는 dict 생성\n",
    "    return similar_movie"
   ]
  },
  {
   "cell_type": "code",
   "execution_count": 107,
   "id": "impaired-venice",
   "metadata": {
    "scrolled": true
   },
   "outputs": [
    {
     "data": {
      "text/plain": [
       "['jane eyre (1996)',\n",
       " 'forrest gump(1994)',\n",
       " 'moll flanders (1996)',\n",
       " 'washington square (1997)',\n",
       " 'persuasion (1995)',\n",
       " 'emma (1996)',\n",
       " 'small wonders (1996)',\n",
       " 'dreaming of joseph lees (1998)',\n",
       " 'journey of august king, the (1995)',\n",
       " \"'night mother (1986)\"]"
      ]
     },
     "execution_count": 107,
     "metadata": {},
     "output_type": "execute_result"
    }
   ],
   "source": [
    "get_similar_movie('jane eyre (1996)')"
   ]
  },
  {
   "cell_type": "markdown",
   "id": "permanent-material",
   "metadata": {},
   "source": [
    "선호영화 리스트에 있는 영화를 하나 불러와 비슷한 영화를 찾았다. 영화가 어떤 내용인지 모르기 때문에 장르를 찾아 비교해 보았다. \n",
    "\n",
    "|movie name                        |genre      |sub-genre|subs-genre|\n",
    "|:--------------------------------:|:---------:|:-------:|:--------:|\n",
    "|Jane Eyre (1996)                  |Drama      |Romance  |          |\n",
    "|forrest gump(1994)                |Comedy     |Romance  |War       |\n",
    "|Moll Flanders (1996)              |Drama      |         |          |\n",
    "|Washington Square (1997)          |Drama      |         |          |\n",
    "|Persuasion (1995)                 |Romance    |         |          |\n",
    "|Small Wonders (1996)              |Documentary|         |          |\n",
    "|Dreaming of Joseph Lees (1998)    |Romance    |         |          |\n",
    "|Journey of August King, The (1995)|Drama      |         |          |\n",
    "|Night Mother (1986)               |Drama      |         |          |\n",
    "\n",
    "장르가 비슷한 것으로 보아 좋아하는 영화와 비슷한 영화를 잘 찾은 것 같다. 다른 장르의 영화도 잘 찾는지 확인해 본다."
   ]
  },
  {
   "cell_type": "code",
   "execution_count": 110,
   "id": "harmful-tuesday",
   "metadata": {
    "scrolled": false
   },
   "outputs": [
    {
     "data": {
      "text/plain": [
       "['presidio, the (1988)',\n",
       " 'for your eyes only (1981)',\n",
       " 'nighthawks (1981)',\n",
       " 'tequila sunrise (1988)',\n",
       " 'view to a kill, a (1985)',\n",
       " 'heartbreak ridge (1986)',\n",
       " 'no mercy (1986)',\n",
       " 'running scared (1986)',\n",
       " 'death wish (1974)',\n",
       " 'fatal beauty (1987)']"
      ]
     },
     "execution_count": 110,
     "metadata": {},
     "output_type": "execute_result"
    }
   ],
   "source": [
    "get_similar_movie('presidio, the (1988)')"
   ]
  },
  {
   "cell_type": "markdown",
   "id": "moderate-virgin",
   "metadata": {},
   "source": [
    "|movie name                        |genre      |sub-genre|subs-genre|\n",
    "|:--------------------------------:|:---------:|:-------:|:--------:|\n",
    "|Presidio, The (1988)|Action|  |  |\n",
    "|For Your Eyes Only (1981)|Action|  |  |\n",
    "|Nighthawks (1981)|Action|Drama|  |  |\n",
    "|Tequila Sunrise (1988)|Action|Romance|Thriller|\n",
    "|View to a Kill, A (1985)|Action|  |  |\n",
    "|Heartbreak Ridge (1986)|Action|War|  |\n",
    "|No Mercy (1986)|Action|Thriller|  |\n",
    "|Running Scared (1986)|Action|Comedy|  |\n",
    "|Death Wish (1974)|Action|Drama|   |\n",
    "|Fatal Beauty (1987)|Action|Crime|  |\n",
    "\n",
    "다음 영화도 장르가 비슷한 것으로 보아 비슷한 영화를 잘 찾는 것 같다. 마지막으로 다른 장르의 영화도 하나 골라 확인해 본다. "
   ]
  },
  {
   "cell_type": "code",
   "execution_count": 111,
   "id": "drawn-completion",
   "metadata": {
    "scrolled": true
   },
   "outputs": [
    {
     "data": {
      "text/plain": [
       "['firestarter (1984)',\n",
       " 'christine (1983)',\n",
       " 'cujo (1983)',\n",
       " 'children of the corn (1984)',\n",
       " 'poltergeist ii: the other side (1986)',\n",
       " 'pet sematary (1989)',\n",
       " 'house ii: the second story (1987)',\n",
       " 'creepshow 2 (1987)',\n",
       " 'friday the 13th (1980)',\n",
       " \"cat's eye (1985)\"]"
      ]
     },
     "execution_count": 111,
     "metadata": {},
     "output_type": "execute_result"
    }
   ],
   "source": [
    "get_similar_movie('firestarter (1984)')"
   ]
  },
  {
   "cell_type": "markdown",
   "id": "consecutive-storm",
   "metadata": {},
   "source": [
    "|movie name                        |genre      |sub-genre|\n",
    "|:--------------------------------:|:---------:|:-------:|\n",
    "|Firestarter (1984)|Horror|Thriller|  \n",
    "|Christine (1983)|Horror|   |  \n",
    "|Cujo (1983)|Horror|Thriller|  \n",
    "|Children of the Corn (1984)|Horror|Thriller|  \n",
    "|Poltergeist II: The Other Side (1986)|Horror|Thriller|  \n",
    "|Pet Sematary (1989)|Horror|  |  \n",
    "|House II: The Second Story (1987)|Comedy|Horror|  \n",
    "|Creepshow 2 (1987)|Horror|  |  \n",
    "|Friday the 13th (1980)|Horror|  |\n",
    "|Cat's Eye (1985)|Horror|  |  \n",
    "\n",
    "이 영화도 장르가 비슷한 것으로 보아 비슷한 영화를 잘 찾는 것 같다. "
   ]
  },
  {
   "cell_type": "markdown",
   "id": "designed-upset",
   "metadata": {},
   "source": [
    "## 8. 좋아할 만한 영화 추천하기\n",
    "AlternatingLeastSquares 클래스에 구현되어 있는 recommend 메서드를 통하여 좋아할 만한 영화를 추천받는다. filter_already_liked_items 는 유저가 이미 평가한 아이템은 제외하는 Argument이다. "
   ]
  },
  {
   "cell_type": "code",
   "execution_count": 126,
   "id": "confidential-funds",
   "metadata": {
    "scrolled": true
   },
   "outputs": [
    {
     "data": {
      "text/plain": [
       "[(352, 0.3070047),\n",
       " (10, 0.21866518),\n",
       " (209, 0.18122017),\n",
       " (357, 0.18108028),\n",
       " (2227, 0.17683086),\n",
       " (1350, 0.17525572),\n",
       " (264, 0.16552544),\n",
       " (588, 0.15481822),\n",
       " (934, 0.14802681),\n",
       " (33, 0.14681554),\n",
       " (1654, 0.14623633),\n",
       " (30, 0.1381732),\n",
       " (485, 0.13603848),\n",
       " (49, 0.13220641),\n",
       " (1325, 0.12945832),\n",
       " (1516, 0.12927799),\n",
       " (894, 0.11922239),\n",
       " (34, 0.117969476),\n",
       " (2178, 0.115400285),\n",
       " (631, 0.11523483)]"
      ]
     },
     "execution_count": 126,
     "metadata": {},
     "output_type": "execute_result"
    }
   ],
   "source": [
    "user = user_to_idx['EJ']\n",
    "movie_recommended = als_model.recommend(user, csr_data, N=20, filter_already_liked_items=True)\n",
    "movie_recommended"
   ]
  },
  {
   "cell_type": "markdown",
   "id": "permanent-emperor",
   "metadata": {},
   "source": [
    "벡터로 받은 추천 영화를 영화 이름으로 변화시킨다. "
   ]
  },
  {
   "cell_type": "code",
   "execution_count": 128,
   "id": "fifty-thousand",
   "metadata": {
    "scrolled": false
   },
   "outputs": [
    {
     "data": {
      "text/plain": [
       "['emma (1996)',\n",
       " 'beauty and the beast (1991)',\n",
       " 'wings of the dove, the (1997)',\n",
       " 'sense and sensibility (1995)',\n",
       " 'end of the affair, the (1999)',\n",
       " 'mansfield park (1999)',\n",
       " 'mrs. brown (her majesty, mrs. brown) (1997)',\n",
       " 'roman holiday (1953)',\n",
       " 'circle of friends (1995)',\n",
       " 'aladdin (1992)',\n",
       " 'shadowlands (1993)',\n",
       " 'antz (1998)',\n",
       " 'age of innocence, the (1993)',\n",
       " 'secret garden, the (1993)',\n",
       " 'purple rose of cairo, the (1985)',\n",
       " 'how to make an american quilt (1995)',\n",
       " 'laura (1944)',\n",
       " 'mulan (1998)',\n",
       " 'twelfth night (1996)',\n",
       " 'mr. mom (1983)']"
      ]
     },
     "execution_count": 128,
     "metadata": {},
     "output_type": "execute_result"
    }
   ],
   "source": [
    "idx_to_title = {v:k for k, v in title_to_idx.items()}\n",
    "[idx_to_title[i[0]] for i in movie_recommended] "
   ]
  },
  {
   "cell_type": "markdown",
   "id": "chicken-nylon",
   "metadata": {},
   "source": [
    "AlternatingLeastSquares 클래스에 구현된 explain 메소드를 사용하여 기록을 남긴 데이터 중 이 추천에 기여한 정도를 확인한다."
   ]
  },
  {
   "cell_type": "code",
   "execution_count": 131,
   "id": "advance-medication",
   "metadata": {},
   "outputs": [],
   "source": [
    "emma = title_to_idx['emma (1996)']\n",
    "explain = als_model.explain(user, csr_data, itemid=emma)"
   ]
  },
  {
   "cell_type": "markdown",
   "id": "special-horizon",
   "metadata": {},
   "source": [
    "추천한 콘텐츠의 점수에 기여한 다른 콘텐츠와 기여도(합이 콘텐츠의 점수)를 반환한다. "
   ]
  },
  {
   "cell_type": "code",
   "execution_count": 132,
   "id": "facial-heritage",
   "metadata": {
    "scrolled": true
   },
   "outputs": [
    {
     "data": {
      "text/plain": [
       "[('persuasion (1995)', 0.1250065169409618),\n",
       " ('little women (1994)', 0.10246030459591465),\n",
       " ('jane eyre (1996)', 0.09699384802665109),\n",
       " ('forrest gump(1994)', 0.003821273391864324),\n",
       " ('lion king, the (1994)', -0.021920398911673383)]"
      ]
     },
     "execution_count": 132,
     "metadata": {},
     "output_type": "execute_result"
    }
   ],
   "source": [
    "[(idx_to_title[i[0]], i[1]) for i in explain[1]]"
   ]
  },
  {
   "cell_type": "markdown",
   "id": "false-release",
   "metadata": {},
   "source": [
    "|movie name                        |genre      |sub-genre|subs-genre|\n",
    "|:--------------------------------:|:---------:|:-------:|:--------:|\n",
    "|Jane Eyre (1996)|Drama|Romance|   |\n",
    "|Persuasion (1995)|Romance|  |  |\n",
    "|lion king, the (1994)'|Animation|Children's|Musical\n",
    "|little women (1994)'|Drama|  |  |\n",
    "|forrest gump(1994)|Comedy|Romance|War|\n",
    "\n",
    "emma의 장르는 __Comedy|Drama|Romance__ 이다. 위의 표와 비교해보았을 때, 영화의 subs-genre-> sub-genre-> genre를 비교하여 기여도를 따지는 것 같다. Lion King의 경우 같은 장르가 하나도 없으므로 음수가 나온 것 같다."
   ]
  },
  {
   "cell_type": "code",
   "execution_count": 133,
   "id": "christian-restaurant",
   "metadata": {},
   "outputs": [],
   "source": [
    "aladdin = title_to_idx['aladdin (1992)']\n",
    "explain = als_model.explain(user, csr_data, itemid=aladdin)"
   ]
  },
  {
   "cell_type": "code",
   "execution_count": 134,
   "id": "existing-abraham",
   "metadata": {
    "scrolled": false
   },
   "outputs": [
    {
     "data": {
      "text/plain": [
       "[('lion king, the (1994)', 0.15884641997578575),\n",
       " ('jane eyre (1996)', -0.000265039091614462),\n",
       " ('little women (1994)', -0.0016224608176249045),\n",
       " ('forrest gump(1994)', -0.0017425543071893216),\n",
       " ('persuasion (1995)', -0.008781723465079067)]"
      ]
     },
     "execution_count": 134,
     "metadata": {},
     "output_type": "execute_result"
    }
   ],
   "source": [
    "[(idx_to_title[i[0]], i[1]) for i in explain[1]]"
   ]
  },
  {
   "cell_type": "markdown",
   "id": "surgical-girlfriend",
   "metadata": {},
   "source": [
    "aladdin의 장르는 __Animation|Children's|Comedy|Musical__ 이다. lion king과 같은 장르를 가지고 있어서 추천된 것 같다. 다른 영화들은 겹치는 장르가 없으므로 음수가 나온다."
   ]
  },
  {
   "cell_type": "code",
   "execution_count": 137,
   "id": "logical-accessory",
   "metadata": {},
   "outputs": [],
   "source": [
    "quilt = title_to_idx['laura (1944)']\n",
    "explain = als_model.explain(user, csr_data, itemid=quilt)"
   ]
  },
  {
   "cell_type": "code",
   "execution_count": 138,
   "id": "sudden-applicant",
   "metadata": {
    "scrolled": false
   },
   "outputs": [
    {
     "data": {
      "text/plain": [
       "[('little women (1994)', 0.04025746243456967),\n",
       " ('persuasion (1995)', 0.038347182496363985),\n",
       " ('lion king, the (1994)', 0.025323728667959473),\n",
       " ('jane eyre (1996)', 0.013579279739006793),\n",
       " ('forrest gump(1994)', 0.001382889044907614)]"
      ]
     },
     "execution_count": 138,
     "metadata": {},
     "output_type": "execute_result"
    }
   ],
   "source": [
    "[(idx_to_title[i[0]], i[1]) for i in explain[1]]"
   ]
  },
  {
   "cell_type": "markdown",
   "id": "identical-vegetarian",
   "metadata": {},
   "source": [
    "특이하게도 laura의 장르는 __Crime|Film-Noir|Mystery__ 이다. 이 영화는 선호영화의 장르와는 겹치는 것이 없는데도 추천되었다. 그래서인지 기여도가 모두 낮은 것을 발견할 수 있다. \n",
    "\n",
    "추천된 다른 영화들의 장르를 확인했을 때, laura를 제외하고 선호영화의 장르와 겹치는 것을 발견했다. "
   ]
  },
  {
   "cell_type": "markdown",
   "id": "seven-stanley",
   "metadata": {},
   "source": [
    "## 마무리\n",
    "MF 모델을 사용하여 추천시스템을 만들어 보았다. 모델 학습의 결과가 아주 좋지 않아서 제대로 추천할까 걱정했는데, Laura 외에는 비슷한 장르로 추천이 되었다. Laura의 경우는 선호 영화의 기여도가 냊은데도 왜 추천이 되었을까 하는 궁금증이 든다. (실제로 범죄/추리물을 좋아하지 않는다.)     \n",
    "이 프로젝트에서 아쉬운 점이 있다면 데이터가 오래된 것이고, 영화에 대해 잘 몰라 추천된 영화가 정말 내가 좋아할만한 영화인지 판단할 수 없다는 것이다. 그래도 좋아하는 장르인 시대물이나 애니메이션이 많이 포함된 것으로 보아 추천이 잘 된 것 같기는 하다. \n",
    "\n",
    "\n",
    "## 루브릭\n",
    "|평가문항|\t상세기준|결과|\n",
    "|:------:|:--------:|:---:|\n",
    "|CSR matrix가 정상적으로 만들어졌다.|사용자와 아이템 개수를 바탕으로 정확한 사이즈로 만들었다.|Y     |\n",
    "|MF 모델이 정상적으로 훈련되어 그럴듯한 추천이 이루어졌다.|사용자와 아이템 벡터 내적수치가 의미있게 형성되었다.|Y     |\n",
    "|비슷한 영화 찾기와 유저에게 추천하기의 과정이 정상적으로 진행되었다.|MF모델이 예측한 유저 선호도 및 아이템간 유사도, 기여도가 의미있게 측정되었다.| Y    |"
   ]
  },
  {
   "cell_type": "markdown",
   "id": "killing-isaac",
   "metadata": {},
   "source": [
    "## 후기\n",
    "### 이번 프로젝트에서 어려웠던 점\n",
    "이번 노드는 쉽게 설명이 써 있고 추가적으로 해야할 것이 없기 때문에 그렇게 어려운 부분은 없었다. 그러나 파라미터를 변경하여도 모델의 성능이 크게 변하지 않아서 적당한 파라미터를 찾는 것이 어려웠다.\n",
    "\n",
    "### 프로젝트를 진행하면서 알게된 점\n",
    "- 필터링의 종류, MF 모델, CSR 행렬 등 유용한 개념에 대해 알게 되었다.\n",
    "- 인덱싱, 인덱싱을 뒤집기 등 유용한 코드를 배운 것 같다. \n",
    "\n",
    "### 프로젝트를 진행하면서 아직 모호한 점\n",
    "- 모델의 성능 지표에 대해 노드에서 언급하였다. 그 부분에 대해서 찾아보았는데, 실제 사용자가 추천시스템에 대해 어떻게 반응하는지를 알아야 추천시스템의 성능을 판단할 수 있을 것 같다. \n",
    "\n",
    "### 자기 다짐\n",
    "노드에서는 이번에 사용한 MF 모델 외에도 다양한 모델이 있다고 하였다. 기회가 된다면 오늘 배운 모델 외의 다양한 모델에 대해서도 공부해보고 싶다. "
   ]
  }
 ],
 "metadata": {
  "kernelspec": {
   "display_name": "aiffel",
   "language": "python",
   "name": "aiffel"
  },
  "language_info": {
   "codemirror_mode": {
    "name": "ipython",
    "version": 3
   },
   "file_extension": ".py",
   "mimetype": "text/x-python",
   "name": "python",
   "nbconvert_exporter": "python",
   "pygments_lexer": "ipython3",
   "version": "3.7.9"
  }
 },
 "nbformat": 4,
 "nbformat_minor": 5
}
